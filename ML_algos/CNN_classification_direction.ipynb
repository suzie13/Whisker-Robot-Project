{
 "cells": [
  {
   "attachments": {},
   "cell_type": "markdown",
   "metadata": {},
   "source": [
    "# Import libraries"
   ]
  },
  {
   "cell_type": "code",
   "execution_count": 2,
   "metadata": {},
   "outputs": [
    {
     "name": "stdout",
     "output_type": "stream",
     "text": [
      "Num GPUs Available:  2\n"
     ]
    }
   ],
   "source": [
    "import tensorflow as tf\n",
    "print(\"Num GPUs Available: \", len(tf.config.list_physical_devices('GPU')))\n"
   ]
  },
  {
   "cell_type": "code",
   "execution_count": 2,
   "metadata": {},
   "outputs": [],
   "source": [
    "# import os\n",
    "# os.environ[\"CUDA_VISIBLE_DEVICES\"]=\"1\""
   ]
  },
  {
   "cell_type": "code",
   "execution_count": 3,
   "metadata": {},
   "outputs": [],
   "source": [
    "import tensorflow\n",
    "from keras.layers import Dense, Dropout, Conv2D, MaxPool2D, Flatten\n",
    "from keras.utils import np_utils\n",
    "import tensorflow as tf\n",
    "import cv2\n",
    "import numpy as np\n",
    "import pandas as pd\n",
    "import os\n",
    "from keras.models import Sequential\n",
    "from sklearn import preprocessing\n",
    "import math"
   ]
  },
  {
   "attachments": {},
   "cell_type": "markdown",
   "metadata": {},
   "source": [
    "# Data Preprocessing"
   ]
  },
  {
   "cell_type": "code",
   "execution_count": 4,
   "metadata": {},
   "outputs": [
    {
     "name": "stdout",
     "output_type": "stream",
     "text": [
      "Number of rows with direction 0: 7853\n",
      "Number of rows with direction 1: 7857\n"
     ]
    }
   ],
   "source": [
    "csv_file = \"denser_data_collection.csv\" #\"denser_data_collection_marker.csv\" #\"data_collection.csv\"\n",
    "columns = ['Serial_no','Timestamp', 'x_actual', 'y_actual', 'direction', 'x_step', 'y_step']\n",
    "data_df = pd.read_csv(csv_file, header=None, names = columns)\n",
    "\n",
    "serial_numbers = data_df['Serial_no'].astype(str).apply(lambda x: int(x.split(',')[0]))\n",
    "\n",
    "image_folder = \"output_images_denser\" #\"output_images_denser_marker\" #\"cropped_noedges_new\" #\"output_images_new\" #\"images_resized_500\"\n",
    "# imagess_left = []\n",
    "# imagess_right = []\n",
    "X = []\n",
    "Y = []\n",
    "\n",
    "parsed_custom_info_left = []\n",
    "parsed_custom_info_right = []\n",
    "\n",
    "\n",
    "le = preprocessing.LabelEncoder()\n",
    "data_df['direction'] = le.fit_transform(data_df['direction'])\n",
    "\n",
    "\n",
    "count_direction_0 = data_df[data_df['direction'] == 0].shape[0]\n",
    "count_direction_1 = data_df[data_df['direction'] == 1].shape[0]\n",
    "\n",
    "\n",
    "print(\"Number of rows with direction 0:\", count_direction_0)\n",
    "print(\"Number of rows with direction 1:\", count_direction_1)\n",
    "\n",
    "\n",
    "\n",
    "serial_numbers = set(data_df['Serial_no'])\n",
    "date_time = data_df['Timestamp']\n",
    "x_coordinate = data_df['x_actual']\n",
    "y_coordinate = data_df['y_actual']\n",
    "direction = data_df['direction']\n",
    "x_step = data_df['x_step']\n",
    "y_step = data_df['y_step']\n",
    "\n",
    "\n",
    "image_files = os.listdir(image_folder)\n",
    "\n",
    "\n",
    "# contact = 0\n",
    "# non_contact = 1\n",
    "\n",
    "#Note: direction left = 0; right = 1\n",
    "\n",
    "for row in data_df.itertuples(index=False, name='data_df'):\n",
    "    serial_number = row.Serial_no\n",
    "    date_time = row.Timestamp\n",
    "    x_coordinate = row.x_actual\n",
    "    y_coordinate = row.y_actual\n",
    "    direction = row.direction\n",
    "    x_step = row.x_step\n",
    "    y_step = row.y_step\n",
    "\n",
    "\n",
    "    ############################## contact and right direction data only\n",
    "    if (110 <= y_step <= 162) and (126 >= x_step >= 2): #Keeping only the trustworthy data for training\n",
    "    # if (-30 <= y_coordinate <= -21.5) and (-3.5 >= x_coordinate >= -8): \n",
    "        if pd.notnull(x_coordinate) and pd.notnull(y_coordinate) and \\\n",
    "            direction == 1 and -12.5 <= x_coordinate <= 4.49:\n",
    "                matching_files = [filename for filename in image_files if filename.startswith(str(serial_number))]\n",
    "                if matching_files:\n",
    "                    image_name = matching_files[0]  # Assuming there is only one matching file\n",
    "                    image_path = os.path.join(image_folder, image_name)\n",
    "                    image = cv2.imread(image_path)\n",
    "                    # if image is not None: \n",
    "                    X.append(image)\n",
    "                    Y.append(direction)\n",
    "                    # parsed_custom_info_right.append([x_coordinate, y_coordinate])\n",
    "\n",
    "\n",
    "    ############################# contact and left direction data only\n",
    "    if (148 <= y_step <= 204) and (126 >= x_step >= 2): #Keeping only the trustworthy data for training\n",
    "    # if (-30 <= y_coordinate <= -21.5) and (-7.5 >= x_coordinate >= -12.5):\n",
    "        if pd.notnull(x_coordinate) and pd.notnull(y_coordinate) and \\\n",
    "            direction == 0 and -18.81 <= x_coordinate <= -3.075:\n",
    "                matching_files = [filename for filename in image_files if filename.startswith(str(serial_number))]\n",
    "                if matching_files:\n",
    "                    image_name = matching_files[0]  # Assuming there is only one matching file\n",
    "                    image_path = os.path.join(image_folder, image_name)\n",
    "                    image = cv2.imread(image_path)\n",
    "                    # if image is not None: \n",
    "                    X.append(image)\n",
    "                    Y.append(direction)"
   ]
  },
  {
   "cell_type": "code",
   "execution_count": 5,
   "metadata": {},
   "outputs": [
    {
     "name": "stdout",
     "output_type": "stream",
     "text": [
      "(15710, 7)\n"
     ]
    }
   ],
   "source": [
    "print(data_df.shape)"
   ]
  },
  {
   "cell_type": "code",
   "execution_count": 6,
   "metadata": {},
   "outputs": [
    {
     "name": "stdout",
     "output_type": "stream",
     "text": [
      "1549\n",
      "1549\n"
     ]
    }
   ],
   "source": [
    "print(len(X))\n",
    "print(len(Y))"
   ]
  },
  {
   "cell_type": "code",
   "execution_count": 7,
   "metadata": {},
   "outputs": [],
   "source": [
    "from collections import Counter"
   ]
  },
  {
   "cell_type": "code",
   "execution_count": 8,
   "metadata": {},
   "outputs": [
    {
     "data": {
      "text/plain": [
       "Counter({1: 864, 0: 685})"
      ]
     },
     "execution_count": 8,
     "metadata": {},
     "output_type": "execute_result"
    }
   ],
   "source": [
    "Counter(Y)"
   ]
  },
  {
   "cell_type": "code",
   "execution_count": 9,
   "metadata": {},
   "outputs": [
    {
     "name": "stdout",
     "output_type": "stream",
     "text": [
      "0\n"
     ]
    }
   ],
   "source": [
    "print(data_df['direction'].isnull().sum())"
   ]
  },
  {
   "cell_type": "code",
   "execution_count": 10,
   "metadata": {},
   "outputs": [
    {
     "name": "stdout",
     "output_type": "stream",
     "text": [
      "Sat Aug 19 22:23:50 2023       \n",
      "+---------------------------------------------------------------------------------------+\n",
      "| NVIDIA-SMI 535.86.05              Driver Version: 535.86.05    CUDA Version: 12.2     |\n",
      "|-----------------------------------------+----------------------+----------------------+\n",
      "| GPU  Name                 Persistence-M | Bus-Id        Disp.A | Volatile Uncorr. ECC |\n",
      "| Fan  Temp   Perf          Pwr:Usage/Cap |         Memory-Usage | GPU-Util  Compute M. |\n",
      "|                                         |                      |               MIG M. |\n",
      "|=========================================+======================+======================|\n",
      "|   0  NVIDIA RTX 6000 Ada Gene...    On  | 00000000:41:00.0 Off |                  Off |\n",
      "| 30%   46C    P8              32W / 300W |      6MiB / 49140MiB |      0%      Default |\n",
      "|                                         |                      |                  N/A |\n",
      "+-----------------------------------------+----------------------+----------------------+\n",
      "|   1  NVIDIA RTX 6000 Ada Gene...    On  | 00000000:61:00.0 Off |                  Off |\n",
      "| 30%   38C    P8              24W / 300W |      6MiB / 49140MiB |      0%      Default |\n",
      "|                                         |                      |                  N/A |\n",
      "+-----------------------------------------+----------------------+----------------------+\n",
      "                                                                                         \n",
      "+---------------------------------------------------------------------------------------+\n",
      "| Processes:                                                                            |\n",
      "|  GPU   GI   CI        PID   Type   Process name                            GPU Memory |\n",
      "|        ID   ID                                                             Usage      |\n",
      "|=======================================================================================|\n",
      "|  No running processes found                                                           |\n",
      "+---------------------------------------------------------------------------------------+\n"
     ]
    }
   ],
   "source": [
    "!nvidia-smi # A command to view the NVIDIA GPU details (especially to view the memory usage while running the code) "
   ]
  },
  {
   "cell_type": "code",
   "execution_count": 11,
   "metadata": {},
   "outputs": [],
   "source": [
    "data= list(zip(X, Y))"
   ]
  },
  {
   "cell_type": "code",
   "execution_count": 12,
   "metadata": {},
   "outputs": [],
   "source": [
    "from keras.backend import set_session"
   ]
  },
  {
   "attachments": {},
   "cell_type": "markdown",
   "metadata": {},
   "source": [
    "<b>Note</b>: the next two blocks of code and the block of code towards the end where the session is closed was \\\n",
    "used to clear GPU memory. \\\n",
    "<b>Reference</b>: https://saturncloud.io/blog/how-to-clear-tensorflow-gpu-memory-after-model-execution/\n",
    "\\\n",
    "<br>\n",
    "<b>Important</b>: It is no longer necessary to use these three blocks of code. \\\n",
    "<b>A way round this problem</b>: Just refresh the kernel of the notebook once (a few times if necessary) \\\n",
    "to ensure the GPU memory gets cleared. "
   ]
  },
  {
   "cell_type": "code",
   "execution_count": 13,
   "metadata": {},
   "outputs": [
    {
     "name": "stdout",
     "output_type": "stream",
     "text": [
      "WARNING:tensorflow:From /usr/lib/python3/dist-packages/tensorflow/python/compat/v2_compat.py:107: disable_resource_variables (from tensorflow.python.ops.variable_scope) is deprecated and will be removed in a future version.\n",
      "Instructions for updating:\n",
      "non-resource variables are not supported in the long term\n"
     ]
    }
   ],
   "source": [
    "import tensorflow.compat.v1 as tf\n",
    "tf.disable_v2_behavior()"
   ]
  },
  {
   "cell_type": "code",
   "execution_count": 14,
   "metadata": {},
   "outputs": [],
   "source": [
    "config = tf.ConfigProto()\n",
    "# config = tf.compat.v1.ConfigProto()\n",
    "config.gpu_options.allow_growth = True\n",
    "sess = tf.Session(config=config)\n",
    "set_session(sess)\n"
   ]
  },
  {
   "cell_type": "code",
   "execution_count": 15,
   "metadata": {},
   "outputs": [
    {
     "name": "stdout",
     "output_type": "stream",
     "text": [
      "1549\n"
     ]
    }
   ],
   "source": [
    "print(len(data))\n"
   ]
  },
  {
   "cell_type": "code",
   "execution_count": 16,
   "metadata": {},
   "outputs": [],
   "source": [
    "from sklearn.model_selection import train_test_split"
   ]
  },
  {
   "cell_type": "code",
   "execution_count": 17,
   "metadata": {},
   "outputs": [],
   "source": [
    "# Shuffle and split the dataset\n",
    "np.random.shuffle(data)\n",
    "\n",
    "\n",
    "# Perform stratified split\n",
    "X_train, X_test, Y_train, Y_test = train_test_split(X, Y, test_size=0.2, stratify=Y, random_state=42)"
   ]
  },
  {
   "cell_type": "code",
   "execution_count": 18,
   "metadata": {},
   "outputs": [],
   "source": [
    "X_test1 = np.array(X_test)\n",
    "X_train1 = np.array(X_train)"
   ]
  },
  {
   "cell_type": "code",
   "execution_count": 19,
   "metadata": {},
   "outputs": [],
   "source": [
    "X_test1 = X_test1.astype('float32')\n",
    "X_train1 = X_train1.astype('float32')"
   ]
  },
  {
   "cell_type": "code",
   "execution_count": 20,
   "metadata": {},
   "outputs": [],
   "source": [
    "X_test1 /= 255"
   ]
  },
  {
   "cell_type": "code",
   "execution_count": 21,
   "metadata": {},
   "outputs": [],
   "source": [
    "X_train1 /= 255"
   ]
  },
  {
   "cell_type": "code",
   "execution_count": 22,
   "metadata": {},
   "outputs": [],
   "source": [
    "Y_train = np.array(Y_train)\n",
    "Y_test = np.array(Y_test)"
   ]
  },
  {
   "cell_type": "code",
   "execution_count": 23,
   "metadata": {},
   "outputs": [
    {
     "name": "stdout",
     "output_type": "stream",
     "text": [
      "Shape X_train:  (1239, 1080, 1920, 3)\n",
      "Shape Y_train:  (1239,)\n",
      "Shape X_test:  (310, 1080, 1920, 3)\n",
      "Shape Y_test:  (310,)\n"
     ]
    }
   ],
   "source": [
    "print(\"Shape X_train: \", np.shape(X_train1))\n",
    "print(\"Shape Y_train: \", np.shape(Y_train))\n",
    "\n",
    "print(\"Shape X_test: \", np.shape(X_test1))\n",
    "print(\"Shape Y_test: \", np.shape(Y_test))"
   ]
  },
  {
   "cell_type": "code",
   "execution_count": 24,
   "metadata": {},
   "outputs": [],
   "source": [
    "from tensorflow.keras.layers import Conv2D, MaxPooling2D"
   ]
  },
  {
   "cell_type": "code",
   "execution_count": 25,
   "metadata": {},
   "outputs": [],
   "source": [
    "from keras.layers import MaxPooling2D"
   ]
  },
  {
   "attachments": {},
   "cell_type": "markdown",
   "metadata": {},
   "source": [
    "# ############################"
   ]
  },
  {
   "cell_type": "code",
   "execution_count": 26,
   "metadata": {},
   "outputs": [],
   "source": [
    "from tensorflow.keras.layers import Conv2D, MaxPooling2D, Flatten, Dense, Dropout, BatchNormalization"
   ]
  },
  {
   "attachments": {},
   "cell_type": "markdown",
   "metadata": {},
   "source": [
    "#    #######################"
   ]
  },
  {
   "cell_type": "code",
   "execution_count": 27,
   "metadata": {},
   "outputs": [],
   "source": [
    "from keras.utils import to_categorical\n",
    "\n",
    "# Convert integer labels to one-hot encoded categorical labels\n",
    "Y_train_categorical = to_categorical(Y_train, num_classes=2)  # 2 classes"
   ]
  },
  {
   "cell_type": "code",
   "execution_count": 28,
   "metadata": {},
   "outputs": [],
   "source": [
    "Y_test_categorical = to_categorical(Y_test, num_classes=2)  # 2 classes"
   ]
  },
  {
   "attachments": {},
   "cell_type": "markdown",
   "metadata": {},
   "source": [
    "# Model Training"
   ]
  },
  {
   "cell_type": "code",
   "execution_count": 29,
   "metadata": {},
   "outputs": [
    {
     "name": "stdout",
     "output_type": "stream",
     "text": [
      "WARNING:tensorflow:From /tmp/ipykernel_164881/556834726.py:13: The name tf.keras.optimizers.Adam is deprecated. Please use tf.keras.optimizers.legacy.Adam instead.\n",
      "\n",
      "Train on 1239 samples\n"
     ]
    },
    {
     "name": "stderr",
     "output_type": "stream",
     "text": [
      "2023-08-19 22:28:14.886831: W tensorflow/c/c_api.cc:304] Operation '{name:'training/Adam/conv2d/kernel/v/Assign' id:398 op device:{requested: '', assigned: ''} def:{{{node training/Adam/conv2d/kernel/v/Assign}} = AssignVariableOp[_has_manual_control_dependencies=true, dtype=DT_FLOAT, validate_shape=false](training/Adam/conv2d/kernel/v, training/Adam/conv2d/kernel/v/Initializer/zeros)}}' was changed by setting attribute after it was run by a session. This mutation will have no effect, and will trigger an error in the future. Either don't modify nodes after running them or create a new session.\n"
     ]
    },
    {
     "name": "stdout",
     "output_type": "stream",
     "text": [
      "Epoch 1/102\n",
      "1239/1239 [==============================] - 56s 45ms/sample - loss: 5.8412 - acc: 0.7571\n",
      "Epoch 2/102\n",
      "1239/1239 [==============================] - 49s 39ms/sample - loss: 0.2593 - acc: 0.9701\n",
      "Epoch 3/102\n",
      "1239/1239 [==============================] - 49s 40ms/sample - loss: 0.1672 - acc: 0.9871\n",
      "Epoch 4/102\n",
      "1239/1239 [==============================] - 48s 38ms/sample - loss: 0.0483 - acc: 0.9984\n",
      "Epoch 5/102\n",
      "1239/1239 [==============================] - 49s 40ms/sample - loss: 0.0443 - acc: 0.9976\n",
      "Epoch 6/102\n",
      "1239/1239 [==============================] - 49s 40ms/sample - loss: 0.0330 - acc: 0.9976\n",
      "Epoch 7/102\n",
      "1239/1239 [==============================] - 49s 39ms/sample - loss: 0.1580 - acc: 0.9895\n",
      "Epoch 8/102\n",
      "1239/1239 [==============================] - 48s 39ms/sample - loss: 0.0663 - acc: 0.9968\n",
      "Epoch 9/102\n",
      "1239/1239 [==============================] - 49s 40ms/sample - loss: 0.0201 - acc: 1.0000\n",
      "Epoch 10/102\n",
      "1239/1239 [==============================] - 50s 40ms/sample - loss: 0.0199 - acc: 0.9992\n",
      "Epoch 11/102\n",
      "1239/1239 [==============================] - 47s 38ms/sample - loss: 0.0174 - acc: 1.0000\n",
      "Epoch 12/102\n",
      "1239/1239 [==============================] - 47s 38ms/sample - loss: 0.0310 - acc: 0.9952\n",
      "Epoch 13/102\n",
      "1239/1239 [==============================] - 47s 38ms/sample - loss: 0.0273 - acc: 0.9976\n",
      "Epoch 14/102\n",
      "1239/1239 [==============================] - 49s 40ms/sample - loss: 0.0201 - acc: 0.9984\n",
      "Epoch 15/102\n",
      "1239/1239 [==============================] - 49s 39ms/sample - loss: 0.0144 - acc: 0.9992\n",
      "Epoch 16/102\n",
      "1239/1239 [==============================] - 49s 39ms/sample - loss: 0.0283 - acc: 0.9992\n",
      "Epoch 17/102\n",
      "1239/1239 [==============================] - 49s 39ms/sample - loss: 0.0410 - acc: 0.9976\n",
      "Epoch 18/102\n",
      "1239/1239 [==============================] - 49s 40ms/sample - loss: 0.0137 - acc: 1.0000\n",
      "Epoch 19/102\n",
      "1239/1239 [==============================] - 48s 39ms/sample - loss: 0.0117 - acc: 0.9992\n",
      "Epoch 20/102\n",
      "1239/1239 [==============================] - 49s 39ms/sample - loss: 0.0235 - acc: 0.9960\n",
      "Epoch 21/102\n",
      "1239/1239 [==============================] - 48s 39ms/sample - loss: 0.0097 - acc: 1.0000\n",
      "Epoch 22/102\n",
      "1239/1239 [==============================] - 49s 40ms/sample - loss: 0.0109 - acc: 1.0000\n",
      "Epoch 23/102\n",
      "1239/1239 [==============================] - 49s 40ms/sample - loss: 0.0126 - acc: 1.0000\n",
      "Epoch 24/102\n",
      "1239/1239 [==============================] - 49s 40ms/sample - loss: 0.0094 - acc: 1.0000\n",
      "Epoch 25/102\n",
      "1239/1239 [==============================] - 46s 37ms/sample - loss: 0.0196 - acc: 0.9976\n",
      "Epoch 26/102\n",
      "1239/1239 [==============================] - 47s 38ms/sample - loss: 0.0917 - acc: 0.9968\n",
      "Epoch 27/102\n",
      "1239/1239 [==============================] - 49s 39ms/sample - loss: 0.0294 - acc: 0.9976\n",
      "Epoch 28/102\n",
      "1239/1239 [==============================] - 49s 39ms/sample - loss: 0.0107 - acc: 1.0000\n",
      "Epoch 29/102\n",
      "1239/1239 [==============================] - 48s 39ms/sample - loss: 0.0143 - acc: 0.9984\n",
      "Epoch 30/102\n",
      "1239/1239 [==============================] - 47s 38ms/sample - loss: 0.0072 - acc: 1.0000\n",
      "Epoch 31/102\n",
      "1239/1239 [==============================] - 48s 39ms/sample - loss: 0.0096 - acc: 0.9992\n",
      "Epoch 32/102\n",
      "1239/1239 [==============================] - 48s 39ms/sample - loss: 0.0097 - acc: 0.9984\n",
      "Epoch 33/102\n",
      "1239/1239 [==============================] - 48s 39ms/sample - loss: 0.0075 - acc: 1.0000\n",
      "Epoch 34/102\n",
      "1239/1239 [==============================] - 49s 40ms/sample - loss: 0.0090 - acc: 0.9992\n",
      "Epoch 35/102\n",
      "1239/1239 [==============================] - 48s 39ms/sample - loss: 0.0068 - acc: 1.0000\n",
      "Epoch 36/102\n",
      "1239/1239 [==============================] - 49s 39ms/sample - loss: 0.0065 - acc: 1.0000\n",
      "Epoch 37/102\n",
      "1239/1239 [==============================] - 48s 39ms/sample - loss: 0.0350 - acc: 0.9960\n",
      "Epoch 38/102\n",
      "1239/1239 [==============================] - 48s 39ms/sample - loss: 0.0087 - acc: 1.0000\n",
      "Epoch 39/102\n",
      "1239/1239 [==============================] - 48s 39ms/sample - loss: 0.0060 - acc: 1.0000\n",
      "Epoch 40/102\n",
      "1239/1239 [==============================] - 49s 39ms/sample - loss: 0.0110 - acc: 0.9984\n",
      "Epoch 41/102\n",
      "1239/1239 [==============================] - 48s 39ms/sample - loss: 0.0063 - acc: 1.0000\n",
      "Epoch 42/102\n",
      "1239/1239 [==============================] - 49s 40ms/sample - loss: 0.0101 - acc: 0.9992\n",
      "Epoch 43/102\n",
      "1239/1239 [==============================] - 48s 39ms/sample - loss: 0.0070 - acc: 1.0000\n",
      "Epoch 44/102\n",
      "1239/1239 [==============================] - 47s 38ms/sample - loss: 0.0060 - acc: 0.9992\n",
      "Epoch 45/102\n",
      "1239/1239 [==============================] - 48s 38ms/sample - loss: 0.0208 - acc: 0.9984\n",
      "Epoch 46/102\n",
      "1239/1239 [==============================] - 48s 39ms/sample - loss: 0.0071 - acc: 1.0000\n",
      "Epoch 47/102\n",
      "1239/1239 [==============================] - 48s 39ms/sample - loss: 0.0053 - acc: 1.0000\n",
      "Epoch 48/102\n",
      "1239/1239 [==============================] - 49s 40ms/sample - loss: 0.0078 - acc: 0.9992\n",
      "Epoch 49/102\n",
      "1239/1239 [==============================] - 49s 39ms/sample - loss: 0.0072 - acc: 1.0000\n",
      "Epoch 50/102\n",
      "1239/1239 [==============================] - 48s 39ms/sample - loss: 0.0060 - acc: 1.0000\n",
      "Epoch 51/102\n",
      "1239/1239 [==============================] - 48s 39ms/sample - loss: 0.0134 - acc: 0.9992\n",
      "Epoch 52/102\n",
      "1239/1239 [==============================] - 47s 38ms/sample - loss: 0.0120 - acc: 0.9992\n",
      "Epoch 53/102\n",
      "1239/1239 [==============================] - 49s 39ms/sample - loss: 0.0054 - acc: 1.0000\n",
      "Epoch 54/102\n",
      "1239/1239 [==============================] - 48s 39ms/sample - loss: 0.0074 - acc: 1.0000\n",
      "Epoch 55/102\n",
      "1239/1239 [==============================] - 48s 39ms/sample - loss: 0.0051 - acc: 1.0000\n",
      "Epoch 56/102\n",
      "1239/1239 [==============================] - 47s 38ms/sample - loss: 0.0045 - acc: 1.0000\n",
      "Epoch 57/102\n",
      "1239/1239 [==============================] - 48s 39ms/sample - loss: 0.0076 - acc: 1.0000\n",
      "Epoch 58/102\n",
      "1239/1239 [==============================] - 46s 37ms/sample - loss: 0.0066 - acc: 0.9992\n",
      "Epoch 59/102\n",
      "1239/1239 [==============================] - 49s 39ms/sample - loss: 0.0060 - acc: 1.0000\n",
      "Epoch 60/102\n",
      "1239/1239 [==============================] - 48s 39ms/sample - loss: 0.0045 - acc: 1.0000\n",
      "Epoch 61/102\n",
      "1239/1239 [==============================] - 48s 39ms/sample - loss: 0.0042 - acc: 1.0000\n",
      "Epoch 62/102\n",
      "1239/1239 [==============================] - 48s 38ms/sample - loss: 0.0305 - acc: 0.9944\n",
      "Epoch 63/102\n",
      "1239/1239 [==============================] - 48s 39ms/sample - loss: 0.0181 - acc: 1.0000\n",
      "Epoch 64/102\n",
      "1239/1239 [==============================] - 47s 38ms/sample - loss: 0.0061 - acc: 1.0000\n",
      "Epoch 65/102\n",
      "1239/1239 [==============================] - 48s 39ms/sample - loss: 0.0097 - acc: 0.9992\n",
      "Epoch 66/102\n",
      "1239/1239 [==============================] - 49s 39ms/sample - loss: 0.0054 - acc: 1.0000\n",
      "Epoch 67/102\n",
      "1239/1239 [==============================] - 48s 38ms/sample - loss: 0.0041 - acc: 1.0000\n",
      "Epoch 68/102\n",
      "1239/1239 [==============================] - 48s 39ms/sample - loss: 0.0084 - acc: 1.0000\n",
      "Epoch 69/102\n",
      "1239/1239 [==============================] - 48s 39ms/sample - loss: 0.0048 - acc: 1.0000\n",
      "Epoch 70/102\n",
      "1239/1239 [==============================] - 48s 38ms/sample - loss: 0.0041 - acc: 1.0000\n",
      "Epoch 71/102\n",
      "1239/1239 [==============================] - 48s 39ms/sample - loss: 0.0092 - acc: 0.9992\n",
      "Epoch 72/102\n",
      "1239/1239 [==============================] - 48s 39ms/sample - loss: 0.0063 - acc: 1.0000\n",
      "Epoch 73/102\n",
      "1239/1239 [==============================] - 48s 39ms/sample - loss: 0.0044 - acc: 1.0000\n",
      "Epoch 74/102\n",
      "1239/1239 [==============================] - 47s 38ms/sample - loss: 0.0052 - acc: 1.0000\n",
      "Epoch 75/102\n",
      "1239/1239 [==============================] - 48s 38ms/sample - loss: 0.0053 - acc: 1.0000\n",
      "Epoch 76/102\n",
      "1239/1239 [==============================] - 49s 39ms/sample - loss: 0.0046 - acc: 1.0000\n",
      "Epoch 77/102\n",
      "1239/1239 [==============================] - 48s 39ms/sample - loss: 0.0038 - acc: 1.0000\n",
      "Epoch 78/102\n",
      "1239/1239 [==============================] - 47s 38ms/sample - loss: 0.0061 - acc: 1.0000\n",
      "Epoch 79/102\n",
      "1239/1239 [==============================] - 47s 38ms/sample - loss: 0.0088 - acc: 1.0000\n",
      "Epoch 80/102\n",
      "1239/1239 [==============================] - 47s 38ms/sample - loss: 0.0044 - acc: 1.0000\n",
      "Epoch 81/102\n",
      "1239/1239 [==============================] - 48s 39ms/sample - loss: 0.0038 - acc: 1.0000\n",
      "Epoch 82/102\n",
      "1239/1239 [==============================] - 48s 39ms/sample - loss: 0.0055 - acc: 1.0000\n",
      "Epoch 83/102\n",
      "1239/1239 [==============================] - 48s 39ms/sample - loss: 0.0041 - acc: 1.0000\n",
      "Epoch 84/102\n",
      "1239/1239 [==============================] - 47s 38ms/sample - loss: 0.0034 - acc: 1.0000\n",
      "Epoch 85/102\n",
      "1239/1239 [==============================] - 47s 38ms/sample - loss: 0.0298 - acc: 0.9952\n",
      "Epoch 86/102\n",
      "1239/1239 [==============================] - 47s 38ms/sample - loss: 0.0050 - acc: 1.0000\n",
      "Epoch 87/102\n",
      "1239/1239 [==============================] - 48s 39ms/sample - loss: 0.0037 - acc: 1.0000\n",
      "Epoch 88/102\n",
      "1239/1239 [==============================] - 48s 39ms/sample - loss: 0.0071 - acc: 0.9992\n",
      "Epoch 89/102\n",
      "1239/1239 [==============================] - 48s 39ms/sample - loss: 0.0059 - acc: 0.9992\n",
      "Epoch 90/102\n",
      "1239/1239 [==============================] - 49s 40ms/sample - loss: 0.0045 - acc: 1.0000\n",
      "Epoch 91/102\n",
      "1239/1239 [==============================] - 49s 40ms/sample - loss: 0.0036 - acc: 1.0000\n",
      "Epoch 92/102\n",
      "1239/1239 [==============================] - 48s 39ms/sample - loss: 0.0034 - acc: 1.0000\n",
      "Epoch 93/102\n",
      "1239/1239 [==============================] - 49s 40ms/sample - loss: 0.0120 - acc: 0.9984\n",
      "Epoch 94/102\n",
      "1239/1239 [==============================] - 48s 39ms/sample - loss: 0.0042 - acc: 1.0000\n",
      "Epoch 95/102\n",
      "1239/1239 [==============================] - 48s 39ms/sample - loss: 0.0051 - acc: 1.0000\n",
      "Epoch 96/102\n",
      "1239/1239 [==============================] - 49s 39ms/sample - loss: 0.0060 - acc: 1.0000\n",
      "Epoch 97/102\n",
      "1239/1239 [==============================] - 48s 39ms/sample - loss: 0.0040 - acc: 1.0000\n",
      "Epoch 98/102\n",
      "1239/1239 [==============================] - 50s 40ms/sample - loss: 0.0043 - acc: 1.0000\n",
      "Epoch 99/102\n",
      "1239/1239 [==============================] - 49s 40ms/sample - loss: 0.0033 - acc: 1.0000\n",
      "Epoch 100/102\n",
      "1239/1239 [==============================] - 48s 39ms/sample - loss: 0.0062 - acc: 1.0000\n",
      "Epoch 101/102\n",
      "1239/1239 [==============================] - 48s 39ms/sample - loss: 0.0043 - acc: 1.0000\n",
      "Epoch 102/102\n",
      "1239/1239 [==============================] - 49s 39ms/sample - loss: 0.0046 - acc: 1.0000\n"
     ]
    }
   ],
   "source": [
    "num_classes = 2 # number of classes for classification\n",
    "\n",
    "model = Sequential()\n",
    "model.add(Conv2D(32, (3, 3), activation='relu', input_shape=(1080, 1920, 3), kernel_regularizer=tf.keras.regularizers.l2(0.001)))\n",
    "model.add(MaxPooling2D((2, 2)))\n",
    "model.add(Conv2D(64, (3, 3), activation='relu', kernel_regularizer=tf.keras.regularizers.l2(0.001)))\n",
    "model.add(MaxPooling2D((2, 2)))\n",
    "model.add(Conv2D(64, (3, 3), activation='relu', kernel_regularizer=tf.keras.regularizers.l2(0.001)))\n",
    "model.add(Flatten())\n",
    "model.add(Dense(64, activation='relu', kernel_regularizer=tf.keras.regularizers.l2(0.001)))\n",
    "model.add(Dense(num_classes, activation='softmax'))  # Output layer with softmax for classification\n",
    "\n",
    "optimizer = tf.keras.optimizers.Adam(learning_rate=0.001, clipnorm=1.0)\n",
    "model.compile(optimizer=optimizer, loss='categorical_crossentropy', metrics=['accuracy'])  # Using categorical_crossentropy since classification\n",
    "\n",
    "\n",
    "# Define the checkpoint path and directory\n",
    "checkpoint_path = \"checkpoints_classification_direction_leftright/weights_epoch_{epoch:04d}.ckpt\"\n",
    "checkpoint_dir = os.path.dirname(checkpoint_path)\n",
    "\n",
    "# Check if a checkpoint file exists, if yes, load the weights\n",
    "latest = tf.train.latest_checkpoint(checkpoint_dir)\n",
    "if latest is not None:\n",
    "    print(\"Loading weights from the latest checkpoint:\", latest)\n",
    "    model.load_weights(latest)\n",
    "\n",
    "# Define batch size and calculate the number of batches per epoch\n",
    "batch_size = 8\n",
    "# n_batches = len(X_train1) // batch_size\n",
    "\n",
    "# Create a callback that saves the model's weights only at even epochs\n",
    "def save_model_at_even_epochs(epoch, logs):\n",
    "    if epoch % 1 == 0:\n",
    "        model.save_weights(checkpoint_path.format(epoch=epoch))\n",
    "\n",
    "cp_callback = tf.keras.callbacks.LambdaCallback(on_epoch_end=save_model_at_even_epochs)\n",
    "\n",
    "# Start training from the next epoch after the latest checkpoint\n",
    "start_epoch = 0\n",
    "if latest is not None:\n",
    "    # Extract the epoch number from the checkpoint path\n",
    "    start_epoch = int(latest.split(\"_\")[-1].split(\".\")[0]) + 1\n",
    "\n",
    "# Start training\n",
    "history = model.fit(X_train1, Y_train_categorical, \n",
    "                    epochs=102,\n",
    "                    initial_epoch=start_epoch,  # Start from the next epoch after the latest checkpoint\n",
    "                    batch_size=batch_size, \n",
    "                    callbacks=[cp_callback])"
   ]
  },
  {
   "attachments": {},
   "cell_type": "markdown",
   "metadata": {},
   "source": [
    "# Making preictions by loading the weights"
   ]
  },
  {
   "cell_type": "code",
   "execution_count": 27,
   "metadata": {},
   "outputs": [
    {
     "name": "stderr",
     "output_type": "stream",
     "text": [
      "/usr/lib/python3/dist-packages/keras/engine/training_v1.py:2357: UserWarning: `Model.state_updates` will be removed in a future version. This property should not be used in TensorFlow 2.0, as `updates` are applied automatically.\n",
      "  updates=self.state_updates,\n",
      "2023-07-29 15:28:53.663538: W tensorflow/c/c_api.cc:291] Operation '{name:'dense_1/BiasAdd' id:110 op device:{requested: '', assigned: ''} def:{{{node dense_1/BiasAdd}} = BiasAdd[T=DT_FLOAT, _has_manual_control_dependencies=true, data_format=\"NHWC\"](dense_1/MatMul, dense_1/BiasAdd/ReadVariableOp)}}' was changed by setting attribute after it was run by a session. This mutation will have no effect, and will trigger an error in the future. Either don't modify nodes after running them or create a new session.\n",
      "2023-07-29 15:28:54.855554: I tensorflow/compiler/xla/stream_executor/cuda/cuda_dnn.cc:428] Loaded cuDNN version 8700\n"
     ]
    },
    {
     "name": "stdout",
     "output_type": "stream",
     "text": [
      "Prediction: [[-13.773119   -24.760492     0.30121353   0.68982846]]\n"
     ]
    },
    {
     "name": "stderr",
     "output_type": "stream",
     "text": [
      "2023-07-29 15:28:55.283879: I tensorflow/compiler/xla/stream_executor/cuda/cuda_blas.cc:630] TensorFloat-32 will be used for the matrix multiplication. This will only be logged once.\n"
     ]
    }
   ],
   "source": [
    "# predictions = model.predict(X_new)\n",
    "sample_index = 5  # Replace with the index of the desired sample\n",
    "\n",
    "sample = np.expand_dims(X_test1[sample_index], axis=0) \n",
    "\n",
    "y_pred = model.predict(sample)\n",
    "\n",
    "print('Prediction:', y_pred)"
   ]
  },
  {
   "cell_type": "code",
   "execution_count": 28,
   "metadata": {},
   "outputs": [
    {
     "name": "stdout",
     "output_type": "stream",
     "text": [
      "[-14.24978661 -24.63892009   0.           1.        ]\n"
     ]
    }
   ],
   "source": [
    "print(Y_test[5])"
   ]
  },
  {
   "attachments": {},
   "cell_type": "markdown",
   "metadata": {},
   "source": [
    "# Making predictions by loading a saved model"
   ]
  },
  {
   "cell_type": "code",
   "execution_count": null,
   "metadata": {},
   "outputs": [],
   "source": [
    "import tensorflow as tf\n",
    "from tensorflow.keras.models import load_model\n",
    "\n",
    "# Load the model from the .h5 file\n",
    "model_path = \"path/to/your/model.h5\"\n",
    "model = load_model(model_path)\n",
    "\n",
    "# Assuming you have new data for prediction, you can use model.predict()\n",
    "# For example, if you have new data in X_new, you can make predictions as follows:\n",
    "# Load your new data for prediction, replace X_new with your data\n",
    "X_new = ...\n",
    "\n",
    "# Make predictions using the loaded model\n",
    "predictions = model.predict(X_new)\n",
    "\n",
    "# Print or use the predictions as required\n",
    "print(predictions)"
   ]
  },
  {
   "cell_type": "code",
   "execution_count": null,
   "metadata": {},
   "outputs": [],
   "source": [
    "model.load_weights(\"path_to_your_saved_weights.h5\")  "
   ]
  },
  {
   "cell_type": "code",
   "execution_count": 24,
   "metadata": {},
   "outputs": [
    {
     "name": "stdout",
     "output_type": "stream",
     "text": [
      "Wed Aug  9 20:46:34 2023       \n",
      "+---------------------------------------------------------------------------------------+\n",
      "| NVIDIA-SMI 535.86.05              Driver Version: 535.86.05    CUDA Version: 12.2     |\n",
      "|-----------------------------------------+----------------------+----------------------+\n",
      "| GPU  Name                 Persistence-M | Bus-Id        Disp.A | Volatile Uncorr. ECC |\n",
      "| Fan  Temp   Perf          Pwr:Usage/Cap |         Memory-Usage | GPU-Util  Compute M. |\n",
      "|                                         |                      |               MIG M. |\n",
      "|=========================================+======================+======================|\n",
      "|   0  NVIDIA RTX 6000 Ada Gene...    On  | 00000000:41:00.0 Off |                  Off |\n",
      "| 30%   44C    P8              31W / 300W |  33248MiB / 49140MiB |      0%      Default |\n",
      "|                                         |                      |                  N/A |\n",
      "+-----------------------------------------+----------------------+----------------------+\n",
      "|   1  NVIDIA RTX 6000 Ada Gene...    On  | 00000000:61:00.0 Off |                  Off |\n",
      "| 30%   38C    P8              23W / 300W |    450MiB / 49140MiB |      0%      Default |\n",
      "|                                         |                      |                  N/A |\n",
      "+-----------------------------------------+----------------------+----------------------+\n",
      "                                                                                         \n",
      "+---------------------------------------------------------------------------------------+\n",
      "| Processes:                                                                            |\n",
      "|  GPU   GI   CI        PID   Type   Process name                            GPU Memory |\n",
      "|        ID   ID                                                             Usage      |\n",
      "|=======================================================================================|\n",
      "|    0   N/A  N/A      5260      C   python                                    33222MiB |\n",
      "|    1   N/A  N/A      5260      C   python                                      424MiB |\n",
      "+---------------------------------------------------------------------------------------+\n"
     ]
    }
   ],
   "source": [
    "!nvidia-smi # A command to view the NVIDIA GPU details (especially to view the memory usage while running the code) "
   ]
  },
  {
   "attachments": {},
   "cell_type": "markdown",
   "metadata": {},
   "source": [
    "## Evaluation"
   ]
  },
  {
   "cell_type": "code",
   "execution_count": 30,
   "metadata": {},
   "outputs": [],
   "source": [
    "import matplotlib.pyplot as plt"
   ]
  },
  {
   "cell_type": "code",
   "execution_count": 51,
   "metadata": {},
   "outputs": [
    {
     "data": {
      "image/png": "[encoded data removed]",
      "text/plain": [
       "<Figure size 432x288 with 1 Axes>"
      ]
     },
     "metadata": {
      "needs_background": "light"
     },
     "output_type": "display_data"
    }
   ],
   "source": [
    "# Obtain the loss values from the training history\n",
    "loss_values = history.history['loss']\n",
    "\n",
    "# Plot the loss graph\n",
    "epochs = range(1, len(loss_values) + 1)\n",
    "plt.plot(epochs, loss_values, 'b', label='Training Loss')\n",
    "plt.title('Training Loss')\n",
    "plt.xlabel('Epochs')\n",
    "plt.ylabel('Loss')\n",
    "# plt.xlim(0, len(loss_values) + 1)\n",
    "# plt.ylim(0, max(loss_values) + 100)\n",
    "plt.grid(True)\n",
    "plt.legend()\n",
    "plt.show()"
   ]
  },
  {
   "cell_type": "code",
   "execution_count": 50,
   "metadata": {},
   "outputs": [
    {
     "data": {
      "image/png": "[encoded data removed]",
      "text/plain": [
       "<Figure size 432x288 with 1 Axes>"
      ]
     },
     "metadata": {
      "needs_background": "light"
     },
     "output_type": "display_data"
    }
   ],
   "source": [
    "# Obtain the loss values from the training history\n",
    "loss_values = history.history['loss']\n",
    "\n",
    "# Plot the loss graph\n",
    "epochs = range(1, len(loss_values) + 1)\n",
    "plt.plot(epochs, loss_values, 'b', label='Training Loss')\n",
    "plt.title('Training Loss')\n",
    "plt.xlabel('Epochs')\n",
    "plt.ylabel('Loss')\n",
    "\n",
    "plt.ylim(0, 0.25)\n",
    "plt.grid(True)\n",
    "plt.yticks([i / 40 for i in range(0, 11)])\n",
    "plt.xticks(range(0, len(loss_values) + 1, 10))\n",
    "\n",
    "\n",
    "plt.legend()\n",
    "plt.show()"
   ]
  },
  {
   "cell_type": "code",
   "execution_count": 54,
   "metadata": {},
   "outputs": [
    {
     "data": {
      "image/png": "[encoded data removed]",
      "text/plain": [
       "<Figure size 432x288 with 1 Axes>"
      ]
     },
     "metadata": {
      "needs_background": "light"
     },
     "output_type": "display_data"
    }
   ],
   "source": [
    "# Obtain the loss values from the training history\n",
    "acc_values = history.history['acc']\n",
    "\n",
    "# Convert decimal accuracy values to percentage\n",
    "accuracy_percentage = [acc * 100 for acc in acc_values]\n",
    "\n",
    "# Plot the loss graph\n",
    "epochs = range(1, len(acc_values) + 1)\n",
    "plt.plot(epochs, (accuracy_percentage), 'b', label='Training Accuracy')\n",
    "plt.title('Training Accuracy')\n",
    "plt.xlabel('Epochs')\n",
    "plt.ylabel('Accuracy(%)')\n",
    "\n",
    "# plt.ylim(0, 0.25)\n",
    "plt.grid(True)\n",
    "# plt.yticks([i / 40 for i in range(0, 11)])\n",
    "# plt.xticks(range(0, len(loss_values) + 1, 10))\n",
    "\n",
    "\n",
    "plt.legend()\n",
    "plt.show()"
   ]
  },
  {
   "cell_type": "code",
   "execution_count": 70,
   "metadata": {},
   "outputs": [
    {
     "data": {
      "image/png": "[encoded data removed]",
      "text/plain": [
       "<Figure size 720x432 with 1 Axes>"
      ]
     },
     "metadata": {
      "needs_background": "light"
     },
     "output_type": "display_data"
    }
   ],
   "source": [
    "plt.figure(figsize=(10, 6)) \n",
    "\n",
    "# Obtain the loss values from the training history\n",
    "acc_values = history.history['acc']\n",
    "\n",
    "# Convert decimal accuracy values to percentage\n",
    "accuracy_percentage = [acc * 100 for acc in acc_values]\n",
    "\n",
    "# Plot the loss graph\n",
    "epochs = range(1, len(acc_values) + 1)\n",
    "plt.plot(epochs, (accuracy_percentage), 'b', label='Training Accuracy')\n",
    "plt.title('Training Accuracy')\n",
    "plt.xlabel('Epochs')\n",
    "plt.ylabel('Accuracy(%)')\n",
    "\n",
    "plt.ylim(95, 100.1)\n",
    "# plt.yticks(range(95, 101, 1))\n",
    "plt.grid(True)\n",
    "# plt.yticks([i / 40 for i in range(0, 11)])\n",
    "# Calculate the number of ticks needed for 0.5% intervals\n",
    "# num_ticks = int((max(accuracy_percentage) - min(accuracy_percentage)) / 0.5) + 1\n",
    "num_ticks = int((max(accuracy_percentage) - 95) / 0.5) + 1\n",
    "\n",
    "\n",
    "# Set y-axis ticks at intervals of 0.5% accuracy\n",
    "plt.yticks([95 + 0.5 * i for i in range(num_ticks)])\n",
    "plt.xticks(range(0, len(acc_values) + 1, 10))\n",
    "\n",
    "\n",
    "plt.legend()\n",
    "plt.show()"
   ]
  },
  {
   "cell_type": "code",
   "execution_count": 71,
   "metadata": {},
   "outputs": [
    {
     "name": "stderr",
     "output_type": "stream",
     "text": [
      "/usr/lib/python3/dist-packages/keras/engine/training_v1.py:2335: UserWarning: `Model.state_updates` will be removed in a future version. This property should not be used in TensorFlow 2.0, as `updates` are applied automatically.\n",
      "  updates = self.state_updates\n",
      "2023-08-20 01:44:51.402048: W tensorflow/c/c_api.cc:304] Operation '{name:'loss/AddN_1' id:221 op device:{requested: '', assigned: ''} def:{{{node loss/AddN_1}} = AddN[N=2, T=DT_FLOAT, _has_manual_control_dependencies=true](loss/mul, loss/AddN)}}' was changed by setting attribute after it was run by a session. This mutation will have no effect, and will trigger an error in the future. Either don't modify nodes after running them or create a new session.\n"
     ]
    },
    {
     "name": "stdout",
     "output_type": "stream",
     "text": [
      "Test Loss: 0.005145970296355024\n",
      "Test Accuracy: 1.0\n"
     ]
    }
   ],
   "source": [
    "# Evaluate the model on the test set\n",
    "test_loss, test_accuracy = model.evaluate(X_test1, Y_test_categorical)\n",
    "\n",
    "print(\"Test Loss:\", test_loss)\n",
    "print(\"Test Accuracy:\", test_accuracy)"
   ]
  },
  {
   "cell_type": "code",
   "execution_count": 72,
   "metadata": {},
   "outputs": [],
   "source": [
    "import matplotlib.cm as cm"
   ]
  },
  {
   "cell_type": "code",
   "execution_count": 73,
   "metadata": {},
   "outputs": [],
   "source": [
    "import os\n",
    "\n",
    "checkpoint_directory = \"checkpoints_classification_direction_leftright/\""
   ]
  },
  {
   "cell_type": "code",
   "execution_count": 75,
   "metadata": {},
   "outputs": [
    {
     "data": {
      "image/png": "[encoded data removed]",
      "text/plain": [
       "<Figure size 720x360 with 2 Axes>"
      ]
     },
     "metadata": {
      "needs_background": "light"
     },
     "output_type": "display_data"
    }
   ],
   "source": [
    "checkpoint_files = [filename for filename in os.listdir(checkpoint_directory) if filename.endswith(\".ckpt.index\")]\n",
    "epoch_accuracies = {}  # Use a dictionary to store epoch accuracies\n",
    "\n",
    "for checkpoint_file in checkpoint_files:\n",
    "    filename_parts = checkpoint_file.split(\"_\")\n",
    "    epoch_part = filename_parts[2]\n",
    "    epoch_number = int(epoch_part[:4])\n",
    "\n",
    "    checkpoint_name = checkpoint_file.split(\".\")[0]\n",
    "    checkpoint_path = os.path.join(checkpoint_directory, checkpoint_name)\n",
    "    \n",
    "    model.load_weights(checkpoint_path + \".ckpt\")\n",
    "    \n",
    "    loss, accuracy = model.evaluate(X_test1, Y_test_categorical, batch_size=8, verbose=1)\n",
    "    \n",
    "    # Update the epoch accuracy in the dictionary if it's higher\n",
    "    if epoch_number not in epoch_accuracies or accuracy > epoch_accuracies[epoch_number]:\n",
    "        epoch_accuracies[epoch_number] = accuracy * 100\n",
    "\n",
    "epochs = sorted(epoch_accuracies.keys())  # Sort the epochs\n",
    "accuracies = [epoch_accuracies[epoch] for epoch in epochs]  # Get accuracies corresponding to sorted epochs\n",
    "\n",
    "\n",
    "# Create a colormap\n",
    "colormap = cm.viridis\n",
    "\n",
    "# Normalize epoch values to the colormap range\n",
    "norm = plt.Normalize(min(epochs), max(epochs))\n",
    "\n",
    "# Create a scalar mappable to map epochs to colors\n",
    "sm = plt.cm.ScalarMappable(cmap=colormap, norm=norm)\n",
    "sm.set_array([])  # Set an empty array to ensure correct color mapping\n",
    "\n",
    "plt.figure(figsize=(10, 5))\n",
    "# Use the ScalarMappable to assign colors to data points\n",
    "plt.scatter(epochs, accuracies, c=colormap(norm(epochs)), marker='o', label='Accuracy vs Epoch')\n",
    "\n",
    "# Add a colorbar to show the epoch values\n",
    "cbar = plt.colorbar(sm)\n",
    "cbar.set_label('Epoch')\n",
    "\n",
    "plt.title('Accuracy Over Epochs on Test Data')\n",
    "plt.xlabel('Epoch')\n",
    "plt.ylabel('Accuracy (%)')\n",
    "plt.grid(True)\n",
    "plt.xticks(range(0, max(epochs) + 1, 10))\n",
    "plt.yticks(range(0, 101, 5))\n",
    "\n",
    "plt.tight_layout()\n",
    "plt.show()"
   ]
  },
  {
   "cell_type": "code",
   "execution_count": 79,
   "metadata": {},
   "outputs": [
    {
     "data": {
      "image/png": "[encoded data removed]",
      "text/plain": [
       "<Figure size 864x648 with 2 Axes>"
      ]
     },
     "metadata": {
      "needs_background": "light"
     },
     "output_type": "display_data"
    }
   ],
   "source": [
    "checkpoint_files = [filename for filename in os.listdir(checkpoint_directory) if filename.endswith(\".ckpt.index\")]\n",
    "epoch_accuracies = {}  # Use a dictionary to store epoch accuracies\n",
    "\n",
    "for checkpoint_file in checkpoint_files:\n",
    "    filename_parts = checkpoint_file.split(\"_\")\n",
    "    epoch_part = filename_parts[2]\n",
    "    epoch_number = int(epoch_part[:4])\n",
    "\n",
    "    checkpoint_name = checkpoint_file.split(\".\")[0]\n",
    "    checkpoint_path = os.path.join(checkpoint_directory, checkpoint_name)\n",
    "    \n",
    "    model.load_weights(checkpoint_path + \".ckpt\")\n",
    "    \n",
    "    loss, accuracy = model.evaluate(X_test1, Y_test_categorical, batch_size=8, verbose=1)\n",
    "    \n",
    "    # Update the epoch accuracy in the dictionary if it's higher\n",
    "    if epoch_number not in epoch_accuracies or accuracy > epoch_accuracies[epoch_number]:\n",
    "        epoch_accuracies[epoch_number] = accuracy * 100\n",
    "\n",
    "epochs = sorted(epoch_accuracies.keys())  # Sort the epochs\n",
    "accuracies = [epoch_accuracies[epoch] for epoch in epochs]  # Get accuracies corresponding to sorted epochs\n",
    "\n",
    "# Create a colormap\n",
    "colormap = cm.viridis\n",
    "\n",
    "# Normalize epoch values to the colormap range\n",
    "norm = plt.Normalize(min(epochs), max(epochs))\n",
    "\n",
    "# Create a scalar mappable to map epochs to colors\n",
    "sm = plt.cm.ScalarMappable(cmap=colormap, norm=norm)\n",
    "sm.set_array([])  # Set an empty array to ensure correct color mapping\n",
    "\n",
    "plt.figure(figsize=(12, 9))\n",
    "# Use the ScalarMappable to assign colors to data points\n",
    "plt.scatter(epochs, accuracies, c=colormap(norm(epochs)), marker='o', label='Accuracy vs Epoch')\n",
    "\n",
    "# Add a colorbar to show the epoch values\n",
    "cbar = plt.colorbar(sm)\n",
    "cbar.set_label('Epoch')\n",
    "\n",
    "plt.title('Accuracy Over Epochs on Test Data')\n",
    "plt.xlabel('Epoch')\n",
    "plt.ylabel('Accuracy (%)')\n",
    "plt.grid(True)\n",
    "plt.xticks(range(0, max(epochs) + 1, 10))\n",
    "plt.yticks(range(50, 101, 1))\n",
    "\n",
    "plt.tight_layout()\n",
    "plt.show()"
   ]
  },
  {
   "cell_type": "code",
   "execution_count": 82,
   "metadata": {},
   "outputs": [
    {
     "data": {
      "image/png": "[encoded data removed]",
      "text/plain": [
       "<Figure size 720x432 with 2 Axes>"
      ]
     },
     "metadata": {
      "needs_background": "light"
     },
     "output_type": "display_data"
    }
   ],
   "source": [
    "checkpoint_files = [filename for filename in os.listdir(checkpoint_directory) if filename.endswith(\".ckpt.index\")]\n",
    "epoch_losses = {}  # Use a dictionary to store epoch losses\n",
    "\n",
    "for checkpoint_file in checkpoint_files:\n",
    "    filename_parts = checkpoint_file.split(\"_\")\n",
    "    epoch_part = filename_parts[2]\n",
    "    epoch_number = int(epoch_part[:4])\n",
    "\n",
    "    checkpoint_name = checkpoint_file.split(\".\")[0]\n",
    "    checkpoint_path = os.path.join(checkpoint_directory, checkpoint_name)\n",
    "    \n",
    "    model.load_weights(checkpoint_path + \".ckpt\")\n",
    "    \n",
    "    loss, accuracy = model.evaluate(X_test1, Y_test_categorical, batch_size=8, verbose=1)\n",
    "    \n",
    "    # Update the epoch loss in the dictionary if it's lower\n",
    "    if epoch_number not in epoch_losses or loss < epoch_losses[epoch_number]:\n",
    "        epoch_losses[epoch_number] = loss\n",
    "\n",
    "epochs = sorted(epoch_losses.keys())  # Sort the epochs\n",
    "losses = [epoch_losses[epoch] for epoch in epochs]  # Get losses corresponding to sorted epochs\n",
    "\n",
    "\n",
    "# Create a colormap\n",
    "colormap = cm.viridis\n",
    "\n",
    "# Normalize epoch values to the colormap range\n",
    "norm = plt.Normalize(min(epochs), max(epochs))\n",
    "\n",
    "# Create a scalar mappable to map epochs to colors\n",
    "sm = plt.cm.ScalarMappable(cmap=colormap, norm=norm)\n",
    "sm.set_array([])  # Set an empty array to ensure correct color mapping\n",
    "\n",
    "plt.figure(figsize=(10, 6))\n",
    "# Use the ScalarMappable to assign colors to data points\n",
    "plt.scatter(epochs, losses, c=colormap(norm(epochs)), marker='o', label='Loss vs Epoch')\n",
    "\n",
    "# Add a colorbar to show the epoch values\n",
    "cbar = plt.colorbar(sm)\n",
    "cbar.set_label('Epoch')\n",
    "\n",
    "# plt.plot(losses, marker='o')\n",
    "plt.title('Loss Over Epochs on Test Data')\n",
    "plt.xlabel('Epoch')\n",
    "plt.ylabel('Loss')\n",
    "# plt.ylim(0, 0.5)\n",
    "# plt.xlim(0, 200)\n",
    "\n",
    "plt.grid(True)\n",
    "\n",
    "# Set the x-axis ticks to display every 10 epochs\n",
    "plt.xticks(range(0, 105 + 1, 10))\n",
    "\n",
    "# Draw grid lines on the y-axis at every 0.025 loss interval\n",
    "# plt.yticks([i / 40 for i in range(36)])\n",
    "\n",
    "\n",
    "plt.tight_layout()\n",
    "plt.show()"
   ]
  },
  {
   "cell_type": "code",
   "execution_count": 36,
   "metadata": {},
   "outputs": [],
   "source": [
    "from sklearn.metrics import mean_squared_error, mean_absolute_error, r2_score\n"
   ]
  },
  {
   "cell_type": "code",
   "execution_count": null,
   "metadata": {},
   "outputs": [],
   "source": []
  },
  {
   "attachments": {},
   "cell_type": "markdown",
   "metadata": {},
   "source": [
    "## Testing"
   ]
  },
  {
   "cell_type": "markdown",
   "metadata": {},
   "source": []
  },
  {
   "cell_type": "code",
   "execution_count": 84,
   "metadata": {},
   "outputs": [
    {
     "name": "stdout",
     "output_type": "stream",
     "text": [
      "Prediction: [[9.9999523e-01 4.8208358e-06]]\n"
     ]
    }
   ],
   "source": [
    "sample_index = 6  # Replace with the index of the desired sample\n",
    "\n",
    "sample = np.expand_dims(X_test1[sample_index], axis=0) \n",
    "\n",
    "y_pred = model.predict(sample)\n",
    "\n",
    "print('Prediction:', y_pred)"
   ]
  },
  {
   "cell_type": "code",
   "execution_count": 5,
   "metadata": {},
   "outputs": [],
   "source": [
    "sess.close()\n",
    "tf.reset_default_graph()\n"
   ]
  },
  {
   "cell_type": "code",
   "execution_count": 1,
   "metadata": {},
   "outputs": [
    {
     "name": "stdout",
     "output_type": "stream",
     "text": [
      "Fri Jul 28 10:38:01 2023       \n",
      "+-----------------------------------------------------------------------------+\n",
      "| NVIDIA-SMI 525.116.04   Driver Version: 525.116.04   CUDA Version: 12.0     |\n",
      "|-------------------------------+----------------------+----------------------+\n",
      "| GPU  Name        Persistence-M| Bus-Id        Disp.A | Volatile Uncorr. ECC |\n",
      "| Fan  Temp  Perf  Pwr:Usage/Cap|         Memory-Usage | GPU-Util  Compute M. |\n",
      "|                               |                      |               MIG M. |\n",
      "|===============================+======================+======================|\n",
      "|   0  NVIDIA RTX 6000...  On   | 00000000:41:00.0 Off |                  Off |\n",
      "| 55%   77C    P2   270W / 300W |  40369MiB / 49140MiB |    100%      Default |\n",
      "|                               |                      |                  N/A |\n",
      "+-------------------------------+----------------------+----------------------+\n",
      "|   1  NVIDIA RTX 6000...  On   | 00000000:61:00.0 Off |                  Off |\n",
      "| 30%   32C    P8    25W / 300W |      3MiB / 49140MiB |      0%      Default |\n",
      "|                               |                      |                  N/A |\n",
      "+-------------------------------+----------------------+----------------------+\n",
      "                                                                               \n",
      "+-----------------------------------------------------------------------------+\n",
      "| Processes:                                                                  |\n",
      "|  GPU   GI   CI        PID   Type   Process name                  GPU Memory |\n",
      "|        ID   ID                                                   Usage      |\n",
      "|=============================================================================|\n",
      "|    0   N/A  N/A   3950446      C   python3                         40366MiB |\n",
      "+-----------------------------------------------------------------------------+\n"
     ]
    }
   ],
   "source": [
    "!nvidia-smi # A command to view the NVIDIA GPU details (especially to view the memory usage while running the code) "
   ]
  },
  {
   "cell_type": "code",
   "execution_count": null,
   "metadata": {},
   "outputs": [],
   "source": []
  }
 ],
 "metadata": {
  "kernelspec": {
   "display_name": "Python 3 (ipykernel)",
   "language": "python",
   "name": "python3"
  },
  "language_info": {
   "name": "python",
   "version": "3.10.12 (main, Jun 11 2023, 05:26:28) [GCC 11.4.0]"
  },
  "orig_nbformat": 4,
  "vscode": {
   "interpreter": {
    "hash": "916dbcbb3f70747c44a77c7bcd40155683ae19c65e1c03b4aa3499c5328201f1"
   }
  }
 },
 "nbformat": 4,
 "nbformat_minor": 2
}
