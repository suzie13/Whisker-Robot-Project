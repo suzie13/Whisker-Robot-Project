{
 "cells": [
  {
   "attachments": {},
   "cell_type": "markdown",
   "metadata": {},
   "source": [
    "# Import Libraries"
   ]
  },
  {
   "cell_type": "code",
   "execution_count": 2,
   "metadata": {},
   "outputs": [
    {
     "name": "stdout",
     "output_type": "stream",
     "text": [
      "Num GPUs Available:  2\n"
     ]
    }
   ],
   "source": [
    "import tensorflow as tf\n",
    "print(\"Num GPUs Available: \", len(tf.config.list_physical_devices('GPU')))\n"
   ]
  },
  {
   "cell_type": "code",
   "execution_count": 2,
   "metadata": {},
   "outputs": [],
   "source": [
    "# import os\n",
    "# os.environ[\"CUDA_VISIBLE_DEVICES\"]=\"1\""
   ]
  },
  {
   "cell_type": "code",
   "execution_count": 3,
   "metadata": {},
   "outputs": [],
   "source": [
    "import tensorflow\n",
    "from keras.layers import Dense, Dropout, Conv2D, MaxPool2D, Flatten\n",
    "from keras.utils import np_utils\n",
    "import tensorflow as tf\n",
    "import cv2\n",
    "import numpy as np\n",
    "import pandas as pd\n",
    "import os\n",
    "from keras.models import Sequential\n",
    "from sklearn import preprocessing\n",
    "import math"
   ]
  },
  {
   "attachments": {},
   "cell_type": "markdown",
   "metadata": {},
   "source": [
    "# Data Preprocessing"
   ]
  },
  {
   "cell_type": "code",
   "execution_count": 4,
   "metadata": {},
   "outputs": [
    {
     "name": "stdout",
     "output_type": "stream",
     "text": [
      "Number of rows with direction 0: 7853\n",
      "Number of rows with direction 1: 7857\n"
     ]
    }
   ],
   "source": [
    "csv_file = \"denser_data_collection.csv\" #\"denser_data_collection_marker.csv\" #\"data_collection.csv\"\n",
    "columns = ['Serial_no','Timestamp', 'x_actual', 'y_actual', 'direction', 'x_step', 'y_step']\n",
    "data_df = pd.read_csv(csv_file, header=None, names = columns)\n",
    "\n",
    "serial_numbers = data_df['Serial_no'].astype(str).apply(lambda x: int(x.split(',')[0]))\n",
    "\n",
    "image_folder = \"output_images_denser\" #\"output_images_denser_marker\" #\"cropped_noedges_new\" #\"output_images_new\" #\"images_resized_500\"\n",
    "imagess_left = []\n",
    "imagess_right = []\n",
    "\n",
    "parsed_custom_info_left = []\n",
    "parsed_custom_info_right = []\n",
    "\n",
    "\n",
    "le = preprocessing.LabelEncoder()\n",
    "data_df['direction'] = le.fit_transform(data_df['direction'])\n",
    "\n",
    "\n",
    "count_direction_0 = data_df[data_df['direction'] == 0].shape[0]\n",
    "count_direction_1 = data_df[data_df['direction'] == 1].shape[0]\n",
    "\n",
    "\n",
    "print(\"Number of rows with direction 0:\", count_direction_0)\n",
    "print(\"Number of rows with direction 1:\", count_direction_1)\n",
    "\n",
    "\n",
    "\n",
    "serial_numbers = set(data_df['Serial_no'])\n",
    "date_time = data_df['Timestamp']\n",
    "x_coordinate = data_df['x_actual']\n",
    "y_coordinate = data_df['y_actual']\n",
    "direction = data_df['direction']\n",
    "x_step = data_df['x_step']\n",
    "y_step = data_df['y_step']\n",
    "\n",
    "\n",
    "image_files = os.listdir(image_folder)\n",
    "\n",
    "\n",
    "contact = 0\n",
    "non_contact = 1\n",
    "\n",
    "for row in data_df.itertuples(index=False, name='data_df'):\n",
    "    serial_number = row.Serial_no\n",
    "    date_time = row.Timestamp\n",
    "    x_coordinate = row.x_actual\n",
    "    y_coordinate = row.y_actual\n",
    "    direction = row.direction\n",
    "    x_step = row.x_step\n",
    "    y_step = row.y_step\n",
    "\n",
    "\n",
    "    ############################## contact and right direction data only\n",
    "    if (110 <= y_step <= 162) and (126 >= x_step >= 2): #Keeping only the trustworthy data for training\n",
    "    # if (-30 <= y_coordinate <= -21.5) and (-3.5 >= x_coordinate >= -8): \n",
    "        if pd.notnull(x_coordinate) and pd.notnull(y_coordinate) and \\\n",
    "            direction == 1 and -12.5 <= x_coordinate <= 4.49:\n",
    "                matching_files = [filename for filename in image_files if filename.startswith(str(serial_number))]\n",
    "                if matching_files:\n",
    "                    image_name = matching_files[0]  # Assuming there is only one matching file\n",
    "                    image_path = os.path.join(image_folder, image_name)\n",
    "                    image = cv2.imread(image_path)\n",
    "                    # if image is not None: \n",
    "                    imagess_right.append(image)\n",
    "                    parsed_custom_info_right.append([x_coordinate, y_coordinate])\n",
    "\n",
    "\n",
    "    ############################# contact and left direction data only\n",
    "    if (148 <= y_step <= 204) and (126 >= x_step >= 2): #Keeping only the trustworthy data for training\n",
    "    # if (-30 <= y_coordinate <= -21.5) and (-7.5 >= x_coordinate >= -12.5):\n",
    "        if pd.notnull(x_coordinate) and pd.notnull(y_coordinate) and \\\n",
    "            direction == 0 and -18.81 <= x_coordinate <= -3.075:\n",
    "                matching_files = [filename for filename in image_files if filename.startswith(str(serial_number))]\n",
    "                if matching_files:\n",
    "                    image_name = matching_files[0]  # Assuming there is only one matching file\n",
    "                    image_path = os.path.join(image_folder, image_name)\n",
    "                    image = cv2.imread(image_path)\n",
    "                    # if image is not None: \n",
    "                    imagess_left.append(image)\n",
    "                    parsed_custom_info_left.append([x_coordinate, y_coordinate])"
   ]
  },
  {
   "cell_type": "code",
   "execution_count": 5,
   "metadata": {},
   "outputs": [
    {
     "name": "stdout",
     "output_type": "stream",
     "text": [
      "(15710, 7)\n"
     ]
    }
   ],
   "source": [
    "print(data_df.shape)"
   ]
  },
  {
   "cell_type": "code",
   "execution_count": 6,
   "metadata": {},
   "outputs": [
    {
     "name": "stdout",
     "output_type": "stream",
     "text": [
      "685\n",
      "685\n"
     ]
    }
   ],
   "source": [
    "print(len(imagess_left))\n",
    "print(len(parsed_custom_info_left))"
   ]
  },
  {
   "cell_type": "code",
   "execution_count": 6,
   "metadata": {},
   "outputs": [
    {
     "name": "stdout",
     "output_type": "stream",
     "text": [
      "11357\n"
     ]
    }
   ],
   "source": [
    "# print(len(imagess))"
   ]
  },
  {
   "cell_type": "code",
   "execution_count": 7,
   "metadata": {},
   "outputs": [
    {
     "name": "stdout",
     "output_type": "stream",
     "text": [
      "11357\n"
     ]
    }
   ],
   "source": [
    "# print(len(parsed_custom_info))"
   ]
  },
  {
   "cell_type": "code",
   "execution_count": 7,
   "metadata": {},
   "outputs": [
    {
     "name": "stdout",
     "output_type": "stream",
     "text": [
      "864\n",
      "864\n"
     ]
    }
   ],
   "source": [
    "print(len(imagess_right))\n",
    "print(len(parsed_custom_info_right))"
   ]
  },
  {
   "cell_type": "code",
   "execution_count": 8,
   "metadata": {},
   "outputs": [
    {
     "name": "stdout",
     "output_type": "stream",
     "text": [
      "0\n"
     ]
    }
   ],
   "source": [
    "print(data_df['direction'].isnull().sum())"
   ]
  },
  {
   "cell_type": "code",
   "execution_count": 9,
   "metadata": {},
   "outputs": [
    {
     "name": "stdout",
     "output_type": "stream",
     "text": [
      "Thu Aug 24 07:46:36 2023       \n",
      "+---------------------------------------------------------------------------------------+\n",
      "| NVIDIA-SMI 535.86.05              Driver Version: 535.86.05    CUDA Version: 12.2     |\n",
      "|-----------------------------------------+----------------------+----------------------+\n",
      "| GPU  Name                 Persistence-M | Bus-Id        Disp.A | Volatile Uncorr. ECC |\n",
      "| Fan  Temp   Perf          Pwr:Usage/Cap |         Memory-Usage | GPU-Util  Compute M. |\n",
      "|                                         |                      |               MIG M. |\n",
      "|=========================================+======================+======================|\n",
      "|   0  NVIDIA RTX 6000 Ada Gene...    On  | 00000000:41:00.0 Off |                  Off |\n",
      "| 30%   42C    P8              29W / 300W |      6MiB / 49140MiB |      0%      Default |\n",
      "|                                         |                      |                  N/A |\n",
      "+-----------------------------------------+----------------------+----------------------+\n",
      "|   1  NVIDIA RTX 6000 Ada Gene...    On  | 00000000:61:00.0 Off |                  Off |\n",
      "| 30%   38C    P8              23W / 300W |      6MiB / 49140MiB |      0%      Default |\n",
      "|                                         |                      |                  N/A |\n",
      "+-----------------------------------------+----------------------+----------------------+\n",
      "                                                                                         \n",
      "+---------------------------------------------------------------------------------------+\n",
      "| Processes:                                                                            |\n",
      "|  GPU   GI   CI        PID   Type   Process name                            GPU Memory |\n",
      "|        ID   ID                                                             Usage      |\n",
      "|=======================================================================================|\n",
      "|  No running processes found                                                           |\n",
      "+---------------------------------------------------------------------------------------+\n"
     ]
    }
   ],
   "source": [
    "!nvidia-smi # A command to view the NVIDIA GPU details (especially to view the memory usage while running the code) "
   ]
  },
  {
   "cell_type": "code",
   "execution_count": 10,
   "metadata": {},
   "outputs": [],
   "source": [
    "data_left = list(zip(imagess_left, parsed_custom_info_left))\n",
    "data_right = list(zip(imagess_right, parsed_custom_info_right))\n"
   ]
  },
  {
   "cell_type": "code",
   "execution_count": 11,
   "metadata": {},
   "outputs": [],
   "source": [
    "from keras.backend import set_session"
   ]
  },
  {
   "attachments": {},
   "cell_type": "markdown",
   "metadata": {},
   "source": [
    "<b>Note</b>: the next two blocks of code and the block of code towards the end where the session is closed was \\\n",
    "used to clear GPU memory. \\\n",
    "<b>Reference</b>: https://saturncloud.io/blog/how-to-clear-tensorflow-gpu-memory-after-model-execution/\n",
    "\\\n",
    "<br>\n",
    "<b>Important</b>: It is no longer necessary to use these three blocks of code. \\\n",
    "<b>A way round this problem</b>: Just refresh the kernel of the notebook once (a few times if necessary) \\\n",
    "to ensure the GPU memory gets cleared. "
   ]
  },
  {
   "cell_type": "code",
   "execution_count": 12,
   "metadata": {},
   "outputs": [
    {
     "name": "stdout",
     "output_type": "stream",
     "text": [
      "WARNING:tensorflow:From /usr/lib/python3/dist-packages/tensorflow/python/compat/v2_compat.py:107: disable_resource_variables (from tensorflow.python.ops.variable_scope) is deprecated and will be removed in a future version.\n",
      "Instructions for updating:\n",
      "non-resource variables are not supported in the long term\n"
     ]
    }
   ],
   "source": [
    "import tensorflow.compat.v1 as tf\n",
    "tf.disable_v2_behavior()"
   ]
  },
  {
   "cell_type": "code",
   "execution_count": 13,
   "metadata": {},
   "outputs": [],
   "source": [
    "config = tf.ConfigProto()\n",
    "# config = tf.compat.v1.ConfigProto()\n",
    "config.gpu_options.allow_growth = True\n",
    "sess = tf.Session(config=config)\n",
    "set_session(sess)\n"
   ]
  },
  {
   "cell_type": "code",
   "execution_count": 14,
   "metadata": {},
   "outputs": [
    {
     "name": "stdout",
     "output_type": "stream",
     "text": [
      "685\n",
      "864\n"
     ]
    }
   ],
   "source": [
    "print(len(data_left))\n",
    "print(len(data_right))"
   ]
  },
  {
   "cell_type": "code",
   "execution_count": 15,
   "metadata": {},
   "outputs": [],
   "source": [
    "# Shuffle and split the dataset\n",
    "np.random.shuffle(data_left)\n",
    "train_ratio_left = 0.8\n",
    "train_size_left = int(len(data_left) * train_ratio_left)\n",
    "\n",
    "train_data_left = data_left[:train_size_left]\n",
    "test_data_left = data_left[train_size_left:]\n",
    "\n",
    "X_train_left = [item[0] for item in train_data_left]\n",
    "Y_train_left = [item[1] for item in train_data_left]\n",
    "\n",
    "X_test_left = [item[0] for item in test_data_left]\n",
    "Y_test_left = [item[1] for item in test_data_left]\n",
    "\n",
    "# Shuffle and split the dataset\n",
    "np.random.shuffle(data_right)\n",
    "train_ratio_right = 0.8\n",
    "train_size_right = int(len(data_right) * train_ratio_right)\n",
    "\n",
    "train_data_right = data_right[:train_size_right]\n",
    "test_data_right = data_right[train_size_right:]\n",
    "\n",
    "X_train_right = [item[0] for item in train_data_right]\n",
    "Y_train_right = [item[1] for item in train_data_right]\n",
    "\n",
    "X_test_right = [item[0] for item in test_data_right]\n",
    "Y_test_right = [item[1] for item in test_data_right]"
   ]
  },
  {
   "cell_type": "code",
   "execution_count": 16,
   "metadata": {},
   "outputs": [],
   "source": [
    "X_test1_left = np.array(X_test_left)\n",
    "X_train1_left = np.array(X_train_left)\n",
    "\n",
    "X_test1_right = np.array(X_test_right)\n",
    "X_train1_right = np.array(X_train_right)"
   ]
  },
  {
   "cell_type": "code",
   "execution_count": 17,
   "metadata": {},
   "outputs": [],
   "source": [
    "X_test1_left = X_test1_left.astype('float32')\n",
    "X_train1_left = X_train1_left.astype('float32')\n",
    "\n",
    "X_test1_right = X_test1_right.astype('float32')\n",
    "X_train1_right = X_train1_right.astype('float32')"
   ]
  },
  {
   "cell_type": "code",
   "execution_count": 18,
   "metadata": {},
   "outputs": [],
   "source": [
    "X_test1_left /= 255\n",
    "X_test1_right /= 255"
   ]
  },
  {
   "cell_type": "code",
   "execution_count": 19,
   "metadata": {},
   "outputs": [],
   "source": [
    "X_train1_left /= 255\n",
    "X_train1_right /= 255"
   ]
  },
  {
   "cell_type": "code",
   "execution_count": 20,
   "metadata": {},
   "outputs": [],
   "source": [
    "Y_train_left = np.array(Y_train_left)\n",
    "Y_test_left = np.array(Y_test_left)\n",
    "\n",
    "Y_train_right = np.array(Y_train_right)\n",
    "Y_test_right = np.array(Y_test_right)"
   ]
  },
  {
   "cell_type": "code",
   "execution_count": 21,
   "metadata": {},
   "outputs": [
    {
     "name": "stdout",
     "output_type": "stream",
     "text": [
      "Shape X_train_left:  (548, 1080, 1920, 3)\n",
      "Shape Y_train_left:  (548, 2)\n",
      "Shape X_test_left:  (137, 1080, 1920, 3)\n",
      "Shape Y_test_left:  (137, 2)\n",
      "Shape X_train_right:  (691, 1080, 1920, 3)\n",
      "Shape Y_train_right:  (691, 2)\n",
      "Shape X_test_right:  (173, 1080, 1920, 3)\n",
      "Shape Y_test_right:  (173, 2)\n"
     ]
    }
   ],
   "source": [
    "print(\"Shape X_train_left: \", np.shape(X_train1_left))\n",
    "print(\"Shape Y_train_left: \", np.shape(Y_train_left))\n",
    "\n",
    "print(\"Shape X_test_left: \", np.shape(X_test1_left))\n",
    "print(\"Shape Y_test_left: \", np.shape(Y_test_left))\n",
    "\n",
    "print(\"Shape X_train_right: \", np.shape(X_train1_right))\n",
    "print(\"Shape Y_train_right: \", np.shape(Y_train_right))\n",
    "\n",
    "print(\"Shape X_test_right: \", np.shape(X_test1_right))\n",
    "print(\"Shape Y_test_right: \", np.shape(Y_test_right))"
   ]
  },
  {
   "cell_type": "code",
   "execution_count": 22,
   "metadata": {},
   "outputs": [],
   "source": [
    "from tensorflow.keras.layers import Conv2D, MaxPooling2D"
   ]
  },
  {
   "cell_type": "code",
   "execution_count": 23,
   "metadata": {},
   "outputs": [],
   "source": [
    "from keras.layers import MaxPooling2D"
   ]
  },
  {
   "attachments": {},
   "cell_type": "markdown",
   "metadata": {},
   "source": [
    "# ############################"
   ]
  },
  {
   "cell_type": "code",
   "execution_count": 26,
   "metadata": {},
   "outputs": [],
   "source": [
    "# Y_train = np.nan_to_num(Y_train)\n"
   ]
  },
  {
   "cell_type": "code",
   "execution_count": 26,
   "metadata": {},
   "outputs": [
    {
     "data": {
      "text/plain": [
       "12028"
      ]
     },
     "execution_count": 26,
     "metadata": {},
     "output_type": "execute_result"
    }
   ],
   "source": [
    "# len(X_train1)"
   ]
  },
  {
   "cell_type": "code",
   "execution_count": 27,
   "metadata": {},
   "outputs": [
    {
     "name": "stdout",
     "output_type": "stream",
     "text": [
      "375.875\n"
     ]
    }
   ],
   "source": [
    "# n_batches = len(X_train1) / 32\n",
    "# print(n_batches)"
   ]
  },
  {
   "cell_type": "code",
   "execution_count": 28,
   "metadata": {},
   "outputs": [
    {
     "name": "stdout",
     "output_type": "stream",
     "text": [
      "376\n"
     ]
    }
   ],
   "source": [
    "# n_batches = math.ceil(n_batches)\n",
    "# print(n_batches)"
   ]
  },
  {
   "attachments": {},
   "cell_type": "markdown",
   "metadata": {},
   "source": [
    "#    #######################"
   ]
  },
  {
   "attachments": {},
   "cell_type": "markdown",
   "metadata": {},
   "source": [
    "# Model Training on the left direction data"
   ]
  },
  {
   "cell_type": "code",
   "execution_count": 31,
   "metadata": {},
   "outputs": [
    {
     "name": "stdout",
     "output_type": "stream",
     "text": [
      "WARNING:tensorflow:From /tmp/ipykernel_6724/2148127908.py:13: The name tf.keras.optimizers.Adam is deprecated. Please use tf.keras.optimizers.legacy.Adam instead.\n",
      "\n",
      "Train on 544 samples\n",
      "Epoch 1/206\n"
     ]
    },
    {
     "name": "stderr",
     "output_type": "stream",
     "text": [
      "2023-08-10 11:01:27.597801: W tensorflow/c/c_api.cc:304] Operation '{name:'training/Adam/dense_1/kernel/m/Assign' id:352 op device:{requested: '', assigned: ''} def:{{{node training/Adam/dense_1/kernel/m/Assign}} = AssignVariableOp[_has_manual_control_dependencies=true, dtype=DT_FLOAT, validate_shape=false](training/Adam/dense_1/kernel/m, training/Adam/dense_1/kernel/m/Initializer/zeros)}}' was changed by setting attribute after it was run by a session. This mutation will have no effect, and will trigger an error in the future. Either don't modify nodes after running them or create a new session.\n"
     ]
    },
    {
     "name": "stdout",
     "output_type": "stream",
     "text": [
      "544/544 [==============================] - 29s 53ms/sample - loss: 1819.3929\n",
      "Epoch 2/206\n",
      "544/544 [==============================] - 20s 36ms/sample - loss: 25.3256\n",
      "Epoch 3/206\n",
      "544/544 [==============================] - 20s 38ms/sample - loss: 9.1247\n",
      "Epoch 4/206\n",
      "544/544 [==============================] - 21s 38ms/sample - loss: 8.3419\n",
      "Epoch 5/206\n",
      "544/544 [==============================] - 20s 36ms/sample - loss: 14.6241\n",
      "Epoch 6/206\n",
      "544/544 [==============================] - 23s 43ms/sample - loss: 8.9965\n",
      "Epoch 7/206\n",
      "544/544 [==============================] - 20s 37ms/sample - loss: 7.2976\n",
      "Epoch 8/206\n",
      "544/544 [==============================] - 20s 37ms/sample - loss: 5.8113\n",
      "Epoch 9/206\n",
      "544/544 [==============================] - 20s 36ms/sample - loss: 7.6727\n",
      "Epoch 10/206\n",
      "544/544 [==============================] - 20s 36ms/sample - loss: 7.2823\n",
      "Epoch 11/206\n",
      "544/544 [==============================] - 24s 44ms/sample - loss: 5.3843\n",
      "Epoch 12/206\n",
      "544/544 [==============================] - 19s 36ms/sample - loss: 5.8378\n",
      "Epoch 13/206\n",
      "544/544 [==============================] - 19s 35ms/sample - loss: 16.4400\n",
      "Epoch 14/206\n",
      "544/544 [==============================] - 20s 37ms/sample - loss: 10.0163\n",
      "Epoch 15/206\n",
      "544/544 [==============================] - 20s 36ms/sample - loss: 4.8387\n",
      "Epoch 16/206\n",
      "544/544 [==============================] - 23s 42ms/sample - loss: 4.7161\n",
      "Epoch 17/206\n",
      "544/544 [==============================] - 19s 36ms/sample - loss: 4.2019\n",
      "Epoch 18/206\n",
      "544/544 [==============================] - 19s 35ms/sample - loss: 4.1802\n",
      "Epoch 19/206\n",
      "544/544 [==============================] - 19s 34ms/sample - loss: 3.5799\n",
      "Epoch 20/206\n",
      "544/544 [==============================] - 20s 36ms/sample - loss: 2.8710\n",
      "Epoch 21/206\n",
      "544/544 [==============================] - 24s 45ms/sample - loss: 2.4015\n",
      "Epoch 22/206\n",
      "544/544 [==============================] - 19s 35ms/sample - loss: 2.5460\n",
      "Epoch 23/206\n",
      "544/544 [==============================] - 19s 36ms/sample - loss: 2.8829\n",
      "Epoch 24/206\n",
      "544/544 [==============================] - 20s 37ms/sample - loss: 4.5615\n",
      "Epoch 25/206\n",
      "544/544 [==============================] - 21s 38ms/sample - loss: 3.5187\n",
      "Epoch 26/206\n",
      "544/544 [==============================] - 23s 43ms/sample - loss: 2.2540\n",
      "Epoch 27/206\n",
      "544/544 [==============================] - 20s 36ms/sample - loss: 2.0128\n",
      "Epoch 28/206\n",
      "544/544 [==============================] - 21s 38ms/sample - loss: 2.2010\n",
      "Epoch 29/206\n",
      "544/544 [==============================] - 21s 38ms/sample - loss: 2.3496\n",
      "Epoch 30/206\n",
      "544/544 [==============================] - 21s 38ms/sample - loss: 2.0432\n",
      "Epoch 31/206\n",
      "544/544 [==============================] - 23s 43ms/sample - loss: 1.9924\n",
      "Epoch 32/206\n",
      "544/544 [==============================] - 20s 36ms/sample - loss: 2.4942\n",
      "Epoch 33/206\n",
      "544/544 [==============================] - 20s 36ms/sample - loss: 2.2239\n",
      "Epoch 34/206\n",
      "544/544 [==============================] - 21s 39ms/sample - loss: 2.1408\n",
      "Epoch 35/206\n",
      "544/544 [==============================] - 21s 39ms/sample - loss: 1.4511\n",
      "Epoch 36/206\n",
      "544/544 [==============================] - 24s 43ms/sample - loss: 1.7029\n",
      "Epoch 37/206\n",
      "544/544 [==============================] - 19s 35ms/sample - loss: 2.1554\n",
      "Epoch 38/206\n",
      "544/544 [==============================] - 19s 36ms/sample - loss: 1.5283\n",
      "Epoch 39/206\n",
      "544/544 [==============================] - 20s 37ms/sample - loss: 2.0836\n",
      "Epoch 40/206\n",
      "544/544 [==============================] - 20s 36ms/sample - loss: 1.5764\n",
      "Epoch 41/206\n",
      "544/544 [==============================] - 24s 44ms/sample - loss: 1.8073\n",
      "Epoch 42/206\n",
      "544/544 [==============================] - 20s 37ms/sample - loss: 1.2902\n",
      "Epoch 43/206\n",
      "544/544 [==============================] - 20s 36ms/sample - loss: 1.2126\n",
      "Epoch 44/206\n",
      "544/544 [==============================] - 20s 38ms/sample - loss: 1.5258\n",
      "Epoch 45/206\n",
      "544/544 [==============================] - 21s 38ms/sample - loss: 1.4702\n",
      "Epoch 46/206\n",
      "544/544 [==============================] - 24s 44ms/sample - loss: 1.8133\n",
      "Epoch 47/206\n",
      "544/544 [==============================] - 20s 36ms/sample - loss: 1.2949\n",
      "Epoch 48/206\n",
      "544/544 [==============================] - 20s 36ms/sample - loss: 1.5932\n",
      "Epoch 49/206\n",
      "544/544 [==============================] - 19s 35ms/sample - loss: 1.3191\n",
      "Epoch 50/206\n",
      "544/544 [==============================] - 19s 35ms/sample - loss: 1.6422\n",
      "Epoch 51/206\n",
      "544/544 [==============================] - 23s 42ms/sample - loss: 1.1704\n",
      "Epoch 52/206\n",
      "544/544 [==============================] - 20s 36ms/sample - loss: 1.8106\n",
      "Epoch 53/206\n",
      "544/544 [==============================] - 20s 37ms/sample - loss: 0.9299\n",
      "Epoch 54/206\n",
      "544/544 [==============================] - 20s 37ms/sample - loss: 1.7807\n",
      "Epoch 55/206\n",
      "544/544 [==============================] - 20s 38ms/sample - loss: 1.0456\n",
      "Epoch 56/206\n",
      "544/544 [==============================] - 24s 44ms/sample - loss: 1.1903\n",
      "Epoch 57/206\n",
      "544/544 [==============================] - 20s 37ms/sample - loss: 0.9237\n",
      "Epoch 58/206\n",
      "544/544 [==============================] - 19s 35ms/sample - loss: 1.0491\n",
      "Epoch 59/206\n",
      "544/544 [==============================] - 19s 36ms/sample - loss: 1.4254\n",
      "Epoch 60/206\n",
      "544/544 [==============================] - 19s 35ms/sample - loss: 1.0179\n",
      "Epoch 61/206\n",
      "544/544 [==============================] - 23s 42ms/sample - loss: 0.8338\n",
      "Epoch 62/206\n",
      "544/544 [==============================] - 20s 37ms/sample - loss: 0.7849\n",
      "Epoch 63/206\n",
      "544/544 [==============================] - 20s 38ms/sample - loss: 0.7359\n",
      "Epoch 64/206\n",
      "544/544 [==============================] - 20s 37ms/sample - loss: 0.8163\n",
      "Epoch 65/206\n",
      "544/544 [==============================] - 20s 37ms/sample - loss: 1.0236\n",
      "Epoch 66/206\n",
      "544/544 [==============================] - 23s 42ms/sample - loss: 0.6874\n",
      "Epoch 67/206\n",
      "544/544 [==============================] - 20s 37ms/sample - loss: 0.7501\n",
      "Epoch 68/206\n",
      "544/544 [==============================] - 20s 37ms/sample - loss: 0.6751\n",
      "Epoch 69/206\n",
      "544/544 [==============================] - 21s 38ms/sample - loss: 0.6406\n",
      "Epoch 70/206\n",
      "544/544 [==============================] - 20s 37ms/sample - loss: 0.6185\n",
      "Epoch 71/206\n",
      "544/544 [==============================] - 23s 43ms/sample - loss: 0.7029\n",
      "Epoch 72/206\n",
      "544/544 [==============================] - 20s 36ms/sample - loss: 0.5569\n",
      "Epoch 73/206\n",
      "544/544 [==============================] - 20s 36ms/sample - loss: 0.5763\n",
      "Epoch 74/206\n",
      "544/544 [==============================] - 20s 37ms/sample - loss: 0.6079\n",
      "Epoch 75/206\n",
      "544/544 [==============================] - 21s 38ms/sample - loss: 0.6639\n",
      "Epoch 76/206\n",
      "544/544 [==============================] - 24s 43ms/sample - loss: 0.4493\n",
      "Epoch 77/206\n",
      "544/544 [==============================] - 20s 36ms/sample - loss: 0.4574\n",
      "Epoch 78/206\n",
      "544/544 [==============================] - 19s 36ms/sample - loss: 0.4887\n",
      "Epoch 79/206\n",
      "544/544 [==============================] - 19s 35ms/sample - loss: 0.4612\n",
      "Epoch 80/206\n",
      "544/544 [==============================] - 20s 36ms/sample - loss: 0.4644\n",
      "Epoch 81/206\n",
      "544/544 [==============================] - 23s 42ms/sample - loss: 0.4115\n",
      "Epoch 82/206\n",
      "544/544 [==============================] - 19s 35ms/sample - loss: 0.3756\n",
      "Epoch 83/206\n",
      "544/544 [==============================] - 20s 36ms/sample - loss: 0.4768\n",
      "Epoch 84/206\n",
      "544/544 [==============================] - 19s 36ms/sample - loss: 0.4448\n",
      "Epoch 85/206\n",
      "544/544 [==============================] - 20s 38ms/sample - loss: 0.4096\n",
      "Epoch 86/206\n",
      "544/544 [==============================] - 23s 41ms/sample - loss: 0.3967\n",
      "Epoch 87/206\n",
      "544/544 [==============================] - 19s 35ms/sample - loss: 0.3562\n",
      "Epoch 88/206\n",
      "544/544 [==============================] - 19s 35ms/sample - loss: 0.3543\n",
      "Epoch 89/206\n",
      "544/544 [==============================] - 19s 35ms/sample - loss: 0.4424\n",
      "Epoch 90/206\n",
      "544/544 [==============================] - 19s 36ms/sample - loss: 0.3968\n",
      "Epoch 91/206\n",
      "544/544 [==============================] - 22s 41ms/sample - loss: 0.3539\n",
      "Epoch 92/206\n",
      "544/544 [==============================] - 20s 37ms/sample - loss: 0.3341\n",
      "Epoch 93/206\n",
      "544/544 [==============================] - 20s 37ms/sample - loss: 0.3845\n",
      "Epoch 94/206\n",
      "544/544 [==============================] - 20s 37ms/sample - loss: 0.4586\n",
      "Epoch 95/206\n",
      "544/544 [==============================] - 20s 36ms/sample - loss: 0.3660\n",
      "Epoch 96/206\n",
      "544/544 [==============================] - 23s 42ms/sample - loss: 0.3561\n",
      "Epoch 97/206\n",
      "544/544 [==============================] - 19s 36ms/sample - loss: 0.4035\n",
      "Epoch 98/206\n",
      "544/544 [==============================] - 20s 36ms/sample - loss: 0.3469\n",
      "Epoch 99/206\n",
      "544/544 [==============================] - 20s 37ms/sample - loss: 0.3340\n",
      "Epoch 100/206\n",
      "544/544 [==============================] - 20s 37ms/sample - loss: 0.3570\n",
      "Epoch 101/206\n",
      "544/544 [==============================] - 22s 41ms/sample - loss: 0.3656\n",
      "Epoch 102/206\n",
      "544/544 [==============================] - 19s 36ms/sample - loss: 0.3609\n",
      "Epoch 103/206\n",
      "544/544 [==============================] - 20s 36ms/sample - loss: 0.3695\n",
      "Epoch 104/206\n",
      "544/544 [==============================] - 19s 35ms/sample - loss: 0.3238\n",
      "Epoch 105/206\n",
      "544/544 [==============================] - 20s 36ms/sample - loss: 0.4067\n",
      "Epoch 106/206\n",
      "544/544 [==============================] - 22s 41ms/sample - loss: 0.3853\n",
      "Epoch 107/206\n",
      "544/544 [==============================] - 19s 35ms/sample - loss: 0.4000\n",
      "Epoch 108/206\n",
      "544/544 [==============================] - 20s 36ms/sample - loss: 0.3835\n",
      "Epoch 109/206\n",
      "544/544 [==============================] - 20s 36ms/sample - loss: 0.3216\n",
      "Epoch 110/206\n",
      "544/544 [==============================] - 20s 38ms/sample - loss: 0.3454\n",
      "Epoch 111/206\n",
      "544/544 [==============================] - 22s 41ms/sample - loss: 0.4057\n",
      "Epoch 112/206\n",
      "544/544 [==============================] - 20s 37ms/sample - loss: 0.3578\n",
      "Epoch 113/206\n",
      "544/544 [==============================] - 19s 36ms/sample - loss: 0.4212\n",
      "Epoch 114/206\n",
      "544/544 [==============================] - 20s 36ms/sample - loss: 0.3378\n",
      "Epoch 115/206\n",
      "544/544 [==============================] - 20s 36ms/sample - loss: 0.3220\n",
      "Epoch 116/206\n",
      "544/544 [==============================] - 23s 43ms/sample - loss: 0.4228\n",
      "Epoch 117/206\n",
      "544/544 [==============================] - 19s 35ms/sample - loss: 0.3497\n",
      "Epoch 118/206\n",
      "544/544 [==============================] - 20s 36ms/sample - loss: 0.4508\n",
      "Epoch 119/206\n",
      "544/544 [==============================] - 20s 37ms/sample - loss: 0.3717\n",
      "Epoch 120/206\n",
      "544/544 [==============================] - 20s 38ms/sample - loss: 0.3311\n",
      "Epoch 121/206\n",
      "544/544 [==============================] - 23s 43ms/sample - loss: 0.3239\n",
      "Epoch 122/206\n",
      "544/544 [==============================] - 20s 36ms/sample - loss: 0.2999\n",
      "Epoch 123/206\n",
      "544/544 [==============================] - 19s 36ms/sample - loss: 0.2900\n",
      "Epoch 124/206\n",
      "544/544 [==============================] - 19s 36ms/sample - loss: 0.3665\n",
      "Epoch 125/206\n",
      "544/544 [==============================] - 19s 36ms/sample - loss: 0.2605\n",
      "Epoch 126/206\n",
      "544/544 [==============================] - 23s 42ms/sample - loss: 0.3741\n",
      "Epoch 127/206\n",
      "544/544 [==============================] - 20s 36ms/sample - loss: 0.2686\n",
      "Epoch 128/206\n",
      "544/544 [==============================] - 21s 38ms/sample - loss: 0.2697\n",
      "Epoch 129/206\n",
      "544/544 [==============================] - 20s 37ms/sample - loss: 0.3156\n",
      "Epoch 130/206\n",
      "544/544 [==============================] - 20s 36ms/sample - loss: 0.2904\n",
      "Epoch 131/206\n",
      "544/544 [==============================] - 23s 41ms/sample - loss: 0.3039\n",
      "Epoch 132/206\n",
      "544/544 [==============================] - 20s 37ms/sample - loss: 0.3902\n",
      "Epoch 133/206\n",
      "544/544 [==============================] - 20s 37ms/sample - loss: 0.3143\n",
      "Epoch 134/206\n",
      "544/544 [==============================] - 19s 36ms/sample - loss: 0.2628\n",
      "Epoch 135/206\n",
      "544/544 [==============================] - 20s 36ms/sample - loss: 0.4029\n",
      "Epoch 136/206\n",
      "544/544 [==============================] - 23s 42ms/sample - loss: 0.9777\n",
      "Epoch 137/206\n",
      "544/544 [==============================] - 19s 35ms/sample - loss: 0.8014\n",
      "Epoch 138/206\n",
      "544/544 [==============================] - 19s 36ms/sample - loss: 0.3804\n",
      "Epoch 139/206\n",
      "544/544 [==============================] - 19s 36ms/sample - loss: 0.3720\n",
      "Epoch 140/206\n",
      "544/544 [==============================] - 19s 35ms/sample - loss: 0.2766\n",
      "Epoch 141/206\n",
      "544/544 [==============================] - 23s 42ms/sample - loss: 0.2577\n",
      "Epoch 142/206\n",
      "544/544 [==============================] - 19s 35ms/sample - loss: 0.3128\n",
      "Epoch 143/206\n",
      "544/544 [==============================] - 19s 35ms/sample - loss: 0.3178\n",
      "Epoch 144/206\n",
      "544/544 [==============================] - 20s 36ms/sample - loss: 0.2842\n",
      "Epoch 145/206\n",
      "544/544 [==============================] - 20s 37ms/sample - loss: 0.2366\n",
      "Epoch 146/206\n",
      "544/544 [==============================] - 24s 45ms/sample - loss: 0.3760\n",
      "Epoch 147/206\n",
      "544/544 [==============================] - 20s 37ms/sample - loss: 0.3797\n",
      "Epoch 148/206\n",
      "544/544 [==============================] - 21s 38ms/sample - loss: 0.2654\n",
      "Epoch 149/206\n",
      "544/544 [==============================] - 20s 37ms/sample - loss: 0.2513\n",
      "Epoch 150/206\n",
      "544/544 [==============================] - 20s 36ms/sample - loss: 0.2813\n",
      "Epoch 151/206\n",
      "544/544 [==============================] - 23s 43ms/sample - loss: 0.3520\n",
      "Epoch 152/206\n",
      "544/544 [==============================] - 20s 36ms/sample - loss: 0.2383\n",
      "Epoch 153/206\n",
      "544/544 [==============================] - 19s 35ms/sample - loss: 0.2646\n",
      "Epoch 154/206\n",
      "544/544 [==============================] - 19s 36ms/sample - loss: 0.2548\n",
      "Epoch 155/206\n",
      "544/544 [==============================] - 19s 36ms/sample - loss: 0.2828\n",
      "Epoch 156/206\n",
      "544/544 [==============================] - 23s 41ms/sample - loss: 0.2240\n",
      "Epoch 157/206\n",
      "544/544 [==============================] - 20s 36ms/sample - loss: 0.2207\n",
      "Epoch 158/206\n",
      "544/544 [==============================] - 20s 36ms/sample - loss: 0.2264\n",
      "Epoch 159/206\n",
      "544/544 [==============================] - 21s 38ms/sample - loss: 0.2832\n",
      "Epoch 160/206\n",
      "544/544 [==============================] - 20s 38ms/sample - loss: 0.2332\n",
      "Epoch 161/206\n",
      "544/544 [==============================] - 23s 43ms/sample - loss: 0.2382\n",
      "Epoch 162/206\n",
      "544/544 [==============================] - 20s 37ms/sample - loss: 0.2687\n",
      "Epoch 163/206\n",
      "544/544 [==============================] - 21s 38ms/sample - loss: 0.2732\n",
      "Epoch 164/206\n",
      "544/544 [==============================] - 20s 37ms/sample - loss: 0.2006\n",
      "Epoch 165/206\n",
      "544/544 [==============================] - 19s 36ms/sample - loss: 0.2184\n",
      "Epoch 166/206\n",
      "544/544 [==============================] - 22s 41ms/sample - loss: 0.2166\n",
      "Epoch 167/206\n",
      "544/544 [==============================] - 20s 36ms/sample - loss: 0.2333\n",
      "Epoch 168/206\n",
      "544/544 [==============================] - 20s 36ms/sample - loss: 0.2680\n",
      "Epoch 169/206\n",
      "544/544 [==============================] - 20s 38ms/sample - loss: 0.2570\n",
      "Epoch 170/206\n",
      "544/544 [==============================] - 20s 38ms/sample - loss: 0.3242\n",
      "Epoch 171/206\n",
      "544/544 [==============================] - 24s 44ms/sample - loss: 0.2556\n",
      "Epoch 172/206\n",
      "544/544 [==============================] - 20s 36ms/sample - loss: 0.2861\n",
      "Epoch 173/206\n",
      "544/544 [==============================] - 19s 36ms/sample - loss: 0.3424\n",
      "Epoch 174/206\n",
      "544/544 [==============================] - 19s 36ms/sample - loss: 0.3096\n",
      "Epoch 175/206\n",
      "544/544 [==============================] - 20s 36ms/sample - loss: 0.2432\n",
      "Epoch 176/206\n",
      "544/544 [==============================] - 23s 42ms/sample - loss: 0.2205\n",
      "Epoch 177/206\n",
      "544/544 [==============================] - 20s 36ms/sample - loss: 0.2620\n",
      "Epoch 178/206\n",
      "544/544 [==============================] - 19s 36ms/sample - loss: 0.2804\n",
      "Epoch 179/206\n",
      "544/544 [==============================] - 19s 35ms/sample - loss: 0.3253\n",
      "Epoch 180/206\n",
      "544/544 [==============================] - 20s 36ms/sample - loss: 0.3121\n",
      "Epoch 181/206\n",
      "544/544 [==============================] - 23s 42ms/sample - loss: 0.2575\n",
      "Epoch 182/206\n",
      "544/544 [==============================] - 19s 36ms/sample - loss: 0.2691\n",
      "Epoch 183/206\n",
      "544/544 [==============================] - 20s 37ms/sample - loss: 0.2705\n",
      "Epoch 184/206\n",
      "544/544 [==============================] - 20s 37ms/sample - loss: 0.2675\n",
      "Epoch 185/206\n",
      "544/544 [==============================] - 20s 36ms/sample - loss: 0.3644\n",
      "Epoch 186/206\n",
      "544/544 [==============================] - 23s 42ms/sample - loss: 0.3029\n",
      "Epoch 187/206\n",
      "544/544 [==============================] - 19s 35ms/sample - loss: 0.2551\n",
      "Epoch 188/206\n",
      "544/544 [==============================] - 20s 37ms/sample - loss: 0.4457\n",
      "Epoch 189/206\n",
      "544/544 [==============================] - 20s 36ms/sample - loss: 0.2940\n",
      "Epoch 190/206\n",
      "544/544 [==============================] - 20s 36ms/sample - loss: 0.2442\n",
      "Epoch 191/206\n",
      "544/544 [==============================] - 23s 43ms/sample - loss: 0.2194\n",
      "Epoch 192/206\n",
      "544/544 [==============================] - 20s 36ms/sample - loss: 0.4702\n",
      "Epoch 193/206\n",
      "544/544 [==============================] - 20s 37ms/sample - loss: 0.2359\n",
      "Epoch 194/206\n",
      "544/544 [==============================] - 20s 36ms/sample - loss: 0.3558\n",
      "Epoch 195/206\n",
      "544/544 [==============================] - 20s 36ms/sample - loss: 0.2383\n",
      "Epoch 196/206\n",
      "544/544 [==============================] - 22s 41ms/sample - loss: 0.2196\n",
      "Epoch 197/206\n",
      "544/544 [==============================] - 20s 36ms/sample - loss: 0.2669\n",
      "Epoch 198/206\n",
      "544/544 [==============================] - 20s 37ms/sample - loss: 0.2547\n",
      "Epoch 199/206\n",
      "544/544 [==============================] - 20s 36ms/sample - loss: 0.3083\n",
      "Epoch 200/206\n",
      "544/544 [==============================] - 20s 36ms/sample - loss: 0.2501\n",
      "Epoch 201/206\n",
      "544/544 [==============================] - 23s 42ms/sample - loss: 0.2382\n",
      "Epoch 202/206\n",
      "544/544 [==============================] - 19s 36ms/sample - loss: 0.2685\n",
      "Epoch 203/206\n",
      "544/544 [==============================] - 20s 36ms/sample - loss: 0.2421\n",
      "Epoch 204/206\n",
      "544/544 [==============================] - 20s 36ms/sample - loss: 0.2194\n",
      "Epoch 205/206\n",
      "544/544 [==============================] - 20s 36ms/sample - loss: 0.3757\n",
      "Epoch 206/206\n",
      "544/544 [==============================] - 23s 42ms/sample - loss: 0.2936\n"
     ]
    }
   ],
   "source": [
    "#Model for left Direction\n",
    "model_left = Sequential()\n",
    "model_left.add(Conv2D(32, (3, 3), activation='relu', input_shape=(1080, 1920, 3), kernel_regularizer=tf.keras.regularizers.l2(0.001)))\n",
    "model_left.add(MaxPooling2D((2, 2)))\n",
    "model_left.add(Conv2D(64, (3, 3), activation='relu', kernel_regularizer=tf.keras.regularizers.l2(0.001)))\n",
    "model_left.add(MaxPooling2D((2, 2)))\n",
    "model_left.add(Conv2D(64, (3, 3), activation='relu', kernel_regularizer=tf.keras.regularizers.l2(0.001)))\n",
    "model_left.add(Flatten())\n",
    "model_left.add(Dense(64, activation='relu', kernel_regularizer=tf.keras.regularizers.l2(0.001)))\n",
    "model_left.add(Dense(2))  # Output layer with 4 units for regression\n",
    "\n",
    "\n",
    "optimizer = tf.keras.optimizers.Adam(learning_rate=0.001, clipnorm=1.0)\n",
    "model_left.compile(optimizer=optimizer, loss='mean_squared_error')\n",
    "\n",
    "\n",
    "\n",
    "# Define the checkpoint path and directory\n",
    "checkpoint_path_left = \"checkpoints_left_Anotherway_non_sus_data/weights_epoch_{epoch:04d}.ckpt\"\n",
    "checkpoint_dir_left = os.path.dirname(checkpoint_path_left)\n",
    "\n",
    "# Check if a checkpoint file exists, if yes, load the weights\n",
    "latest_left = tf.train.latest_checkpoint(checkpoint_dir_left)\n",
    "if latest_left is not None:\n",
    "    print(\"Loading weights from the latest_left checkpoint:\", latest_left)\n",
    "    model_left.load_weights(latest_left)\n",
    "\n",
    "# Define batch size and calculate the number of batches per epoch\n",
    "batch_size = 8\n",
    "# n_batches = len(X_train1) // batch_size\n",
    "\n",
    "# Create a callback that saves the model_left's weights only at even epochs\n",
    "def save_model_left_at_even_epochs(epoch, logs):\n",
    "    if epoch % 5 == 0:\n",
    "        model_left.save_weights(checkpoint_path_left.format(epoch=epoch))\n",
    "\n",
    "cp_callback = tf.keras.callbacks.LambdaCallback(on_epoch_end=save_model_left_at_even_epochs)\n",
    "\n",
    "# Start training from the next epoch after the latest_left checkpoint\n",
    "start_epoch = 0\n",
    "if latest_left is not None:\n",
    "    # Extract the epoch number from the checkpoint path\n",
    "    start_epoch = int(latest_left.split(\"_\")[-1].split(\".\")[0]) + 1\n",
    "\n",
    "# Start training\n",
    "history_left = model_left.fit(X_train1_left, Y_train_left, \n",
    "                    epochs=206,\n",
    "                    initial_epoch=start_epoch,  # Start from the next epoch after the latest_left checkpoint\n",
    "                    batch_size=batch_size, \n",
    "                    callbacks=[cp_callback])"
   ]
  },
  {
   "cell_type": "code",
   "execution_count": 25,
   "metadata": {},
   "outputs": [],
   "source": [
    "from tensorflow.keras.layers import Conv2D, MaxPooling2D, Flatten, Dense, Dropout, BatchNormalization"
   ]
  },
  {
   "attachments": {},
   "cell_type": "markdown",
   "metadata": {},
   "source": [
    "# Model Training on the right direction data"
   ]
  },
  {
   "cell_type": "code",
   "execution_count": 26,
   "metadata": {},
   "outputs": [
    {
     "name": "stdout",
     "output_type": "stream",
     "text": [
      "WARNING:tensorflow:From /tmp/ipykernel_299532/2546320468.py:13: The name tf.keras.optimizers.Adam is deprecated. Please use tf.keras.optimizers.legacy.Adam instead.\n",
      "\n",
      "Loading weights from the latest_right checkpoint: checkpoints_right_non_sus_data/weights_epoch_0205.ckpt\n"
     ]
    },
    {
     "name": "stderr",
     "output_type": "stream",
     "text": [
      "2023-08-24 08:00:48.554153: W tensorflow/c/c_api.cc:304] Operation '{name:'dense_1/bias/Assign' id:105 op device:{requested: '', assigned: ''} def:{{{node dense_1/bias/Assign}} = AssignVariableOp[_has_manual_control_dependencies=true, dtype=DT_FLOAT, validate_shape=false](dense_1/bias, dense_1/bias/Initializer/zeros)}}' was changed by setting attribute after it was run by a session. This mutation will have no effect, and will trigger an error in the future. Either don't modify nodes after running them or create a new session.\n"
     ]
    }
   ],
   "source": [
    "#Model for right Direction\n",
    "model_right = Sequential()\n",
    "model_right.add(Conv2D(32, (3, 3), activation='relu', input_shape=(1080, 1920, 3), kernel_regularizer=tf.keras.regularizers.l2(0.001)))\n",
    "model_right.add(MaxPooling2D((2, 2)))\n",
    "model_right.add(Conv2D(64, (3, 3), activation='relu', kernel_regularizer=tf.keras.regularizers.l2(0.001)))\n",
    "model_right.add(MaxPooling2D((2, 2)))\n",
    "model_right.add(Conv2D(64, (3, 3), activation='relu', kernel_regularizer=tf.keras.regularizers.l2(0.001)))\n",
    "model_right.add(Flatten())\n",
    "model_right.add(Dense(64, activation='relu', kernel_regularizer=tf.keras.regularizers.l2(0.001)))\n",
    "model_right.add(Dense(2))  # Output layer with 4 units for regression\n",
    "\n",
    "\n",
    "optimizer = tf.keras.optimizers.Adam(learning_rate=0.001, clipnorm=1.0)\n",
    "model_right.compile(optimizer=optimizer, loss='mean_squared_error')\n",
    "\n",
    "\n",
    "\n",
    "# Define the checkpoint path and directory\n",
    "checkpoint_path_right = \"checkpoints_right_non_sus_data/weights_epoch_{epoch:04d}.ckpt\"\n",
    "checkpoint_dir_right = os.path.dirname(checkpoint_path_right)\n",
    "\n",
    "# Check if a checkpoint file exists, if yes, load the weights\n",
    "latest_right = tf.train.latest_checkpoint(checkpoint_dir_right)\n",
    "if latest_right is not None:\n",
    "    print(\"Loading weights from the latest_right checkpoint:\", latest_right)\n",
    "    model_right.load_weights(latest_right)\n",
    "\n",
    "# Define batch size and calculate the number of batches per epoch\n",
    "batch_size = 8\n",
    "# n_batches = len(X_train1) // batch_size\n",
    "\n",
    "# Create a callback that saves the model_right's weights only at even epochs\n",
    "def save_model_right_at_even_epochs(epoch, logs):\n",
    "    if epoch % 5 == 0:\n",
    "        model_right.save_weights(checkpoint_path_right.format(epoch=epoch))\n",
    "\n",
    "cp_callback = tf.keras.callbacks.LambdaCallback(on_epoch_end=save_model_right_at_even_epochs)\n",
    "\n",
    "# Start training from the next epoch after the latest_right checkpoint\n",
    "start_epoch = 0\n",
    "if latest_right is not None:\n",
    "    # Extract the epoch number from the checkpoint path\n",
    "    start_epoch = int(latest_right.split(\"_\")[-1].split(\".\")[0]) + 1\n",
    "\n",
    "# # Start training\n",
    "# history_right = model_right.fit(X_train1_right, Y_train_right, \n",
    "#                     epochs=206,\n",
    "#                     initial_epoch=start_epoch,  # Start from the next epoch after the latest_right checkpoint\n",
    "#                     batch_size=batch_size, \n",
    "#                     callbacks=[cp_callback])"
   ]
  },
  {
   "attachments": {},
   "cell_type": "markdown",
   "metadata": {},
   "source": [
    "# Making predictions by loading the weights"
   ]
  },
  {
   "cell_type": "code",
   "execution_count": 27,
   "metadata": {},
   "outputs": [
    {
     "name": "stderr",
     "output_type": "stream",
     "text": [
      "/usr/lib/python3/dist-packages/keras/engine/training_v1.py:2357: UserWarning: `Model.state_updates` will be removed in a future version. This property should not be used in TensorFlow 2.0, as `updates` are applied automatically.\n",
      "  updates=self.state_updates,\n",
      "2023-07-29 15:28:53.663538: W tensorflow/c/c_api.cc:291] Operation '{name:'dense_1/BiasAdd' id:110 op device:{requested: '', assigned: ''} def:{{{node dense_1/BiasAdd}} = BiasAdd[T=DT_FLOAT, _has_manual_control_dependencies=true, data_format=\"NHWC\"](dense_1/MatMul, dense_1/BiasAdd/ReadVariableOp)}}' was changed by setting attribute after it was run by a session. This mutation will have no effect, and will trigger an error in the future. Either don't modify nodes after running them or create a new session.\n",
      "2023-07-29 15:28:54.855554: I tensorflow/compiler/xla/stream_executor/cuda/cuda_dnn.cc:428] Loaded cuDNN version 8700\n"
     ]
    },
    {
     "name": "stdout",
     "output_type": "stream",
     "text": [
      "Prediction: [[-13.773119   -24.760492     0.30121353   0.68982846]]\n"
     ]
    },
    {
     "name": "stderr",
     "output_type": "stream",
     "text": [
      "2023-07-29 15:28:55.283879: I tensorflow/compiler/xla/stream_executor/cuda/cuda_blas.cc:630] TensorFloat-32 will be used for the matrix multiplication. This will only be logged once.\n"
     ]
    }
   ],
   "source": [
    "# predictions = model.predict(X_new)\n",
    "sample_index = 5  # Replace with the index of the desired sample\n",
    "\n",
    "sample = np.expand_dims(X_test1[sample_index], axis=0) \n",
    "\n",
    "y_pred = model.predict(sample)\n",
    "\n",
    "print('Prediction:', y_pred)"
   ]
  },
  {
   "cell_type": "code",
   "execution_count": 31,
   "metadata": {},
   "outputs": [
    {
     "name": "stderr",
     "output_type": "stream",
     "text": [
      "/usr/lib/python3/dist-packages/keras/engine/training_v1.py:2359: UserWarning: `Model.state_updates` will be removed in a future version. This property should not be used in TensorFlow 2.0, as `updates` are applied automatically.\n",
      "  updates=self.state_updates,\n",
      "2023-08-24 08:02:48.713266: W tensorflow/c/c_api.cc:304] Operation '{name:'conv2d_4/kernel/Assign' id:230 op device:{requested: '', assigned: ''} def:{{{node conv2d_4/kernel/Assign}} = AssignVariableOp[_has_manual_control_dependencies=true, dtype=DT_FLOAT, validate_shape=false](conv2d_4/kernel, conv2d_4/kernel/Initializer/random_uniform)}}' was changed by setting attribute after it was run by a session. This mutation will have no effect, and will trigger an error in the future. Either don't modify nodes after running them or create a new session.\n"
     ]
    },
    {
     "name": "stdout",
     "output_type": "stream",
     "text": [
      "Prediction: [[-0.02633237  0.04260409]]\n"
     ]
    }
   ],
   "source": [
    "# predictions = model.predict(X_new)\n",
    "sample_index = 5  # Replace with the index of the desired sample\n",
    "\n",
    "sample = np.expand_dims(X_test1_left[sample_index], axis=0) \n",
    "\n",
    "y_pred = model_left.predict(sample)\n",
    "\n",
    "print('Prediction:', y_pred)"
   ]
  },
  {
   "cell_type": "code",
   "execution_count": 32,
   "metadata": {},
   "outputs": [
    {
     "name": "stderr",
     "output_type": "stream",
     "text": [
      "/usr/lib/python3/dist-packages/keras/engine/training_v1.py:2359: UserWarning: `Model.state_updates` will be removed in a future version. This property should not be used in TensorFlow 2.0, as `updates` are applied automatically.\n",
      "  updates=self.state_updates,\n",
      "2023-08-24 08:03:03.771894: W tensorflow/c/c_api.cc:304] Operation '{name:'dense_1/BiasAdd' id:110 op device:{requested: '', assigned: ''} def:{{{node dense_1/BiasAdd}} = BiasAdd[T=DT_FLOAT, _has_manual_control_dependencies=true, data_format=\"NHWC\"](dense_1/MatMul, dense_1/BiasAdd/ReadVariableOp)}}' was changed by setting attribute after it was run by a session. This mutation will have no effect, and will trigger an error in the future. Either don't modify nodes after running them or create a new session.\n"
     ]
    },
    {
     "name": "stdout",
     "output_type": "stream",
     "text": [
      "Prediction: [[ -8.236518 -24.952362]]\n"
     ]
    }
   ],
   "source": [
    "# predictions = model.predict(X_new)\n",
    "sample_index = 5  # Replace with the index of the desired sample\n",
    "\n",
    "sample = np.expand_dims(X_test1_right[sample_index], axis=0) \n",
    "\n",
    "y_pred = model_right.predict(sample)\n",
    "\n",
    "print('Prediction:', y_pred)"
   ]
  },
  {
   "attachments": {},
   "cell_type": "markdown",
   "metadata": {},
   "source": [
    "# Making predictions by loading a saved model"
   ]
  },
  {
   "cell_type": "code",
   "execution_count": null,
   "metadata": {},
   "outputs": [],
   "source": [
    "import tensorflow as tf\n",
    "from tensorflow.keras.models import load_model\n",
    "\n",
    "# Load the model from the .h5 file\n",
    "model_path = \"path/to/your/model.h5\"\n",
    "model = load_model(model_path)\n",
    "\n",
    "# Make predictions using the loaded model\n",
    "predictions = model.predict(X_new)\n",
    "\n",
    "# Print or use the predictions as required\n",
    "print(predictions)"
   ]
  },
  {
   "cell_type": "code",
   "execution_count": null,
   "metadata": {},
   "outputs": [],
   "source": [
    "# model.load_weights(\"path_to_your_saved_weights.h5\")  "
   ]
  },
  {
   "cell_type": "code",
   "execution_count": 24,
   "metadata": {},
   "outputs": [
    {
     "name": "stdout",
     "output_type": "stream",
     "text": [
      "Wed Aug  9 20:46:34 2023       \n",
      "+---------------------------------------------------------------------------------------+\n",
      "| NVIDIA-SMI 535.86.05              Driver Version: 535.86.05    CUDA Version: 12.2     |\n",
      "|-----------------------------------------+----------------------+----------------------+\n",
      "| GPU  Name                 Persistence-M | Bus-Id        Disp.A | Volatile Uncorr. ECC |\n",
      "| Fan  Temp   Perf          Pwr:Usage/Cap |         Memory-Usage | GPU-Util  Compute M. |\n",
      "|                                         |                      |               MIG M. |\n",
      "|=========================================+======================+======================|\n",
      "|   0  NVIDIA RTX 6000 Ada Gene...    On  | 00000000:41:00.0 Off |                  Off |\n",
      "| 30%   44C    P8              31W / 300W |  33248MiB / 49140MiB |      0%      Default |\n",
      "|                                         |                      |                  N/A |\n",
      "+-----------------------------------------+----------------------+----------------------+\n",
      "|   1  NVIDIA RTX 6000 Ada Gene...    On  | 00000000:61:00.0 Off |                  Off |\n",
      "| 30%   38C    P8              23W / 300W |    450MiB / 49140MiB |      0%      Default |\n",
      "|                                         |                      |                  N/A |\n",
      "+-----------------------------------------+----------------------+----------------------+\n",
      "                                                                                         \n",
      "+---------------------------------------------------------------------------------------+\n",
      "| Processes:                                                                            |\n",
      "|  GPU   GI   CI        PID   Type   Process name                            GPU Memory |\n",
      "|        ID   ID                                                             Usage      |\n",
      "|=======================================================================================|\n",
      "|    0   N/A  N/A      5260      C   python                                    33222MiB |\n",
      "|    1   N/A  N/A      5260      C   python                                      424MiB |\n",
      "+---------------------------------------------------------------------------------------+\n"
     ]
    }
   ],
   "source": [
    "!nvidia-smi # A command to view the NVIDIA GPU details (especially to view the memory usage while running the code) "
   ]
  },
  {
   "attachments": {},
   "cell_type": "markdown",
   "metadata": {},
   "source": [
    "## Evaluation"
   ]
  },
  {
   "cell_type": "code",
   "execution_count": 33,
   "metadata": {},
   "outputs": [],
   "source": [
    "import matplotlib.pyplot as plt"
   ]
  },
  {
   "cell_type": "code",
   "execution_count": 43,
   "metadata": {},
   "outputs": [
    {
     "data": {
      "image/png": "[encoded data removed]",
      "text/plain": [
       "<Figure size 432x288 with 1 Axes>"
      ]
     },
     "metadata": {
      "needs_background": "light"
     },
     "output_type": "display_data"
    }
   ],
   "source": [
    "# Obtain the loss values from the training history\n",
    "loss_values = history_right.history['loss']\n",
    "\n",
    "# Plot the loss graph\n",
    "epochs = range(1, len(loss_values) + 1)\n",
    "plt.plot(epochs, loss_values, 'b', label='Training Loss')\n",
    "plt.title('Training Loss')\n",
    "plt.xlabel('Epochs')\n",
    "plt.ylabel('Loss')\n",
    "# plt.xlim(0, len(loss_values) + 10)\n",
    "# plt.ylim(0, max(loss_values) + 0.1)\n",
    "plt.ylim(0, 10)\n",
    "plt.grid(True)\n",
    "# plt.yticks(range(0, 11, 1))\n",
    "plt.yticks([i / 2 for i in range(0, 21)])\n",
    "\n",
    "plt.legend()\n",
    "plt.show()"
   ]
  },
  {
   "cell_type": "code",
   "execution_count": 35,
   "metadata": {},
   "outputs": [
    {
     "data": {
      "image/png": "[encoded data removed]",
      "text/plain": [
       "<Figure size 432x288 with 1 Axes>"
      ]
     },
     "metadata": {
      "needs_background": "light"
     },
     "output_type": "display_data"
    }
   ],
   "source": [
    "# Obtain the loss values from the training history\n",
    "loss_values = history_left.history['loss']\n",
    "\n",
    "# Plot the loss graph\n",
    "epochs = range(1, len(loss_values) + 1)\n",
    "plt.plot(epochs, loss_values, 'b', label='Training Loss')\n",
    "plt.title('Training Loss')\n",
    "plt.xlabel('Epochs')\n",
    "plt.ylabel('Loss')\n",
    "# plt.xlim(0, len(loss_values) + 10)\n",
    "# plt.ylim(0, max(loss_values) + 0.1)\n",
    "plt.ylim(0, 10)\n",
    "plt.grid(True)\n",
    "# plt.yticks(range(0, 11, 1))\n",
    "plt.yticks([i / 2 for i in range(0, 21)])\n",
    "\n",
    "plt.legend()\n",
    "plt.show()"
   ]
  },
  {
   "cell_type": "code",
   "execution_count": 34,
   "metadata": {},
   "outputs": [],
   "source": [
    "from sklearn.metrics import mean_squared_error, mean_absolute_error, r2_score\n"
   ]
  },
  {
   "cell_type": "code",
   "execution_count": 43,
   "metadata": {},
   "outputs": [
    {
     "name": "stderr",
     "output_type": "stream",
     "text": [
      "/usr/lib/python3/dist-packages/keras/engine/training_v1.py:2359: UserWarning: `Model.state_updates` will be removed in a future version. This property should not be used in TensorFlow 2.0, as `updates` are applied automatically.\n",
      "  updates=self.state_updates,\n",
      "2023-08-24 08:11:38.848958: W tensorflow/c/c_api.cc:304] Operation '{name:'dense_5/BiasAdd' id:480 op device:{requested: '', assigned: ''} def:{{{node dense_5/BiasAdd}} = BiasAdd[T=DT_FLOAT, _has_manual_control_dependencies=true, data_format=\"NHWC\"](dense_5/MatMul, dense_5/BiasAdd/ReadVariableOp)}}' was changed by setting attribute after it was run by a session. This mutation will have no effect, and will trigger an error in the future. Either don't modify nodes after running them or create a new session.\n"
     ]
    },
    {
     "name": "stdout",
     "output_type": "stream",
     "text": [
      "Mean Squared Error (MSE): 0.42900051277147244\n",
      "Root Mean Squared Error (RMSE): 0.6549813071924057\n",
      "Mean Absolute Error (MAE): 0.5294905682070201\n",
      "R-squared (R2): 0.9191505042395187\n"
     ]
    }
   ],
   "source": [
    "Y_pred_left = model_left.predict(X_test1_left)\n",
    "\n",
    "mse_left = mean_squared_error(Y_test_left, Y_pred_left)\n",
    "\n",
    "rmse_left = np.sqrt(mse_left)\n",
    "\n",
    "mae_left = mean_absolute_error(Y_test_left, Y_pred_left)\n",
    "\n",
    "r2_left = r2_score(Y_test_left, Y_pred_left)\n",
    "\n",
    "print('Mean Squared Error (MSE):', mse_left)\n",
    "print('Root Mean Squared Error (RMSE):', rmse_left)\n",
    "print('Mean Absolute Error (MAE):', mae_left)\n",
    "print('R-squared (R2):', r2_left)"
   ]
  },
  {
   "cell_type": "code",
   "execution_count": 37,
   "metadata": {},
   "outputs": [
    {
     "name": "stdout",
     "output_type": "stream",
     "text": [
      "Mean Squared Error (MSE): 0.08760482719966942\n",
      "Root Mean Squared Error (RMSE): 0.29598112642475943\n",
      "Mean Absolute Error (MAE): 0.2457831971656284\n",
      "R-squared (R2): 0.9724596929089615\n"
     ]
    }
   ],
   "source": [
    "Y_pred_right = model_right.predict(X_test1_right)\n",
    "\n",
    "mse_right = mean_squared_error(Y_test_right, Y_pred_right)\n",
    "\n",
    "rmse_right = np.sqrt(mse_right)\n",
    "\n",
    "mae_right = mean_absolute_error(Y_test_right, Y_pred_right)\n",
    "\n",
    "r2_right = r2_score(Y_test_right, Y_pred_right)\n",
    "\n",
    "print('Mean Squared Error (MSE):', mse_right)\n",
    "print('Root Mean Squared Error (RMSE):', rmse_right)\n",
    "print('Mean Absolute Error (MAE):', mae_right)\n",
    "print('R-squared (R2):', r2_right)"
   ]
  },
  {
   "cell_type": "code",
   "execution_count": 39,
   "metadata": {},
   "outputs": [
    {
     "name": "stdout",
     "output_type": "stream",
     "text": [
      "Mean Squared Error (MSE): 0.08760482719966942\n",
      "Root Mean Squared Error (RMSE): 0.29598112642475943\n",
      "Mean Absolute Error (MAE): 0.2457831971656284\n",
      "R-squared (R2): 0.9724596929089615\n"
     ]
    }
   ],
   "source": [
    "Y_pred_right = model_right.predict(X_test1_right)\n",
    "\n",
    "mse_right = mean_squared_error(Y_test_right, Y_pred_right)\n",
    "\n",
    "rmse_right = np.sqrt(mse_right)\n",
    "\n",
    "mae_right = mean_absolute_error(Y_test_right, Y_pred_right)\n",
    "\n",
    "r2_right = r2_score(Y_test_right, Y_pred_right)\n",
    "\n",
    "print('Mean Squared Error (MSE):', mse_right)\n",
    "print('Root Mean Squared Error (RMSE):', rmse_right)\n",
    "print('Mean Absolute Error (MAE):', mae_right)\n",
    "print('R-squared (R2):', r2_right)"
   ]
  },
  {
   "cell_type": "code",
   "execution_count": 37,
   "metadata": {},
   "outputs": [
    {
     "name": "stderr",
     "output_type": "stream",
     "text": [
      "/usr/lib/python3/dist-packages/keras/engine/training_v1.py:2359: UserWarning: `Model.state_updates` will be removed in a future version. This property should not be used in TensorFlow 2.0, as `updates` are applied automatically.\n",
      "  updates=self.state_updates,\n",
      "2023-08-10 12:15:41.137232: W tensorflow/c/c_api.cc:304] Operation '{name:'dense_1/BiasAdd' id:110 op device:{requested: '', assigned: ''} def:{{{node dense_1/BiasAdd}} = BiasAdd[T=DT_FLOAT, _has_manual_control_dependencies=true, data_format=\"NHWC\"](dense_1/MatMul, dense_1/BiasAdd/ReadVariableOp)}}' was changed by setting attribute after it was run by a session. This mutation will have no effect, and will trigger an error in the future. Either don't modify nodes after running them or create a new session.\n",
      "2023-08-10 12:15:41.652614: W tensorflow/core/kernels/gpu_utils.cc:50] Failed to allocate memory for convolution redzone checking; skipping this check. This is benign and only means that we won't check cudnn for out-of-bounds reads and writes. This message will only be printed once.\n"
     ]
    },
    {
     "name": "stdout",
     "output_type": "stream",
     "text": [
      "Mean Squared Error (MSE): 1.3393592501387221\n",
      "Root Mean Squared Error (RMSE): 1.1573068953992809\n",
      "Mean Absolute Error (MAE): 0.9303274166752629\n",
      "R-squared (R2): 0.5248077680313088\n"
     ]
    }
   ],
   "source": [
    "\n",
    "Y_pred_left = model_left.predict(X_test1_left)\n",
    "\n",
    "mse_left = mean_squared_error(Y_test_left, Y_pred_left)\n",
    "\n",
    "rmse_left = np.sqrt(mse_left)\n",
    "\n",
    "mae_left = mean_absolute_error(Y_test_left, Y_pred_left)\n",
    "\n",
    "r2_left = r2_score(Y_test_left, Y_pred_left)\n",
    "\n",
    "print('Mean Squared Error (MSE):', mse_left)\n",
    "print('Root Mean Squared Error (RMSE):', rmse_left)\n",
    "print('Mean Absolute Error (MAE):', mae_left)\n",
    "print('R-squared (R2):', r2_left)"
   ]
  },
  {
   "cell_type": "code",
   "execution_count": 45,
   "metadata": {},
   "outputs": [
    {
     "name": "stdout",
     "output_type": "stream",
     "text": [
      "Mean Squared Error (MSE): 0.38224711712045034\n",
      "Root Mean Squared Error (RMSE): 0.6182613663495806\n",
      "Mean Absolute Error (MAE): 0.48053566722791335\n",
      "R-squared (R2): 0.8569852701042917\n"
     ]
    }
   ],
   "source": [
    "\n",
    "Y_pred_right = model_right.predict(X_test1_right)\n",
    "\n",
    "mse_right = mean_squared_error(Y_test_right, Y_pred_right)\n",
    "\n",
    "rmse_right = np.sqrt(mse_right)\n",
    "\n",
    "mae_right = mean_absolute_error(Y_test_right, Y_pred_right)\n",
    "\n",
    "r2_right = r2_score(Y_test_right, Y_pred_right)\n",
    "\n",
    "print('Mean Squared Error (MSE):', mse_right)\n",
    "print('Root Mean Squared Error (RMSE):', rmse_right)\n",
    "print('Mean Absolute Error (MAE):', mae_right)\n",
    "print('R-squared (R2):', r2_right)"
   ]
  },
  {
   "cell_type": "code",
   "execution_count": 38,
   "metadata": {},
   "outputs": [
    {
     "name": "stderr",
     "output_type": "stream",
     "text": [
      "*c* argument looks like a single numeric RGB or RGBA sequence, which should be avoided as value-mapping will have precedence in case its length matches with *x* & *y*.  Please use the *color* keyword-argument or provide a 2D array with a single row if you intend to specify the same RGB or RGBA value for all points.\n"
     ]
    },
    {
     "data": {
      "image/png": "[encoded data removed]",
      "text/plain": [
       "<Figure size 576x576 with 1 Axes>"
      ]
     },
     "metadata": {
      "needs_background": "light"
     },
     "output_type": "display_data"
    }
   ],
   "source": [
    "predicted_values = model_left.predict(X_test1_left)\n",
    "\n",
    "#For x-coordinate\n",
    "predicted_first_output = predicted_values[:, 0]\n",
    "ground_truth_first_output = Y_test_left[:, 0]\n",
    "\n",
    "darker_orange = (1.0, 0.5, 0.0) \n",
    "\n",
    "axis_limits = [\n",
    "    (min(min(ground_truth_first_output), min(predicted_first_output)) - 1),\n",
    "    (max(max(ground_truth_first_output), max(predicted_first_output)) + 1)\n",
    "]\n",
    "\n",
    "\n",
    "# Plotting\n",
    "plt.figure(figsize=(8, 8))\n",
    "plt.scatter(ground_truth_first_output, predicted_first_output, c=darker_orange, marker='o')\n",
    "plt.xlabel('Ground Truth (cm)')\n",
    "plt.ylabel('Predicted (cm)')\n",
    "plt.title('x-coordinate on Test Data')\n",
    "plt.grid(True)\n",
    "\n",
    "# Add a diagonal line from the origin\n",
    "plt.plot(axis_limits, axis_limits, color='red', linestyle='--')\n",
    "\n",
    "plt.show()"
   ]
  },
  {
   "cell_type": "code",
   "execution_count": 39,
   "metadata": {},
   "outputs": [
    {
     "data": {
      "image/png": "[encoded data removed]",
      "text/plain": [
       "<Figure size 576x576 with 1 Axes>"
      ]
     },
     "metadata": {
      "needs_background": "light"
     },
     "output_type": "display_data"
    }
   ],
   "source": [
    "#For y-coordinate\n",
    "predicted_second_output = predicted_values[:, 1]\n",
    "ground_truth_second_output = Y_test_left[:, 1]\n",
    "\n",
    "axis_limits = [\n",
    "    (min(min(ground_truth_second_output), min(predicted_second_output)) - 1),\n",
    "    (max(max(ground_truth_second_output), max(predicted_second_output)) + 1)\n",
    "]\n",
    "\n",
    "# Plotting\n",
    "plt.figure(figsize=(8, 8))\n",
    "plt.scatter(ground_truth_second_output, predicted_second_output, c='blue', marker='o')\n",
    "plt.xlabel('Ground Truth (cm)')\n",
    "plt.ylabel('Predicted (cm)')\n",
    "plt.title('y-coordinate on Test Data')\n",
    "plt.grid(True)\n",
    "# plt.axis('equal') # Set equal aspect ratio for the axes\n",
    "\n",
    "# Set common axis limits for both x and y axes\n",
    "plt.xlim(axis_limits)\n",
    "plt.ylim(axis_limits)\n",
    "\n",
    "# Add a diagonal line from the origin\n",
    "plt.plot(axis_limits, axis_limits, color='red', linestyle='--')\n",
    "\n",
    "plt.show()"
   ]
  },
  {
   "cell_type": "code",
   "execution_count": 40,
   "metadata": {},
   "outputs": [
    {
     "name": "stderr",
     "output_type": "stream",
     "text": [
      "*c* argument looks like a single numeric RGB or RGBA sequence, which should be avoided as value-mapping will have precedence in case its length matches with *x* & *y*.  Please use the *color* keyword-argument or provide a 2D array with a single row if you intend to specify the same RGB or RGBA value for all points.\n"
     ]
    },
    {
     "data": {
      "image/png": "[encoded data removed]",
      "text/plain": [
       "<Figure size 576x576 with 1 Axes>"
      ]
     },
     "metadata": {
      "needs_background": "light"
     },
     "output_type": "display_data"
    }
   ],
   "source": [
    "darker_orange = (1.0, 0.5, 0.0) \n",
    "predicted_values_ontrain = model_left.predict(X_train1_left)\n",
    "\n",
    "#For x-coordinate\n",
    "predicted_ontrain_forx = predicted_values_ontrain[:, 0]\n",
    "ground_truth_ontrain_forx = Y_train_left[:, 0]\n",
    "\n",
    "\n",
    "axis_limits = [\n",
    "    (min(min(ground_truth_ontrain_forx), min(predicted_ontrain_forx)) - 1),\n",
    "    (max(max(ground_truth_ontrain_forx), max(predicted_ontrain_forx)) + 1)\n",
    "]\n",
    "\n",
    "\n",
    "# Plotting\n",
    "plt.figure(figsize=(8, 8))\n",
    "plt.scatter(ground_truth_ontrain_forx, predicted_ontrain_forx, c=darker_orange, marker='o')\n",
    "plt.xlabel('Ground Truth (cm)')\n",
    "plt.ylabel('Predicted (cm)')\n",
    "plt.title('x-coordinate On Train Data')\n",
    "plt.grid(True)\n",
    "\n",
    "# Set common axis limits for both x and y axes\n",
    "plt.xlim(axis_limits)\n",
    "plt.ylim(axis_limits)\n",
    "\n",
    "# Add a diagonal line from the origin\n",
    "plt.plot(axis_limits, axis_limits, color='red', linestyle='--')\n",
    "\n",
    "plt.show()"
   ]
  },
  {
   "cell_type": "code",
   "execution_count": null,
   "metadata": {},
   "outputs": [],
   "source": []
  },
  {
   "cell_type": "code",
   "execution_count": 41,
   "metadata": {},
   "outputs": [
    {
     "data": {
      "image/png": "[encoded data removed]",
      "text/plain": [
       "<Figure size 576x576 with 1 Axes>"
      ]
     },
     "metadata": {
      "needs_background": "light"
     },
     "output_type": "display_data"
    }
   ],
   "source": [
    "#For y-coordinate\n",
    "predicted_ontrain_fory = predicted_values_ontrain[:, 1]\n",
    "ground_truth_ontrain_fory = Y_train_left[:, 1]\n",
    "\n",
    "\n",
    "\n",
    "axis_limits = [\n",
    "    (min(min(ground_truth_ontrain_fory), min(predicted_ontrain_fory)) - 1),\n",
    "    (max(max(ground_truth_ontrain_fory), max(predicted_ontrain_fory)) + 1)\n",
    "]\n",
    "\n",
    "# Plotting\n",
    "plt.figure(figsize=(8, 8))\n",
    "plt.scatter(ground_truth_ontrain_fory, predicted_ontrain_fory, c='blue', marker='o')\n",
    "plt.xlabel('Ground Truth (cm)')\n",
    "plt.ylabel('Predicted (cm)')\n",
    "plt.title('y-coordinate On Train Data')\n",
    "plt.grid(True)\n",
    "\n",
    "# Set common axis limits for both x and y axes\n",
    "plt.xlim(axis_limits)\n",
    "plt.ylim(axis_limits)\n",
    "\n",
    "# Add a diagonal line from the origin\n",
    "plt.plot(axis_limits, axis_limits, color='red', linestyle='--')\n",
    "\n",
    "plt.show()"
   ]
  },
  {
   "cell_type": "code",
   "execution_count": null,
   "metadata": {},
   "outputs": [],
   "source": [
    "x_range = np.max(np.abs(ground_truth_first_output))\n",
    "y_range = np.max(np.abs(predicted_first_output))\n",
    "\n",
    "\n",
    "\"\"\"\n",
    "min x_actual: -24.902411819307858\n",
    "max x_actual: 11.010352233852014\n",
    "min y_actual: -37.718261747364686\n",
    "max y_actual: -27.563701906036318\n",
    "\"\"\"\n",
    "\n",
    "plt.xlim(-x_range, x_range)\n",
    "plt.ylim(-y_range, y_range)"
   ]
  },
  {
   "attachments": {},
   "cell_type": "markdown",
   "metadata": {},
   "source": [
    "--------------------------###################-------------------------##############################---------------------------########################\n",
    "\n",
    "                        For right direction"
   ]
  },
  {
   "cell_type": "code",
   "execution_count": 40,
   "metadata": {},
   "outputs": [
    {
     "name": "stderr",
     "output_type": "stream",
     "text": [
      "*c* argument looks like a single numeric RGB or RGBA sequence, which should be avoided as value-mapping will have precedence in case its length matches with *x* & *y*.  Please use the *color* keyword-argument or provide a 2D array with a single row if you intend to specify the same RGB or RGBA value for all points.\n"
     ]
    },
    {
     "data": {
      "image/png": "[encoded data removed]",
      "text/plain": [
       "<Figure size 576x576 with 1 Axes>"
      ]
     },
     "metadata": {
      "needs_background": "light"
     },
     "output_type": "display_data"
    }
   ],
   "source": [
    "predicted_values = model_right.predict(X_test1_right)\n",
    "\n",
    "#For x-coordinate\n",
    "predicted_first_output = predicted_values[:, 0]\n",
    "ground_truth_first_output = Y_test_right[:, 0]\n",
    "\n",
    "darker_orange = (1.0, 0.5, 0.0) \n",
    "\n",
    "axis_limits = [\n",
    "    (min(min(ground_truth_first_output), min(predicted_first_output)) - 1),\n",
    "    (max(max(ground_truth_first_output), max(predicted_first_output)) + 1)\n",
    "]\n",
    "\n",
    "\n",
    "# Plotting\n",
    "plt.figure(figsize=(8, 8))\n",
    "plt.scatter(ground_truth_first_output, predicted_first_output, c=darker_orange, marker='o')\n",
    "plt.xlabel('Ground Truth (cm)')\n",
    "plt.ylabel('Predicted (cm)')\n",
    "plt.title('x-coordinate on Test Data')\n",
    "plt.grid(True)\n",
    "\n",
    "# Add a diagonal line from the origin\n",
    "plt.plot(axis_limits, axis_limits, color='red', linestyle='--')\n",
    "\n",
    "plt.show()"
   ]
  },
  {
   "cell_type": "code",
   "execution_count": 41,
   "metadata": {},
   "outputs": [
    {
     "data": {
      "image/png": "[encoded data removed]",
      "text/plain": [
       "<Figure size 576x576 with 1 Axes>"
      ]
     },
     "metadata": {
      "needs_background": "light"
     },
     "output_type": "display_data"
    }
   ],
   "source": [
    "#For y-coordinate\n",
    "predicted_second_output = predicted_values[:, 1]\n",
    "ground_truth_second_output = Y_test_right[:, 1]\n",
    "\n",
    "axis_limits = [\n",
    "    (min(min(ground_truth_second_output), min(predicted_second_output)) - 1),\n",
    "    (max(max(ground_truth_second_output), max(predicted_second_output)) + 1)\n",
    "]\n",
    "\n",
    "# Plotting\n",
    "plt.figure(figsize=(8, 8))\n",
    "plt.scatter(ground_truth_second_output, predicted_second_output, c='blue', marker='o')\n",
    "plt.xlabel('Ground Truth (cm)')\n",
    "plt.ylabel('Predicted (cm)')\n",
    "plt.title('y-coordinate on Test Data')\n",
    "plt.grid(True)\n",
    "# plt.axis('equal') # Set equal aspect ratio for the axes\n",
    "\n",
    "# Set common axis limits for both x and y axes\n",
    "plt.xlim(axis_limits)\n",
    "plt.ylim(axis_limits)\n",
    "\n",
    "# Add a diagonal line from the origin\n",
    "plt.plot(axis_limits, axis_limits, color='red', linestyle='--')\n",
    "\n",
    "plt.show()"
   ]
  },
  {
   "cell_type": "code",
   "execution_count": 47,
   "metadata": {},
   "outputs": [
    {
     "name": "stderr",
     "output_type": "stream",
     "text": [
      "*c* argument looks like a single numeric RGB or RGBA sequence, which should be avoided as value-mapping will have precedence in case its length matches with *x* & *y*.  Please use the *color* keyword-argument or provide a 2D array with a single row if you intend to specify the same RGB or RGBA value for all points.\n"
     ]
    },
    {
     "data": {
      "image/png": "[encoded data removed]",
      "text/plain": [
       "<Figure size 576x576 with 1 Axes>"
      ]
     },
     "metadata": {
      "needs_background": "light"
     },
     "output_type": "display_data"
    }
   ],
   "source": [
    "darker_orange = (1.0, 0.5, 0.0) \n",
    "predicted_values_ontrain = model_right.predict(X_train1_right)\n",
    "\n",
    "#For x-coordinate\n",
    "predicted_ontrain_forx = predicted_values_ontrain[:, 0]\n",
    "ground_truth_ontrain_forx = Y_train_right[:, 0]\n",
    "\n",
    "\n",
    "axis_limits = [\n",
    "    (min(min(ground_truth_ontrain_forx), min(predicted_ontrain_forx)) - 1),\n",
    "    (max(max(ground_truth_ontrain_forx), max(predicted_ontrain_forx)) + 1)\n",
    "]\n",
    "\n",
    "\n",
    "# Plotting\n",
    "plt.figure(figsize=(8, 8))\n",
    "plt.scatter(ground_truth_ontrain_forx, predicted_ontrain_forx, c=darker_orange, marker='o')\n",
    "plt.xlabel('Ground Truth (cm)')\n",
    "plt.ylabel('Predicted (cm)')\n",
    "plt.title('x-coordinate On Train Data')\n",
    "plt.grid(True)\n",
    "\n",
    "# Set common axis limits for both x and y axes\n",
    "plt.xlim(axis_limits)\n",
    "plt.ylim(axis_limits)\n",
    "\n",
    "# Add a diagonal line from the origin\n",
    "plt.plot(axis_limits, axis_limits, color='red', linestyle='--')\n",
    "\n",
    "plt.show()"
   ]
  },
  {
   "cell_type": "code",
   "execution_count": 48,
   "metadata": {},
   "outputs": [
    {
     "data": {
      "image/png": "[encoded data removed]",
      "text/plain": [
       "<Figure size 576x576 with 1 Axes>"
      ]
     },
     "metadata": {
      "needs_background": "light"
     },
     "output_type": "display_data"
    }
   ],
   "source": [
    "#For y-coordinate\n",
    "predicted_ontrain_fory = predicted_values_ontrain[:, 1]\n",
    "ground_truth_ontrain_fory = Y_train_right[:, 1]\n",
    "\n",
    "\n",
    "\n",
    "axis_limits = [\n",
    "    (min(min(ground_truth_ontrain_fory), min(predicted_ontrain_fory)) - 1),\n",
    "    (max(max(ground_truth_ontrain_fory), max(predicted_ontrain_fory)) + 1)\n",
    "]\n",
    "\n",
    "# Plotting\n",
    "plt.figure(figsize=(8, 8))\n",
    "plt.scatter(ground_truth_ontrain_fory, predicted_ontrain_fory, c='blue', marker='o')\n",
    "plt.xlabel('Ground Truth (cm)')\n",
    "plt.ylabel('Predicted (cm)')\n",
    "plt.title('y-coordinate On Train Data')\n",
    "plt.grid(True)\n",
    "\n",
    "# Set common axis limits for both x and y axes\n",
    "plt.xlim(axis_limits)\n",
    "plt.ylim(axis_limits)\n",
    "\n",
    "# Add a diagonal line from the origin\n",
    "plt.plot(axis_limits, axis_limits, color='red', linestyle='--')\n",
    "\n",
    "plt.show()"
   ]
  },
  {
   "attachments": {},
   "cell_type": "markdown",
   "metadata": {},
   "source": [
    "## Testing"
   ]
  },
  {
   "cell_type": "markdown",
   "metadata": {},
   "source": []
  },
  {
   "cell_type": "code",
   "execution_count": 39,
   "metadata": {},
   "outputs": [
    {
     "name": "stdout",
     "output_type": "stream",
     "text": [
      "Prediction: [[-11.7657585 -30.747107 ]]\n"
     ]
    }
   ],
   "source": [
    "sample_index = 6  # Replace with the index of the desired sample\n",
    "\n",
    "sample = np.expand_dims(X_test1_left[sample_index], axis=0) \n",
    "\n",
    "y_pred = model_left.predict(sample)\n",
    "\n",
    "print('Prediction:', y_pred)"
   ]
  },
  {
   "cell_type": "code",
   "execution_count": 40,
   "metadata": {},
   "outputs": [
    {
     "name": "stdout",
     "output_type": "stream",
     "text": [
      "[-11.72666146 -33.2833967 ]\n"
     ]
    }
   ],
   "source": [
    "print(Y_test_left[6])"
   ]
  },
  {
   "cell_type": "code",
   "execution_count": 5,
   "metadata": {},
   "outputs": [],
   "source": [
    "sess.close()\n",
    "tf.reset_default_graph()\n"
   ]
  },
  {
   "cell_type": "code",
   "execution_count": 1,
   "metadata": {},
   "outputs": [
    {
     "name": "stdout",
     "output_type": "stream",
     "text": [
      "Fri Jul 28 10:38:01 2023       \n",
      "+-----------------------------------------------------------------------------+\n",
      "| NVIDIA-SMI 525.116.04   Driver Version: 525.116.04   CUDA Version: 12.0     |\n",
      "|-------------------------------+----------------------+----------------------+\n",
      "| GPU  Name        Persistence-M| Bus-Id        Disp.A | Volatile Uncorr. ECC |\n",
      "| Fan  Temp  Perf  Pwr:Usage/Cap|         Memory-Usage | GPU-Util  Compute M. |\n",
      "|                               |                      |               MIG M. |\n",
      "|===============================+======================+======================|\n",
      "|   0  NVIDIA RTX 6000...  On   | 00000000:41:00.0 Off |                  Off |\n",
      "| 55%   77C    P2   270W / 300W |  40369MiB / 49140MiB |    100%      Default |\n",
      "|                               |                      |                  N/A |\n",
      "+-------------------------------+----------------------+----------------------+\n",
      "|   1  NVIDIA RTX 6000...  On   | 00000000:61:00.0 Off |                  Off |\n",
      "| 30%   32C    P8    25W / 300W |      3MiB / 49140MiB |      0%      Default |\n",
      "|                               |                      |                  N/A |\n",
      "+-------------------------------+----------------------+----------------------+\n",
      "                                                                               \n",
      "+-----------------------------------------------------------------------------+\n",
      "| Processes:                                                                  |\n",
      "|  GPU   GI   CI        PID   Type   Process name                  GPU Memory |\n",
      "|        ID   ID                                                   Usage      |\n",
      "|=============================================================================|\n",
      "|    0   N/A  N/A   3950446      C   python3                         40366MiB |\n",
      "+-----------------------------------------------------------------------------+\n"
     ]
    }
   ],
   "source": [
    "!nvidia-smi # A command to view the NVIDIA GPU details (especially to view the memory usage while running the code) "
   ]
  }
 ],
 "metadata": {
  "kernelspec": {
   "display_name": "Python 3 (ipykernel)",
   "language": "python",
   "name": "python3"
  },
  "language_info": {
   "codemirror_mode": {
    "name": "ipython",
    "version": 3
   },
   "file_extension": ".py",
   "mimetype": "text/x-python",
   "name": "python",
   "nbconvert_exporter": "python",
   "pygments_lexer": "ipython3",
   "version": "3.10.12 (main, Jun 11 2023, 05:26:28) [GCC 11.4.0]"
  },
  "orig_nbformat": 4,
  "vscode": {
   "interpreter": {
    "hash": "916dbcbb3f70747c44a77c7bcd40155683ae19c65e1c03b4aa3499c5328201f1"
   }
  }
 },
 "nbformat": 4,
 "nbformat_minor": 2
}
