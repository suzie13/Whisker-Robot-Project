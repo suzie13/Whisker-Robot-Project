{
 "cells": [
  {
   "cell_type": "code",
   "execution_count": 2,
   "metadata": {},
   "outputs": [],
   "source": [
    "import serial\n",
    "import serial.tools.list_ports\n",
    "import time\n",
    "import os\n",
    "import cv2\n",
    "import csv\n",
    "import numpy as np\n",
    "from datetime import datetime\n"
   ]
  },
  {
   "cell_type": "code",
   "execution_count": 4,
   "metadata": {},
   "outputs": [],
   "source": [
    "BAUD_RATE = 9600\n",
    "ser = serial.Serial('/dev/ttyACM1', BAUD_RATE)\n",
    "\n",
    "def connect():\n",
    "    # connect to Arduino\n",
    "    ports = list(serial.tools.list_ports.comports())  # Create a list with info for all devices\n",
    "    connected = False\n",
    "    # Look for the word 'Arduino' in device info, store this port\n",
    "    for p in ports:\n",
    "        if \"Arduino\" in p[1]:\n",
    "            connected = True\n",
    "            port_arduino = p[0]\n",
    "            print(\"Connected to Arduino on port: \", port_arduino)\n",
    "            break\n",
    "    if not connected:\n",
    "        print(\"No Arduino Found\")\n",
    "\n",
    "    ser = serial.Serial(port_arduino, BAUD_RATE)\n",
    "    return ser\n",
    "\n",
    "\n",
    "def send_cmd(ser,cmd):\n",
    "    \"\"\"\n",
    "    send string command to Arduino\n",
    "\n",
    "    :param cmd: (string) command to send\n",
    "    :return:\n",
    "    \"\"\"\n",
    "    # print(cmd)\n",
    "    for c in cmd:\n",
    "        # self.ser.write(c.encode())\n",
    "        ser.write(c.encode())\n",
    "        time.sleep(.01)\n",
    "    ser.write('\\r'.encode())\n",
    "    time.sleep(.01)\n",
    "\n",
    "def clear_buff(ser):\n",
    "    while ser.in_waiting:\n",
    "        ser.read()\n",
    "\n",
    "def read_char(ser):\n",
    "    # use Serial.print() on Arduino\n",
    "    c = ser.read().decode()\n",
    "    return c\n"
   ]
  },
  {
   "cell_type": "code",
   "execution_count": 5,
   "metadata": {},
   "outputs": [
    {
     "name": "stdout",
     "output_type": "stream",
     "text": [
      "Connected to Arduino on port:  /dev/ttyACM1\n"
     ]
    }
   ],
   "source": [
    "ser = connect()"
   ]
  },
  {
   "cell_type": "code",
   "execution_count": 6,
   "metadata": {},
   "outputs": [],
   "source": [
    "clear_buff(ser)\n",
    "send_cmd(ser, ' ')\n",
    "ser.write(b' \\n') \n",
    "clear_buff(ser)"
   ]
  },
  {
   "cell_type": "code",
   "execution_count": 7,
   "metadata": {},
   "outputs": [],
   "source": [
    "send_cmd(ser, '2 250 0')"
   ]
  },
  {
   "cell_type": "code",
   "execution_count": null,
   "metadata": {},
   "outputs": [],
   "source": [
    "send_cmd(ser, '2 200 350')"
   ]
  },
  {
   "cell_type": "code",
   "execution_count": 8,
   "metadata": {},
   "outputs": [],
   "source": [
    "def send_cmd_new(ser, mode, start_x, y_range, cam_int, cam_top):\n",
    "    count = 0\n",
    "    while start_x > 0:\n",
    "        for y in y_range:\n",
    "            time.sleep(2)\n",
    "            cmd = f'{mode} {start_x} {y}'\n",
    "            count += 1\n",
    "            direction = 'left'\n",
    "            send_single_cmd(ser, cmd, count, direction, start_x, y, cam_int, cam_top)\n",
    "            # interior_camprocessor(cam_no_int, count)\n",
    "            # coordinates(direction, start_x, y, cam_no_top, count)\n",
    "            # start_x -= 1\n",
    "            reading = ser.readline().decode()\n",
    "            if reading != '':\n",
    "                print(reading)\n",
    "            # time.sleep(2)\n",
    "\n",
    "        start_x -= 1\n",
    "\n",
    "        for y in reversed(y_range):\n",
    "            cmd = f'{mode} {start_x} {y}'\n",
    "            count += 1\n",
    "            direction = 'right'\n",
    "            send_single_cmd(ser, cmd, count, direction, start_x, y, cam_int, cam_top)\n",
    "            # interior_camprocessor(cam_no_int, count)\n",
    "            # coordinates(direction_now, start_x, y, cam_no_top, count)\n",
    "            # time.sleep(2)\n",
    "\n",
    "        start_x -= 1\n",
    "\n",
    "def send_single_cmd(ser, cmd, count, direction, start_x, y, cam_int, cam_top):\n",
    "    ser.write(cmd.encode())\n",
    "    ser.write('\\r'.encode())\n",
    "    # time.sleep(0.01)\n",
    "    # time.sleep(2)\n",
    "    interior_camprocessor(cam_int, count)\n",
    "    coordinates(direction, start_x, y, cam_top, count)\n",
    "    time.sleep(0.01)\n",
    "    read_char(ser)  \n"
   ]
  },
  {
   "cell_type": "code",
   "execution_count": null,
   "metadata": {},
   "outputs": [],
   "source": [
    "# if __name__ == \"__main__\":\n",
    "#     mode = '2'\n",
    "#     start_x = 200\n",
    "#     y_range = range(0, 350, 10)\n",
    "#     send_cmd(ser, mode, start_x, y_range)"
   ]
  },
  {
   "cell_type": "code",
   "execution_count": 18,
   "metadata": {},
   "outputs": [],
   "source": [
    "\n",
    "def coordinates(direction_now, x_step_now, y_step_now, cam_no, ith_number):\n",
    "    camera_matrix = np.array([[682.694, 0, 573.5379], [0, 675.82, 367.535], [0, 0, 1]])\n",
    "    dist_coeffs = np.array([-0.119, 0.1449, 0.0019, -0.00689, -0.1701])\n",
    "\n",
    "    aruco_dict = cv2.aruco.getPredefinedDictionary(cv2.aruco.DICT_4X4_50)\n",
    "    marker_size = 2.6  # or 2.61\n",
    "\n",
    "        # Function to calculate marker pose\n",
    "    def estimate_marker_pose(marker_corners):\n",
    "        rvecs, tvecs, _ = cv2.aruco.estimatePoseSingleMarkers(marker_corners, marker_size, camera_matrix, dist_coeffs)\n",
    "        return rvecs, tvecs\n",
    "    cap = cv2.VideoCapture(cam_no)\n",
    "    with open(output_file, mode='a', newline='') as file:\n",
    "        writer = csv.writer(file)\n",
    "        ret, frame = cap.read()  # Capture a single frame\n",
    "        cap.release()  # Release the capture device\n",
    "\n",
    "        if ret:\n",
    "            gray = cv2.cvtColor(frame, cv2.COLOR_BGR2GRAY)\n",
    "            corners, ids, _ = cv2.aruco.detectMarkers(gray, aruco_dict)\n",
    "\n",
    "            if ids is not None:\n",
    "                rvecs, tvecs = estimate_marker_pose(corners)\n",
    "                # rvecs, tvecs = cv2.aruco.estimatePoseSingleMarkers(corners, marker_size, camera_matrix, dist_coeffs)\n",
    "                values = {}\n",
    "                for i in range(len(ids)):\n",
    "                    cv2.aruco.drawDetectedMarkers(frame, corners)\n",
    "                    cv2.aruco.drawAxis(frame, camera_matrix, dist_coeffs, rvecs[i], tvecs[i], marker_size * 0.5)\n",
    "                    # x, y, z = tvecs[0][0] - tvecs[1][0]\n",
    "                    if ids[i][0] == 3: # that is the robot wrt top cam\n",
    "                        variable_name = \"var_0\"\n",
    "                        values[variable_name] = tvecs[i][0]\n",
    "                    elif ids[i][0] == 4:\n",
    "                        variable_name = \"var_1\"\n",
    "                        values[variable_name] = tvecs[i][0]\n",
    "                    # variable_name = \"var_\" + str(i)\n",
    "                    # values[variable_name] = tvecs[i][0]\n",
    "                    print(\"Marker ID:\", ids[i][0])\n",
    "                    # print(\"Position (x, y):\", x, y)\n",
    "                print(values)\n",
    "                if len(values) == 2:\n",
    "                    x, y, z = values['var_0'] - values['var_1'] #check obj wrt R is (what minus what)\n",
    "                else:\n",
    "                    x = y = z = float(\"NaN\")\n",
    "                timestamp = datetime.now().strftime(\"%Y-%m-%d %H-%M-%S.%f\")\n",
    "                writer.writerow([ith_number, timestamp, x, y, direction_now, x_step_now, y_step_now])\n",
    "                    # row_data = [ith_number, timestamp, x, y, direction_now, x_step_now, y_step_now]\n",
    "\n",
    "                    # Open the output file in append mode\n",
    "                    # with open(output_file, mode='a', newline='') as file:\n",
    "                    #     writer = csv.writer(file)\n",
    "                    #     writer.writerow(row_data)\n",
    "\n",
    "            cv2.imshow(\"ArUco Marker Detection\", frame)\n",
    "        # cv2.waitKey(0)\n",
    "\n",
    "    cv2.destroyAllWindows()\n"
   ]
  },
  {
   "cell_type": "code",
   "execution_count": null,
   "metadata": {},
   "outputs": [],
   "source": [
    "# def coordinates(direction_now, x_step_now, y_step_now, cam_no, ith_number):\n",
    "#     camera_matrix = np.array([[682.694, 0, 573.5379], [0, 675.82, 367.535], [0, 0, 1]])\n",
    "#     dist_coeffs = np.array([-0.119, 0.1449, 0.0019, -0.00689, -0.1701])\n",
    "\n",
    "#     aruco_dict = cv2.aruco.getPredefinedDictionary(cv2.aruco.DICT_4X4_50)\n",
    "#     marker_size = 2.6  # or 2.61\n",
    "    \n",
    "#     # output_file = 'data_collection.csv'\n",
    "#     def estimate_marker_pose(marker_corners):\n",
    "#         rvecs, tvecs, _ = cv2.aruco.estimatePoseSingleMarkers(marker_corners, marker_size, camera_matrix, dist_coeffs)\n",
    "#         return rvecs, tvecs\n",
    "\n",
    "#     # cap = cv2.VideoCapture(6)\n",
    "#     cap = cv2.VideoCapture(cam_no)\n",
    "#     # Open the output file for writing\n",
    "#     with open(output_file, mode='w', newline='') as file:\n",
    "#         writer = csv.writer(file)\n",
    "#         # Updated header row to include direction and x-step columns\n",
    "#         writer.writerow(['Serial_no.','Timestamp', 'x_actual', 'y_actual', 'direction', 'x_step', 'y_step'])\n",
    "\n",
    "#         direction = direction_now\n",
    "#         x_step = x_step_now\n",
    "#         y_step = y_step_now\n",
    "\n",
    "#         while True:\n",
    "#             ret, frame = cap.read()\n",
    "#             if ret:\n",
    "#                 gray = cv2.cvtColor(frame, cv2.COLOR_BGR2GRAY) # Convert to grayscale\n",
    "#                 corners, ids, _ = cv2.aruco.detectMarkers(gray, aruco_dict) # Detect ArUco markers\n",
    "#                 # If markers are detected\n",
    "#                 if ids is not None:\n",
    "#                     rvecs, tvecs = estimate_marker_pose(corners)\n",
    "#                     for i in range(len(ids)):\n",
    "#                         cv2.aruco.drawDetectedMarkers(frame, corners)  # Draw marker outline\n",
    "#                         cv2.aruco.drawAxis(frame, camera_matrix, dist_coeffs, rvecs[i], tvecs[i], marker_size * 0.5) # Draw axis for each marker\n",
    "#                         # Get real-world coordinates\n",
    "#                         # x, y, z = tvecs[i][0]\n",
    "#                         # x_CR - x_CO = x_RO and same for y-axis\n",
    "#                         x, y, z = tvecs[0][0] - tvecs[1][0]\n",
    "#                         print(\"Marker ID:\", ids[i][0])\n",
    "#                         print(\"Position (x, y):\", x, y)\n",
    "#                         # Get the current timestamp\n",
    "#                         timestamp = datetime.now().strftime(\"%Y-%m-%d %H-%M-%S.%f\")\n",
    "#                         writer.writerow([ith_number, timestamp, x, y, direction, x_step, y_step]) ######Also add a number as identifier not just timestamp\n",
    "\n",
    "#                 cv2.imshow(\"ArUco Marker Detection\", frame)\n",
    "\n",
    "#             if cv2.waitKey(1) & 0xFF == ord('q'):\n",
    "#                 break\n",
    "\n",
    "#     cap.release()\n",
    "#     cv2.destroyAllWindows()\n"
   ]
  },
  {
   "cell_type": "code",
   "execution_count": 12,
   "metadata": {},
   "outputs": [],
   "source": [
    "\n",
    "def interior_camprocessor(cam_no, ith_number):\n",
    "    # cap = cv2.VideoCapture(8)\n",
    "    cap = cv2.VideoCapture(cam_no)\n",
    "    interval = 0.04  # interval in seconds (25 frames per second)(25Hz)\n",
    "    counter = 0  # initialize the counter\n",
    "\n",
    "    # output_folder = \"output\"\n",
    "\n",
    "    # Create the output folder if it doesn't exist\n",
    "    os.makedirs(output_folder, exist_ok=True)\n",
    "\n",
    "    # while True:\n",
    "    ret, frame = cap.read()\n",
    "    if ret:\n",
    "        timestamp = datetime.now().strftime(\"%Y%m%d_%H%M%S.%f\")\n",
    "        filename = os.path.join(output_folder, f\"{ith_number}_{timestamp}.jpg\")\n",
    "        cv2.imwrite(filename, frame)\n",
    "        \n",
    "        counter += 1  # increment the counter variable\n",
    "    time.sleep(interval)\n",
    "\n",
    "    cap.release()\n",
    "    # break\n"
   ]
  },
  {
   "cell_type": "code",
   "execution_count": 3,
   "metadata": {},
   "outputs": [],
   "source": [
    "def cam_ports():\n",
    "    all_camera_idx_available = []\n",
    "\n",
    "    for camera_idx in range(30):\n",
    "        cap = cv2.VideoCapture(camera_idx)\n",
    "        if cap.isOpened():\n",
    "            print(f'Camera index available: {camera_idx}')\n",
    "            all_camera_idx_available.append(camera_idx)\n",
    "            cap.release()\n",
    "    print(all_camera_idx_available)"
   ]
  },
  {
   "cell_type": "code",
   "execution_count": 4,
   "metadata": {},
   "outputs": [
    {
     "name": "stdout",
     "output_type": "stream",
     "text": [
      "Camera index available: 0\n"
     ]
    },
    {
     "name": "stderr",
     "output_type": "stream",
     "text": [
      "[ WARN:0] global ./modules/videoio/src/cap_gstreamer.cpp (1100) open OpenCV | GStreamer warning: Cannot query video position: status=0, value=-1, duration=-1\n",
      "[ WARN:0] global ./modules/videoio/src/cap_gstreamer.cpp (2075) handleMessage OpenCV | GStreamer warning: Embedded video playback halted; module v4l2src2 reported: Device '/dev/video1' is not a capture device.\n",
      "[ WARN:0] global ./modules/videoio/src/cap_gstreamer.cpp (1053) open OpenCV | GStreamer warning: unable to start pipeline\n",
      "[ WARN:0] global ./modules/videoio/src/cap_gstreamer.cpp (616) isPipelinePlaying OpenCV | GStreamer warning: GStreamer: pipeline have not been created\n",
      "[ WARN:0] global ./modules/videoio/src/cap_v4l.cpp (890) open VIDEOIO(V4L2:/dev/video1): can't open camera by index\n",
      "[ WARN:0] global ./modules/videoio/src/cap_gstreamer.cpp (2075) handleMessage OpenCV | GStreamer warning: Embedded video playback halted; module v4l2src3 reported: Internal data stream error.\n",
      "[ WARN:0] global ./modules/videoio/src/cap_gstreamer.cpp (1053) open OpenCV | GStreamer warning: unable to start pipeline\n",
      "[ WARN:0] global ./modules/videoio/src/cap_gstreamer.cpp (616) isPipelinePlaying OpenCV | GStreamer warning: GStreamer: pipeline have not been created\n",
      "[ WARN:0] global ./modules/videoio/src/cap_v4l.cpp (890) open VIDEOIO(V4L2:/dev/video2): can't open camera by index\n",
      "[ WARN:0] global ./modules/videoio/src/cap_gstreamer.cpp (2075) handleMessage OpenCV | GStreamer warning: Embedded video playback halted; module v4l2src4 reported: Device '/dev/video3' is not a capture device.\n",
      "[ WARN:0] global ./modules/videoio/src/cap_gstreamer.cpp (1053) open OpenCV | GStreamer warning: unable to start pipeline\n",
      "[ WARN:0] global ./modules/videoio/src/cap_gstreamer.cpp (616) isPipelinePlaying OpenCV | GStreamer warning: GStreamer: pipeline have not been created\n",
      "[ WARN:0] global ./modules/videoio/src/cap_v4l.cpp (890) open VIDEOIO(V4L2:/dev/video3): can't open camera by index\n",
      "[ WARN:0] global ./modules/videoio/src/cap_gstreamer.cpp (1100) open OpenCV | GStreamer warning: Cannot query video position: status=0, value=-1, duration=-1\n",
      "[ WARN:0] global ./modules/videoio/src/cap_gstreamer.cpp (2075) handleMessage OpenCV | GStreamer warning: Embedded video playback halted; module v4l2src6 reported: Device '/dev/video5' is not a capture device.\n",
      "[ WARN:0] global ./modules/videoio/src/cap_gstreamer.cpp (1053) open OpenCV | GStreamer warning: unable to start pipeline\n",
      "[ WARN:0] global ./modules/videoio/src/cap_gstreamer.cpp (616) isPipelinePlaying OpenCV | GStreamer warning: GStreamer: pipeline have not been created\n",
      "[ WARN:0] global ./modules/videoio/src/cap_v4l.cpp (890) open VIDEOIO(V4L2:/dev/video5): can't open camera by index\n"
     ]
    },
    {
     "name": "stdout",
     "output_type": "stream",
     "text": [
      "Camera index available: 4\n"
     ]
    },
    {
     "name": "stderr",
     "output_type": "stream",
     "text": [
      "[ WARN:0] global ./modules/videoio/src/cap_gstreamer.cpp (1100) open OpenCV | GStreamer warning: Cannot query video position: status=0, value=-1, duration=-1\n"
     ]
    },
    {
     "name": "stdout",
     "output_type": "stream",
     "text": [
      "Camera index available: 6\n",
      "Camera index available: 7\n"
     ]
    },
    {
     "name": "stderr",
     "output_type": "stream",
     "text": [
      "[ WARN:0] global ./modules/videoio/src/cap_gstreamer.cpp (1100) open OpenCV | GStreamer warning: Cannot query video position: status=0, value=-1, duration=-1\n",
      "[ WARN:0] global ./modules/videoio/src/cap_gstreamer.cpp (2075) handleMessage OpenCV | GStreamer warning: Embedded video playback halted; module v4l2src9 reported: Device '/dev/video8' is not a capture device.\n",
      "[ WARN:0] global ./modules/videoio/src/cap_gstreamer.cpp (1053) open OpenCV | GStreamer warning: unable to start pipeline\n",
      "[ WARN:0] global ./modules/videoio/src/cap_gstreamer.cpp (616) isPipelinePlaying OpenCV | GStreamer warning: GStreamer: pipeline have not been created\n",
      "[ WARN:0] global ./modules/videoio/src/cap_v4l.cpp (890) open VIDEOIO(V4L2:/dev/video8): can't open camera by index\n",
      "[ WARN:0] global ./modules/videoio/src/cap_gstreamer.cpp (2075) handleMessage OpenCV | GStreamer warning: Embedded video playback halted; module v4l2src10 reported: Internal data stream error.\n",
      "[ WARN:0] global ./modules/videoio/src/cap_gstreamer.cpp (1053) open OpenCV | GStreamer warning: unable to start pipeline\n",
      "[ WARN:0] global ./modules/videoio/src/cap_gstreamer.cpp (616) isPipelinePlaying OpenCV | GStreamer warning: GStreamer: pipeline have not been created\n",
      "[ WARN:0] global ./modules/videoio/src/cap_v4l.cpp (890) open VIDEOIO(V4L2:/dev/video9): can't open camera by index\n",
      "[ WARN:0] global ./modules/videoio/src/cap_gstreamer.cpp (2075) handleMessage OpenCV | GStreamer warning: Embedded video playback halted; module v4l2src11 reported: Device '/dev/video10' is not a capture device.\n",
      "[ WARN:0] global ./modules/videoio/src/cap_gstreamer.cpp (1053) open OpenCV | GStreamer warning: unable to start pipeline\n",
      "[ WARN:0] global ./modules/videoio/src/cap_gstreamer.cpp (616) isPipelinePlaying OpenCV | GStreamer warning: GStreamer: pipeline have not been created\n",
      "[ WARN:0] global ./modules/videoio/src/cap_v4l.cpp (890) open VIDEOIO(V4L2:/dev/video10): can't open camera by index\n",
      "[ WARN:0] global ./modules/videoio/src/cap_gstreamer.cpp (2075) handleMessage OpenCV | GStreamer warning: Embedded video playback halted; module v4l2src12 reported: Device '/dev/video11' is busy\n",
      "[ WARN:0] global ./modules/videoio/src/cap_gstreamer.cpp (1053) open OpenCV | GStreamer warning: unable to start pipeline\n",
      "[ WARN:0] global ./modules/videoio/src/cap_gstreamer.cpp (616) isPipelinePlaying OpenCV | GStreamer warning: GStreamer: pipeline have not been created\n",
      "[ WARN:0] global ./modules/videoio/src/cap_v4l.cpp (890) open VIDEOIO(V4L2:/dev/video11): can't open camera by index\n",
      "[ WARN:0] global ./modules/videoio/src/cap_gstreamer.cpp (2075) handleMessage OpenCV | GStreamer warning: Embedded video playback halted; module v4l2src13 reported: Device '/dev/video12' is not a capture device.\n",
      "[ WARN:0] global ./modules/videoio/src/cap_gstreamer.cpp (1053) open OpenCV | GStreamer warning: unable to start pipeline\n",
      "[ WARN:0] global ./modules/videoio/src/cap_gstreamer.cpp (616) isPipelinePlaying OpenCV | GStreamer warning: GStreamer: pipeline have not been created\n",
      "[ WARN:0] global ./modules/videoio/src/cap_v4l.cpp (890) open VIDEOIO(V4L2:/dev/video12): can't open camera by index\n",
      "[ WARN:0] global ./modules/videoio/src/cap_gstreamer.cpp (2075) handleMessage OpenCV | GStreamer warning: Embedded video playback halted; module v4l2src14 reported: Device '/dev/video13' failed during initialization\n",
      "[ WARN:0] global ./modules/videoio/src/cap_gstreamer.cpp (1053) open OpenCV | GStreamer warning: unable to start pipeline\n",
      "[ WARN:0] global ./modules/videoio/src/cap_gstreamer.cpp (616) isPipelinePlaying OpenCV | GStreamer warning: GStreamer: pipeline have not been created\n",
      "[ WARN:0] global ./modules/videoio/src/cap_v4l.cpp (890) open VIDEOIO(V4L2:/dev/video13): can't open camera by index\n",
      "[ WARN:0] global ./modules/videoio/src/cap_gstreamer.cpp (2075) handleMessage OpenCV | GStreamer warning: Embedded video playback halted; module v4l2src15 reported: Device '/dev/video14' is not a capture device.\n",
      "[ WARN:0] global ./modules/videoio/src/cap_gstreamer.cpp (1053) open OpenCV | GStreamer warning: unable to start pipeline\n",
      "[ WARN:0] global ./modules/videoio/src/cap_gstreamer.cpp (616) isPipelinePlaying OpenCV | GStreamer warning: GStreamer: pipeline have not been created\n",
      "[ WARN:0] global ./modules/videoio/src/cap_v4l.cpp (890) open VIDEOIO(V4L2:/dev/video14): can't open camera by index\n",
      "[ WARN:0] global ./modules/videoio/src/cap_gstreamer.cpp (2075) handleMessage OpenCV | GStreamer warning: Embedded video playback halted; module v4l2src16 reported: Device '/dev/video15' is not a capture device.\n",
      "[ WARN:0] global ./modules/videoio/src/cap_gstreamer.cpp (1053) open OpenCV | GStreamer warning: unable to start pipeline\n",
      "[ WARN:0] global ./modules/videoio/src/cap_gstreamer.cpp (616) isPipelinePlaying OpenCV | GStreamer warning: GStreamer: pipeline have not been created\n",
      "[ WARN:0] global ./modules/videoio/src/cap_v4l.cpp (890) open VIDEOIO(V4L2:/dev/video15): can't open camera by index\n",
      "[ WARN:0] global ./modules/videoio/src/cap_gstreamer.cpp (2075) handleMessage OpenCV | GStreamer warning: Embedded video playback halted; module v4l2src17 reported: Cannot identify device '/dev/video16'.\n",
      "[ WARN:0] global ./modules/videoio/src/cap_gstreamer.cpp (1053) open OpenCV | GStreamer warning: unable to start pipeline\n",
      "[ WARN:0] global ./modules/videoio/src/cap_gstreamer.cpp (616) isPipelinePlaying OpenCV | GStreamer warning: GStreamer: pipeline have not been created\n",
      "[ WARN:0] global ./modules/videoio/src/cap_v4l.cpp (890) open VIDEOIO(V4L2:/dev/video16): can't open camera by index\n",
      "[ WARN:0] global ./modules/videoio/src/cap_gstreamer.cpp (2075) handleMessage OpenCV | GStreamer warning: Embedded video playback halted; module v4l2src18 reported: Cannot identify device '/dev/video17'.\n",
      "[ WARN:0] global ./modules/videoio/src/cap_gstreamer.cpp (1053) open OpenCV | GStreamer warning: unable to start pipeline\n",
      "[ WARN:0] global ./modules/videoio/src/cap_gstreamer.cpp (616) isPipelinePlaying OpenCV | GStreamer warning: GStreamer: pipeline have not been created\n",
      "[ WARN:0] global ./modules/videoio/src/cap_v4l.cpp (890) open VIDEOIO(V4L2:/dev/video17): can't open camera by index\n",
      "[ WARN:0] global ./modules/videoio/src/cap_gstreamer.cpp (2075) handleMessage OpenCV | GStreamer warning: Embedded video playback halted; module v4l2src19 reported: Cannot identify device '/dev/video18'.\n",
      "[ WARN:0] global ./modules/videoio/src/cap_gstreamer.cpp (1053) open OpenCV | GStreamer warning: unable to start pipeline\n",
      "[ WARN:0] global ./modules/videoio/src/cap_gstreamer.cpp (616) isPipelinePlaying OpenCV | GStreamer warning: GStreamer: pipeline have not been created\n",
      "[ WARN:0] global ./modules/videoio/src/cap_v4l.cpp (890) open VIDEOIO(V4L2:/dev/video18): can't open camera by index\n",
      "[ WARN:0] global ./modules/videoio/src/cap_gstreamer.cpp (2075) handleMessage OpenCV | GStreamer warning: Embedded video playback halted; module v4l2src20 reported: Cannot identify device '/dev/video19'.\n",
      "[ WARN:0] global ./modules/videoio/src/cap_gstreamer.cpp (1053) open OpenCV | GStreamer warning: unable to start pipeline\n",
      "[ WARN:0] global ./modules/videoio/src/cap_gstreamer.cpp (616) isPipelinePlaying OpenCV | GStreamer warning: GStreamer: pipeline have not been created\n",
      "[ WARN:0] global ./modules/videoio/src/cap_v4l.cpp (890) open VIDEOIO(V4L2:/dev/video19): can't open camera by index\n",
      "[ WARN:0] global ./modules/videoio/src/cap_gstreamer.cpp (2075) handleMessage OpenCV | GStreamer warning: Embedded video playback halted; module v4l2src21 reported: Cannot identify device '/dev/video20'.\n",
      "[ WARN:0] global ./modules/videoio/src/cap_gstreamer.cpp (1053) open OpenCV | GStreamer warning: unable to start pipeline\n",
      "[ WARN:0] global ./modules/videoio/src/cap_gstreamer.cpp (616) isPipelinePlaying OpenCV | GStreamer warning: GStreamer: pipeline have not been created\n",
      "[ WARN:0] global ./modules/videoio/src/cap_v4l.cpp (890) open VIDEOIO(V4L2:/dev/video20): can't open camera by index\n",
      "[ WARN:0] global ./modules/videoio/src/cap_gstreamer.cpp (2075) handleMessage OpenCV | GStreamer warning: Embedded video playback halted; module v4l2src22 reported: Cannot identify device '/dev/video21'.\n",
      "[ WARN:0] global ./modules/videoio/src/cap_gstreamer.cpp (1053) open OpenCV | GStreamer warning: unable to start pipeline\n",
      "[ WARN:0] global ./modules/videoio/src/cap_gstreamer.cpp (616) isPipelinePlaying OpenCV | GStreamer warning: GStreamer: pipeline have not been created\n",
      "[ WARN:0] global ./modules/videoio/src/cap_v4l.cpp (890) open VIDEOIO(V4L2:/dev/video21): can't open camera by index\n",
      "[ WARN:0] global ./modules/videoio/src/cap_gstreamer.cpp (2075) handleMessage OpenCV | GStreamer warning: Embedded video playback halted; module v4l2src23 reported: Cannot identify device '/dev/video22'.\n",
      "[ WARN:0] global ./modules/videoio/src/cap_gstreamer.cpp (1053) open OpenCV | GStreamer warning: unable to start pipeline\n",
      "[ WARN:0] global ./modules/videoio/src/cap_gstreamer.cpp (616) isPipelinePlaying OpenCV | GStreamer warning: GStreamer: pipeline have not been created\n",
      "[ WARN:0] global ./modules/videoio/src/cap_v4l.cpp (890) open VIDEOIO(V4L2:/dev/video22): can't open camera by index\n",
      "[ WARN:0] global ./modules/videoio/src/cap_gstreamer.cpp (2075) handleMessage OpenCV | GStreamer warning: Embedded video playback halted; module v4l2src24 reported: Cannot identify device '/dev/video23'.\n",
      "[ WARN:0] global ./modules/videoio/src/cap_gstreamer.cpp (1053) open OpenCV | GStreamer warning: unable to start pipeline\n",
      "[ WARN:0] global ./modules/videoio/src/cap_gstreamer.cpp (616) isPipelinePlaying OpenCV | GStreamer warning: GStreamer: pipeline have not been created\n",
      "[ WARN:0] global ./modules/videoio/src/cap_v4l.cpp (890) open VIDEOIO(V4L2:/dev/video23): can't open camera by index\n",
      "[ WARN:0] global ./modules/videoio/src/cap_gstreamer.cpp (2075) handleMessage OpenCV | GStreamer warning: Embedded video playback halted; module v4l2src25 reported: Cannot identify device '/dev/video24'.\n",
      "[ WARN:0] global ./modules/videoio/src/cap_gstreamer.cpp (1053) open OpenCV | GStreamer warning: unable to start pipeline\n",
      "[ WARN:0] global ./modules/videoio/src/cap_gstreamer.cpp (616) isPipelinePlaying OpenCV | GStreamer warning: GStreamer: pipeline have not been created\n",
      "[ WARN:0] global ./modules/videoio/src/cap_v4l.cpp (890) open VIDEOIO(V4L2:/dev/video24): can't open camera by index\n",
      "[ WARN:0] global ./modules/videoio/src/cap_gstreamer.cpp (2075) handleMessage OpenCV | GStreamer warning: Embedded video playback halted; module v4l2src26 reported: Cannot identify device '/dev/video25'.\n",
      "[ WARN:0] global ./modules/videoio/src/cap_gstreamer.cpp (1053) open OpenCV | GStreamer warning: unable to start pipeline\n",
      "[ WARN:0] global ./modules/videoio/src/cap_gstreamer.cpp (616) isPipelinePlaying OpenCV | GStreamer warning: GStreamer: pipeline have not been created\n",
      "[ WARN:0] global ./modules/videoio/src/cap_v4l.cpp (890) open VIDEOIO(V4L2:/dev/video25): can't open camera by index\n",
      "[ WARN:0] global ./modules/videoio/src/cap_gstreamer.cpp (2075) handleMessage OpenCV | GStreamer warning: Embedded video playback halted; module v4l2src27 reported: Cannot identify device '/dev/video26'.\n",
      "[ WARN:0] global ./modules/videoio/src/cap_gstreamer.cpp (1053) open OpenCV | GStreamer warning: unable to start pipeline\n",
      "[ WARN:0] global ./modules/videoio/src/cap_gstreamer.cpp (616) isPipelinePlaying OpenCV | GStreamer warning: GStreamer: pipeline have not been created\n",
      "[ WARN:0] global ./modules/videoio/src/cap_v4l.cpp (890) open VIDEOIO(V4L2:/dev/video26): can't open camera by index\n"
     ]
    },
    {
     "name": "stdout",
     "output_type": "stream",
     "text": [
      "[0, 4, 6, 7]\n"
     ]
    },
    {
     "name": "stderr",
     "output_type": "stream",
     "text": [
      "[ WARN:0] global ./modules/videoio/src/cap_gstreamer.cpp (2075) handleMessage OpenCV | GStreamer warning: Embedded video playback halted; module v4l2src28 reported: Cannot identify device '/dev/video27'.\n",
      "[ WARN:0] global ./modules/videoio/src/cap_gstreamer.cpp (1053) open OpenCV | GStreamer warning: unable to start pipeline\n",
      "[ WARN:0] global ./modules/videoio/src/cap_gstreamer.cpp (616) isPipelinePlaying OpenCV | GStreamer warning: GStreamer: pipeline have not been created\n",
      "[ WARN:0] global ./modules/videoio/src/cap_v4l.cpp (890) open VIDEOIO(V4L2:/dev/video27): can't open camera by index\n",
      "[ WARN:0] global ./modules/videoio/src/cap_gstreamer.cpp (2075) handleMessage OpenCV | GStreamer warning: Embedded video playback halted; module v4l2src29 reported: Cannot identify device '/dev/video28'.\n",
      "[ WARN:0] global ./modules/videoio/src/cap_gstreamer.cpp (1053) open OpenCV | GStreamer warning: unable to start pipeline\n",
      "[ WARN:0] global ./modules/videoio/src/cap_gstreamer.cpp (616) isPipelinePlaying OpenCV | GStreamer warning: GStreamer: pipeline have not been created\n",
      "[ WARN:0] global ./modules/videoio/src/cap_v4l.cpp (890) open VIDEOIO(V4L2:/dev/video28): can't open camera by index\n",
      "[ WARN:0] global ./modules/videoio/src/cap_gstreamer.cpp (2075) handleMessage OpenCV | GStreamer warning: Embedded video playback halted; module v4l2src30 reported: Cannot identify device '/dev/video29'.\n",
      "[ WARN:0] global ./modules/videoio/src/cap_gstreamer.cpp (1053) open OpenCV | GStreamer warning: unable to start pipeline\n",
      "[ WARN:0] global ./modules/videoio/src/cap_gstreamer.cpp (616) isPipelinePlaying OpenCV | GStreamer warning: GStreamer: pipeline have not been created\n",
      "[ WARN:0] global ./modules/videoio/src/cap_v4l.cpp (890) open VIDEOIO(V4L2:/dev/video29): can't open camera by index\n"
     ]
    }
   ],
   "source": [
    "cam_ports()"
   ]
  },
  {
   "cell_type": "code",
   "execution_count": 4,
   "metadata": {},
   "outputs": [],
   "source": [
    "import cv2\n",
    "from cv2 import aruco\n",
    "def show_marker():\n",
    "    # ### Overlay marker ID and video ###\n",
    "    dict_aruco = aruco.Dictionary_get(aruco.DICT_4X4_50)\n",
    "    parameters = aruco.DetectorParameters_create()\n",
    "\n",
    "    cap = cv2.VideoCapture(6)\n",
    "\n",
    "    try:\n",
    "        while True:\n",
    "            ret, frame = cap.read()\n",
    "            gray = cv2.cvtColor(frame, cv2.COLOR_RGB2GRAY)\n",
    "\n",
    "            corners, ids, rejectedImgPoints = aruco.detectMarkers(gray, dict_aruco, parameters=parameters)\n",
    "\n",
    "            frame_markers = aruco.drawDetectedMarkers(frame.copy(), corners, ids)\n",
    "            cv2.imshow('frame', frame_markers)\n",
    "            if cv2.waitKey(1) & 0xFF == ord('q'):\n",
    "                break\n",
    "        cv2.destroyWindow('frame')\n",
    "        cap.release()\n",
    "    except KeyboardInterrupt:\n",
    "        cv2.destroyWindow('frame')\n",
    "        cap.release()\n"
   ]
  },
  {
   "cell_type": "code",
   "execution_count": 5,
   "metadata": {},
   "outputs": [
    {
     "name": "stderr",
     "output_type": "stream",
     "text": [
      "[ WARN:0] global ./modules/videoio/src/cap_gstreamer.cpp (1100) open OpenCV | GStreamer warning: Cannot query video position: status=0, value=-1, duration=-1\n"
     ]
    },
    {
     "ename": "",
     "evalue": "",
     "output_type": "error",
     "traceback": [
      "\u001b[1;31mThe Kernel crashed while executing code in the the current cell or a previous cell. Please review the code in the cell(s) to identify a possible cause of the failure. Click <a href='https://aka.ms/vscodeJupyterKernelCrash'>here</a> for more info. View Jupyter <a href='command:jupyter.viewOutput'>log</a> for further details."
     ]
    }
   ],
   "source": [
    "show_marker()"
   ]
  },
  {
   "cell_type": "code",
   "execution_count": 19,
   "metadata": {},
   "outputs": [
    {
     "name": "stderr",
     "output_type": "stream",
     "text": [
      "[ WARN:0] global ./modules/videoio/src/cap_gstreamer.cpp (1100) open OpenCV | GStreamer warning: Cannot query video position: status=0, value=-1, duration=-1\n",
      "[ WARN:0] global ./modules/videoio/src/cap_gstreamer.cpp (1100) open OpenCV | GStreamer warning: Cannot query video position: status=0, value=-1, duration=-1\n"
     ]
    },
    {
     "name": "stdout",
     "output_type": "stream",
     "text": [
      "Marker ID: 3\n",
      "{'var_0': array([-17.3329047 , -15.84969631,  35.3063755 ])}\n",
      "00\n",
      "\n"
     ]
    },
    {
     "name": "stderr",
     "output_type": "stream",
     "text": [
      "[ WARN:0] global ./modules/videoio/src/cap_gstreamer.cpp (1100) open OpenCV | GStreamer warning: Cannot query video position: status=0, value=-1, duration=-1\n",
      "[ WARN:0] global ./modules/videoio/src/cap_gstreamer.cpp (1100) open OpenCV | GStreamer warning: Cannot query video position: status=0, value=-1, duration=-1\n"
     ]
    },
    {
     "name": "stdout",
     "output_type": "stream",
     "text": [
      "Marker ID: 0\n",
      "Marker ID: 3\n",
      "{'var_0': array([-17.3329047 , -15.84969631,  35.3063755 ])}\n",
      " target:\n",
      "\n"
     ]
    },
    {
     "name": "stderr",
     "output_type": "stream",
     "text": [
      "[ WARN:0] global ./modules/videoio/src/cap_gstreamer.cpp (1100) open OpenCV | GStreamer warning: Cannot query video position: status=0, value=-1, duration=-1\n",
      "[ WARN:0] global ./modules/videoio/src/cap_gstreamer.cpp (1100) open OpenCV | GStreamer warning: Cannot query video position: status=0, value=-1, duration=-1\n"
     ]
    },
    {
     "name": "stdout",
     "output_type": "stream",
     "text": [
      "Marker ID: 0\n",
      "Marker ID: 3\n",
      "{'var_0': array([-17.3329047 , -15.84969631,  35.3063755 ])}\n",
      "0\n",
      "\n"
     ]
    },
    {
     "name": "stderr",
     "output_type": "stream",
     "text": [
      "[ WARN:0] global ./modules/videoio/src/cap_gstreamer.cpp (1100) open OpenCV | GStreamer warning: Cannot query video position: status=0, value=-1, duration=-1\n",
      "[ WARN:0] global ./modules/videoio/src/cap_gstreamer.cpp (1100) open OpenCV | GStreamer warning: Cannot query video position: status=0, value=-1, duration=-1\n"
     ]
    },
    {
     "name": "stdout",
     "output_type": "stream",
     "text": [
      "Marker ID: 0\n",
      "Marker ID: 3\n",
      "{'var_0': array([-17.3329047 , -15.84969631,  35.3063755 ])}\n",
      "\u0001\u0001\u0001\u0001X target:\n",
      "\n"
     ]
    },
    {
     "name": "stderr",
     "output_type": "stream",
     "text": [
      "[ WARN:0] global ./modules/videoio/src/cap_gstreamer.cpp (1100) open OpenCV | GStreamer warning: Cannot query video position: status=0, value=-1, duration=-1\n",
      "[ WARN:0] global ./modules/videoio/src/cap_gstreamer.cpp (1100) open OpenCV | GStreamer warning: Cannot query video position: status=0, value=-1, duration=-1\n"
     ]
    },
    {
     "name": "stdout",
     "output_type": "stream",
     "text": [
      "Marker ID: 0\n",
      "Marker ID: 3\n",
      "{'var_0': array([-17.3329047 , -15.84969631,  35.3063755 ])}\n",
      "00\n",
      "\n"
     ]
    },
    {
     "name": "stderr",
     "output_type": "stream",
     "text": [
      "[ WARN:0] global ./modules/videoio/src/cap_gstreamer.cpp (1100) open OpenCV | GStreamer warning: Cannot query video position: status=0, value=-1, duration=-1\n",
      "[ WARN:0] global ./modules/videoio/src/cap_gstreamer.cpp (1100) open OpenCV | GStreamer warning: Cannot query video position: status=0, value=-1, duration=-1\n"
     ]
    },
    {
     "name": "stdout",
     "output_type": "stream",
     "text": [
      "Marker ID: 3\n",
      "{'var_0': array([-17.3329047 , -15.84969631,  35.3063755 ])}\n",
      " target:\n",
      "\n"
     ]
    },
    {
     "name": "stderr",
     "output_type": "stream",
     "text": [
      "[ WARN:0] global ./modules/videoio/src/cap_gstreamer.cpp (1100) open OpenCV | GStreamer warning: Cannot query video position: status=0, value=-1, duration=-1\n",
      "[ WARN:0] global ./modules/videoio/src/cap_gstreamer.cpp (1100) open OpenCV | GStreamer warning: Cannot query video position: status=0, value=-1, duration=-1\n"
     ]
    },
    {
     "name": "stdout",
     "output_type": "stream",
     "text": [
      "Marker ID: 3\n",
      "{'var_0': array([-17.3902642 , -15.90701995,  35.48610388])}\n",
      "0\n",
      "\n"
     ]
    },
    {
     "name": "stderr",
     "output_type": "stream",
     "text": [
      "[ WARN:0] global ./modules/videoio/src/cap_gstreamer.cpp (1100) open OpenCV | GStreamer warning: Cannot query video position: status=0, value=-1, duration=-1\n",
      "[ WARN:0] global ./modules/videoio/src/cap_gstreamer.cpp (1100) open OpenCV | GStreamer warning: Cannot query video position: status=0, value=-1, duration=-1\n"
     ]
    },
    {
     "name": "stdout",
     "output_type": "stream",
     "text": [
      "Marker ID: 3\n",
      "{'var_0': array([-17.39274635, -15.89347904,  35.43005172])}\n",
      "\u0001\u0001\u0001\u0001X target:\n",
      "\n"
     ]
    },
    {
     "name": "stderr",
     "output_type": "stream",
     "text": [
      "[ WARN:0] global ./modules/videoio/src/cap_gstreamer.cpp (1100) open OpenCV | GStreamer warning: Cannot query video position: status=0, value=-1, duration=-1\n",
      "[ WARN:0] global ./modules/videoio/src/cap_gstreamer.cpp (1100) open OpenCV | GStreamer warning: Cannot query video position: status=0, value=-1, duration=-1\n"
     ]
    },
    {
     "name": "stdout",
     "output_type": "stream",
     "text": [
      "Marker ID: 3\n",
      "{'var_0': array([-17.3329047 , -15.84969631,  35.3063755 ])}\n",
      "00\n",
      "\n"
     ]
    },
    {
     "name": "stderr",
     "output_type": "stream",
     "text": [
      "[ WARN:0] global ./modules/videoio/src/cap_gstreamer.cpp (1100) open OpenCV | GStreamer warning: Cannot query video position: status=0, value=-1, duration=-1\n",
      "[ WARN:0] global ./modules/videoio/src/cap_gstreamer.cpp (1100) open OpenCV | GStreamer warning: Cannot query video position: status=0, value=-1, duration=-1\n"
     ]
    },
    {
     "name": "stdout",
     "output_type": "stream",
     "text": [
      "Marker ID: 4\n",
      "Marker ID: 0\n",
      "Marker ID: 3\n",
      "{'var_1': array([-2.9555513 , 20.61071397, 53.79352199]), 'var_0': array([-17.3329047 , -15.84969631,  35.3063755 ])}\n",
      " target:\n",
      "\n"
     ]
    },
    {
     "name": "stderr",
     "output_type": "stream",
     "text": [
      "[ WARN:0] global ./modules/videoio/src/cap_gstreamer.cpp (1100) open OpenCV | GStreamer warning: Cannot query video position: status=0, value=-1, duration=-1\n",
      "[ WARN:0] global ./modules/videoio/src/cap_gstreamer.cpp (1100) open OpenCV | GStreamer warning: Cannot query video position: status=0, value=-1, duration=-1\n"
     ]
    },
    {
     "name": "stdout",
     "output_type": "stream",
     "text": [
      "Marker ID: 4\n",
      "Marker ID: 3\n",
      "{'var_1': array([-4.00085131, 20.77795622, 53.90997499]), 'var_0': array([-17.3329047 , -15.84969631,  35.3063755 ])}\n",
      "0\n",
      "\n"
     ]
    },
    {
     "name": "stderr",
     "output_type": "stream",
     "text": [
      "[ WARN:0] global ./modules/videoio/src/cap_gstreamer.cpp (1100) open OpenCV | GStreamer warning: Cannot query video position: status=0, value=-1, duration=-1\n",
      "[ WARN:0] global ./modules/videoio/src/cap_gstreamer.cpp (1100) open OpenCV | GStreamer warning: Cannot query video position: status=0, value=-1, duration=-1\n"
     ]
    },
    {
     "name": "stdout",
     "output_type": "stream",
     "text": [
      "Marker ID: 4\n",
      "Marker ID: 3\n",
      "{'var_1': array([-5.05920161, 20.9153128 , 54.10803579]), 'var_0': array([-17.3329047 , -15.84969631,  35.3063755 ])}\n",
      "\u0001\u0001\u0001\u0001X target:\n",
      "\n"
     ]
    },
    {
     "name": "stderr",
     "output_type": "stream",
     "text": [
      "[ WARN:0] global ./modules/videoio/src/cap_gstreamer.cpp (1100) open OpenCV | GStreamer warning: Cannot query video position: status=0, value=-1, duration=-1\n",
      "[ WARN:0] global ./modules/videoio/src/cap_gstreamer.cpp (1100) open OpenCV | GStreamer warning: Cannot query video position: status=0, value=-1, duration=-1\n"
     ]
    },
    {
     "name": "stdout",
     "output_type": "stream",
     "text": [
      "Marker ID: 4\n",
      "Marker ID: 3\n",
      "{'var_1': array([-5.01878823, 20.91456001, 54.10596082]), 'var_0': array([-17.3329047 , -15.84969631,  35.3063755 ])}\n",
      "00\n",
      "\n"
     ]
    },
    {
     "name": "stderr",
     "output_type": "stream",
     "text": [
      "[ WARN:0] global ./modules/videoio/src/cap_gstreamer.cpp (1100) open OpenCV | GStreamer warning: Cannot query video position: status=0, value=-1, duration=-1\n",
      "[ WARN:0] global ./modules/videoio/src/cap_gstreamer.cpp (1100) open OpenCV | GStreamer warning: Cannot query video position: status=0, value=-1, duration=-1\n"
     ]
    },
    {
     "name": "stdout",
     "output_type": "stream",
     "text": [
      "Marker ID: 4\n",
      "Marker ID: 0\n",
      "Marker ID: 3\n",
      "{'var_1': array([-6.12203967, 21.00058947, 54.27405877]), 'var_0': array([-17.3329047 , -15.84969631,  35.3063755 ])}\n",
      " target:\n",
      "\n"
     ]
    },
    {
     "name": "stderr",
     "output_type": "stream",
     "text": [
      "[ WARN:0] global ./modules/videoio/src/cap_gstreamer.cpp (1100) open OpenCV | GStreamer warning: Cannot query video position: status=0, value=-1, duration=-1\n",
      "[ WARN:0] global ./modules/videoio/src/cap_gstreamer.cpp (1100) open OpenCV | GStreamer warning: Cannot query video position: status=0, value=-1, duration=-1\n"
     ]
    },
    {
     "name": "stdout",
     "output_type": "stream",
     "text": [
      "Marker ID: 4\n",
      "Marker ID: 3\n",
      "{'var_1': array([-8.22335393, 20.97954245, 53.66973874]), 'var_0': array([-17.3329047 , -15.84969631,  35.3063755 ])}\n",
      "0\n",
      "\n"
     ]
    },
    {
     "name": "stderr",
     "output_type": "stream",
     "text": [
      "[ WARN:0] global ./modules/videoio/src/cap_gstreamer.cpp (1100) open OpenCV | GStreamer warning: Cannot query video position: status=0, value=-1, duration=-1\n",
      "[ WARN:0] global ./modules/videoio/src/cap_gstreamer.cpp (1100) open OpenCV | GStreamer warning: Cannot query video position: status=0, value=-1, duration=-1\n"
     ]
    },
    {
     "name": "stdout",
     "output_type": "stream",
     "text": [
      "Marker ID: 4\n",
      "Marker ID: 3\n",
      "{'var_1': array([-9.03682149, 20.45222331, 52.14630443]), 'var_0': array([-17.3329047 , -15.84969631,  35.3063755 ])}\n",
      "\u0001\u0001\u0001\u0001X target:\n",
      "\n"
     ]
    },
    {
     "name": "stderr",
     "output_type": "stream",
     "text": [
      "[ WARN:0] global ./modules/videoio/src/cap_gstreamer.cpp (1100) open OpenCV | GStreamer warning: Cannot query video position: status=0, value=-1, duration=-1\n",
      "[ WARN:0] global ./modules/videoio/src/cap_gstreamer.cpp (1100) open OpenCV | GStreamer warning: Cannot query video position: status=0, value=-1, duration=-1\n"
     ]
    },
    {
     "name": "stdout",
     "output_type": "stream",
     "text": [
      "Marker ID: 4\n",
      "Marker ID: 0\n",
      "Marker ID: 3\n",
      "{'var_1': array([-9.03682149, 20.45222331, 52.14630443]), 'var_0': array([-17.3329047 , -15.84969631,  35.3063755 ])}\n",
      "00\n",
      "\n"
     ]
    },
    {
     "name": "stderr",
     "output_type": "stream",
     "text": [
      "[ WARN:0] global ./modules/videoio/src/cap_gstreamer.cpp (1100) open OpenCV | GStreamer warning: Cannot query video position: status=0, value=-1, duration=-1\n",
      "[ WARN:0] global ./modules/videoio/src/cap_gstreamer.cpp (1100) open OpenCV | GStreamer warning: Cannot query video position: status=0, value=-1, duration=-1\n"
     ]
    },
    {
     "name": "stdout",
     "output_type": "stream",
     "text": [
      "Marker ID: 4\n",
      "Marker ID: 3\n",
      "{'var_1': array([-10.22263687,  20.86358135,  52.98301959]), 'var_0': array([-17.3329047 , -15.84969631,  35.3063755 ])}\n",
      " target:\n",
      "\n"
     ]
    },
    {
     "name": "stderr",
     "output_type": "stream",
     "text": [
      "[ WARN:0] global ./modules/videoio/src/cap_gstreamer.cpp (1100) open OpenCV | GStreamer warning: Cannot query video position: status=0, value=-1, duration=-1\n",
      "[ WARN:0] global ./modules/videoio/src/cap_gstreamer.cpp (1100) open OpenCV | GStreamer warning: Cannot query video position: status=0, value=-1, duration=-1\n"
     ]
    },
    {
     "name": "stdout",
     "output_type": "stream",
     "text": [
      "Marker ID: 4\n",
      "Marker ID: 3\n",
      "{'var_1': array([-10.22263687,  20.86358135,  52.98301959]), 'var_0': array([-17.3329047 , -15.84969631,  35.3063755 ])}\n",
      "00\n",
      "\n"
     ]
    },
    {
     "name": "stderr",
     "output_type": "stream",
     "text": [
      "[ WARN:0] global ./modules/videoio/src/cap_gstreamer.cpp (1100) open OpenCV | GStreamer warning: Cannot query video position: status=0, value=-1, duration=-1\n",
      "[ WARN:0] global ./modules/videoio/src/cap_gstreamer.cpp (1100) open OpenCV | GStreamer warning: Cannot query video position: status=0, value=-1, duration=-1\n"
     ]
    },
    {
     "name": "stdout",
     "output_type": "stream",
     "text": [
      "Marker ID: 4\n",
      "Marker ID: 3\n",
      "{'var_1': array([-12.31224847,  20.88947077,  52.53728123]), 'var_0': array([-17.3329047 , -15.84969631,  35.3063755 ])}\n",
      "\u0001\u0001\u0001\u0001X target:\n",
      "\n"
     ]
    },
    {
     "name": "stderr",
     "output_type": "stream",
     "text": [
      "[ WARN:0] global ./modules/videoio/src/cap_gstreamer.cpp (1100) open OpenCV | GStreamer warning: Cannot query video position: status=0, value=-1, duration=-1\n",
      "[ WARN:0] global ./modules/videoio/src/cap_gstreamer.cpp (1100) open OpenCV | GStreamer warning: Cannot query video position: status=0, value=-1, duration=-1\n"
     ]
    },
    {
     "name": "stdout",
     "output_type": "stream",
     "text": [
      "Marker ID: 4\n",
      "Marker ID: 3\n",
      "{'var_1': array([-12.31224847,  20.88947077,  52.53728123]), 'var_0': array([-17.3329047 , -15.84969631,  35.3063755 ])}\n",
      "00\n",
      "\n"
     ]
    },
    {
     "name": "stderr",
     "output_type": "stream",
     "text": [
      "[ WARN:0] global ./modules/videoio/src/cap_gstreamer.cpp (1100) open OpenCV | GStreamer warning: Cannot query video position: status=0, value=-1, duration=-1\n",
      "[ WARN:0] global ./modules/videoio/src/cap_gstreamer.cpp (1100) open OpenCV | GStreamer warning: Cannot query video position: status=0, value=-1, duration=-1\n"
     ]
    },
    {
     "name": "stdout",
     "output_type": "stream",
     "text": [
      "Marker ID: 4\n",
      "Marker ID: 3\n",
      "{'var_1': array([-14.77188097,  21.43868608,  53.40137138]), 'var_0': array([-17.3329047 , -15.84969631,  35.3063755 ])}\n",
      " target:\n",
      "\n"
     ]
    },
    {
     "name": "stderr",
     "output_type": "stream",
     "text": [
      "[ WARN:0] global ./modules/videoio/src/cap_gstreamer.cpp (1100) open OpenCV | GStreamer warning: Cannot query video position: status=0, value=-1, duration=-1\n",
      "[ WARN:0] global ./modules/videoio/src/cap_gstreamer.cpp (1100) open OpenCV | GStreamer warning: Cannot query video position: status=0, value=-1, duration=-1\n"
     ]
    },
    {
     "name": "stdout",
     "output_type": "stream",
     "text": [
      "Marker ID: 4\n",
      "Marker ID: 3\n",
      "{'var_1': array([-14.30207271,  20.78054984,  51.86649329]), 'var_0': array([-17.3329047 , -15.84969631,  35.3063755 ])}\n",
      "20\n",
      "\n"
     ]
    },
    {
     "name": "stderr",
     "output_type": "stream",
     "text": [
      "[ WARN:0] global ./modules/videoio/src/cap_gstreamer.cpp (1100) open OpenCV | GStreamer warning: Cannot query video position: status=0, value=-1, duration=-1\n",
      "[ WARN:0] global ./modules/videoio/src/cap_gstreamer.cpp (1100) open OpenCV | GStreamer warning: Cannot query video position: status=0, value=-1, duration=-1\n"
     ]
    },
    {
     "name": "stdout",
     "output_type": "stream",
     "text": [
      "Marker ID: 4\n",
      "Marker ID: 3\n",
      "{'var_1': array([-16.48149132,  21.00961154,  51.86698237]), 'var_0': array([-17.3329047 , -15.84969631,  35.3063755 ])}\n",
      "\u0001\u0001\u0001\u0001X target:\n",
      "\n"
     ]
    },
    {
     "name": "stderr",
     "output_type": "stream",
     "text": [
      "[ WARN:0] global ./modules/videoio/src/cap_gstreamer.cpp (1100) open OpenCV | GStreamer warning: Cannot query video position: status=0, value=-1, duration=-1\n",
      "[ WARN:0] global ./modules/videoio/src/cap_gstreamer.cpp (1100) open OpenCV | GStreamer warning: Cannot query video position: status=0, value=-1, duration=-1\n"
     ]
    },
    {
     "name": "stdout",
     "output_type": "stream",
     "text": [
      "Marker ID: 4\n",
      "Marker ID: 3\n",
      "{'var_1': array([-16.52323103,  21.02365014,  51.8475292 ]), 'var_0': array([-17.3329047 , -15.84969631,  35.3063755 ])}\n",
      "00\n",
      "\n"
     ]
    },
    {
     "name": "stderr",
     "output_type": "stream",
     "text": [
      "[ WARN:0] global ./modules/videoio/src/cap_gstreamer.cpp (1100) open OpenCV | GStreamer warning: Cannot query video position: status=0, value=-1, duration=-1\n",
      "[ WARN:0] global ./modules/videoio/src/cap_gstreamer.cpp (1100) open OpenCV | GStreamer warning: Cannot query video position: status=0, value=-1, duration=-1\n"
     ]
    },
    {
     "name": "stdout",
     "output_type": "stream",
     "text": [
      "Marker ID: 4\n",
      "Marker ID: 0\n",
      "Marker ID: 3\n",
      "{'var_1': array([-18.70725668,  21.24396098,  51.96444218]), 'var_0': array([-17.3329047 , -15.84969631,  35.3063755 ])}\n",
      " target:\n",
      "\n"
     ]
    },
    {
     "name": "stderr",
     "output_type": "stream",
     "text": [
      "[ WARN:0] global ./modules/videoio/src/cap_gstreamer.cpp (1100) open OpenCV | GStreamer warning: Cannot query video position: status=0, value=-1, duration=-1\n",
      "[ WARN:0] global ./modules/videoio/src/cap_gstreamer.cpp (1100) open OpenCV | GStreamer warning: Cannot query video position: status=0, value=-1, duration=-1\n"
     ]
    },
    {
     "name": "stdout",
     "output_type": "stream",
     "text": [
      "Marker ID: 4\n",
      "Marker ID: 3\n",
      "{'var_1': array([-18.41989095,  20.90535031,  51.08254897]), 'var_0': array([-17.3329047 , -15.84969631,  35.3063755 ])}\n",
      "40\n",
      "\n"
     ]
    },
    {
     "name": "stderr",
     "output_type": "stream",
     "text": [
      "[ WARN:0] global ./modules/videoio/src/cap_gstreamer.cpp (1100) open OpenCV | GStreamer warning: Cannot query video position: status=0, value=-1, duration=-1\n",
      "[ WARN:0] global ./modules/videoio/src/cap_gstreamer.cpp (1100) open OpenCV | GStreamer warning: Cannot query video position: status=0, value=-1, duration=-1\n"
     ]
    },
    {
     "name": "stdout",
     "output_type": "stream",
     "text": [
      "Marker ID: 4\n",
      "Marker ID: 0\n",
      "Marker ID: 3\n",
      "{'var_1': array([-20.52785609,  20.96192637,  50.68322097]), 'var_0': array([-17.3329047 , -15.84969631,  35.3063755 ])}\n",
      "\u0001\u0001\u0001\u0001X target:\n",
      "\n"
     ]
    },
    {
     "name": "stderr",
     "output_type": "stream",
     "text": [
      "[ WARN:0] global ./modules/videoio/src/cap_gstreamer.cpp (1100) open OpenCV | GStreamer warning: Cannot query video position: status=0, value=-1, duration=-1\n",
      "[ WARN:0] global ./modules/videoio/src/cap_gstreamer.cpp (1100) open OpenCV | GStreamer warning: Cannot query video position: status=0, value=-1, duration=-1\n"
     ]
    },
    {
     "name": "stdout",
     "output_type": "stream",
     "text": [
      "Marker ID: 4\n",
      "Marker ID: 3\n",
      "{'var_1': array([-20.55399476,  20.94982236,  50.65173513]), 'var_0': array([-17.39274635, -15.89347904,  35.43005172])}\n",
      "00\n",
      "\n"
     ]
    },
    {
     "name": "stderr",
     "output_type": "stream",
     "text": [
      "[ WARN:0] global ./modules/videoio/src/cap_gstreamer.cpp (1100) open OpenCV | GStreamer warning: Cannot query video position: status=0, value=-1, duration=-1\n",
      "[ WARN:0] global ./modules/videoio/src/cap_gstreamer.cpp (1100) open OpenCV | GStreamer warning: Cannot query video position: status=0, value=-1, duration=-1\n"
     ]
    },
    {
     "name": "stdout",
     "output_type": "stream",
     "text": [
      "Marker ID: 4\n",
      "Marker ID: 0\n",
      "Marker ID: 3\n",
      "{'var_1': array([-22.51567446,  21.01413126,  50.22127904]), 'var_0': array([-17.40131507, -15.90094846,  35.50935563])}\n",
      " target:\n",
      "\n"
     ]
    },
    {
     "name": "stderr",
     "output_type": "stream",
     "text": [
      "[ WARN:0] global ./modules/videoio/src/cap_gstreamer.cpp (1100) open OpenCV | GStreamer warning: Cannot query video position: status=0, value=-1, duration=-1\n",
      "[ WARN:0] global ./modules/videoio/src/cap_gstreamer.cpp (1100) open OpenCV | GStreamer warning: Cannot query video position: status=0, value=-1, duration=-1\n"
     ]
    },
    {
     "name": "stdout",
     "output_type": "stream",
     "text": [
      "Marker ID: 4\n",
      "Marker ID: 0\n",
      "Marker ID: 3\n",
      "{'var_1': array([-22.51567446,  21.01413126,  50.22127904]), 'var_0': array([-17.3329047 , -15.84969631,  35.3063755 ])}\n",
      "60\n",
      "\n"
     ]
    },
    {
     "name": "stderr",
     "output_type": "stream",
     "text": [
      "[ WARN:0] global ./modules/videoio/src/cap_gstreamer.cpp (1100) open OpenCV | GStreamer warning: Cannot query video position: status=0, value=-1, duration=-1\n",
      "[ WARN:0] global ./modules/videoio/src/cap_gstreamer.cpp (1100) open OpenCV | GStreamer warning: Cannot query video position: status=0, value=-1, duration=-1\n"
     ]
    },
    {
     "name": "stdout",
     "output_type": "stream",
     "text": [
      "Marker ID: 3\n",
      "{'var_0': array([-17.3329047 , -15.84969631,  35.3063755 ])}\n",
      "\u0001\u0001\u0001\u0001X target:\n",
      "\n"
     ]
    },
    {
     "name": "stderr",
     "output_type": "stream",
     "text": [
      "[ WARN:0] global ./modules/videoio/src/cap_gstreamer.cpp (1100) open OpenCV | GStreamer warning: Cannot query video position: status=0, value=-1, duration=-1\n",
      "[ WARN:0] global ./modules/videoio/src/cap_gstreamer.cpp (1100) open OpenCV | GStreamer warning: Cannot query video position: status=0, value=-1, duration=-1\n"
     ]
    },
    {
     "name": "stdout",
     "output_type": "stream",
     "text": [
      "Marker ID: 0\n",
      "Marker ID: 3\n",
      "{'var_0': array([-17.3329047 , -15.84969631,  35.3063755 ])}\n",
      "00\n",
      "\n"
     ]
    },
    {
     "name": "stderr",
     "output_type": "stream",
     "text": [
      "[ WARN:0] global ./modules/videoio/src/cap_gstreamer.cpp (1100) open OpenCV | GStreamer warning: Cannot query video position: status=0, value=-1, duration=-1\n",
      "[ WARN:0] global ./modules/videoio/src/cap_gstreamer.cpp (1100) open OpenCV | GStreamer warning: Cannot query video position: status=0, value=-1, duration=-1\n"
     ]
    },
    {
     "name": "stdout",
     "output_type": "stream",
     "text": [
      "Marker ID: 3\n",
      "{'var_0': array([-17.3329047 , -15.84969631,  35.3063755 ])}\n",
      " target:\n",
      "\n"
     ]
    },
    {
     "name": "stderr",
     "output_type": "stream",
     "text": [
      "[ WARN:0] global ./modules/videoio/src/cap_gstreamer.cpp (1100) open OpenCV | GStreamer warning: Cannot query video position: status=0, value=-1, duration=-1\n",
      "[ WARN:0] global ./modules/videoio/src/cap_gstreamer.cpp (1100) open OpenCV | GStreamer warning: Cannot query video position: status=0, value=-1, duration=-1\n"
     ]
    },
    {
     "name": "stdout",
     "output_type": "stream",
     "text": [
      "Marker ID: 3\n",
      "{'var_0': array([-17.3329047 , -15.84969631,  35.3063755 ])}\n",
      "80\n",
      "\n"
     ]
    },
    {
     "name": "stderr",
     "output_type": "stream",
     "text": [
      "[ WARN:0] global ./modules/videoio/src/cap_gstreamer.cpp (1100) open OpenCV | GStreamer warning: Cannot query video position: status=0, value=-1, duration=-1\n",
      "[ WARN:0] global ./modules/videoio/src/cap_gstreamer.cpp (1100) open OpenCV | GStreamer warning: Cannot query video position: status=0, value=-1, duration=-1\n"
     ]
    },
    {
     "name": "stdout",
     "output_type": "stream",
     "text": [
      "Marker ID: 0\n",
      "Marker ID: 3\n",
      "{'var_0': array([-17.3329047 , -15.84969631,  35.3063755 ])}\n"
     ]
    },
    {
     "name": "stderr",
     "output_type": "stream",
     "text": [
      "[ WARN:0] global ./modules/videoio/src/cap_gstreamer.cpp (1100) open OpenCV | GStreamer warning: Cannot query video position: status=0, value=-1, duration=-1\n",
      "[ WARN:0] global ./modules/videoio/src/cap_gstreamer.cpp (1100) open OpenCV | GStreamer warning: Cannot query video position: status=0, value=-1, duration=-1\n"
     ]
    },
    {
     "name": "stdout",
     "output_type": "stream",
     "text": [
      "Marker ID: 3\n",
      "{'var_0': array([-17.3329047 , -15.84969631,  35.3063755 ])}\n"
     ]
    },
    {
     "name": "stderr",
     "output_type": "stream",
     "text": [
      "[ WARN:0] global ./modules/videoio/src/cap_gstreamer.cpp (1100) open OpenCV | GStreamer warning: Cannot query video position: status=0, value=-1, duration=-1\n",
      "[ WARN:0] global ./modules/videoio/src/cap_gstreamer.cpp (1100) open OpenCV | GStreamer warning: Cannot query video position: status=0, value=-1, duration=-1\n"
     ]
    },
    {
     "name": "stdout",
     "output_type": "stream",
     "text": [
      "Marker ID: 3\n",
      "{'var_0': array([-17.3329047 , -15.84969631,  35.3063755 ])}\n"
     ]
    },
    {
     "name": "stderr",
     "output_type": "stream",
     "text": [
      "[ WARN:0] global ./modules/videoio/src/cap_gstreamer.cpp (1100) open OpenCV | GStreamer warning: Cannot query video position: status=0, value=-1, duration=-1\n",
      "[ WARN:0] global ./modules/videoio/src/cap_gstreamer.cpp (1100) open OpenCV | GStreamer warning: Cannot query video position: status=0, value=-1, duration=-1\n"
     ]
    },
    {
     "name": "stdout",
     "output_type": "stream",
     "text": [
      "Marker ID: 0\n",
      "Marker ID: 3\n",
      "{'var_0': array([-17.3329047 , -15.84969631,  35.3063755 ])}\n"
     ]
    },
    {
     "name": "stderr",
     "output_type": "stream",
     "text": [
      "[ WARN:0] global ./modules/videoio/src/cap_gstreamer.cpp (1100) open OpenCV | GStreamer warning: Cannot query video position: status=0, value=-1, duration=-1\n",
      "[ WARN:0] global ./modules/videoio/src/cap_gstreamer.cpp (1100) open OpenCV | GStreamer warning: Cannot query video position: status=0, value=-1, duration=-1\n"
     ]
    },
    {
     "name": "stdout",
     "output_type": "stream",
     "text": [
      "Marker ID: 4\n",
      "Marker ID: 0\n",
      "Marker ID: 3\n",
      "{'var_1': array([-25.89096506,  21.31954041,  50.14227537]), 'var_0': array([-17.3329047 , -15.84969631,  35.3063755 ])}\n"
     ]
    },
    {
     "name": "stderr",
     "output_type": "stream",
     "text": [
      "[ WARN:0] global ./modules/videoio/src/cap_gstreamer.cpp (1100) open OpenCV | GStreamer warning: Cannot query video position: status=0, value=-1, duration=-1\n",
      "[ WARN:0] global ./modules/videoio/src/cap_gstreamer.cpp (1100) open OpenCV | GStreamer warning: Cannot query video position: status=0, value=-1, duration=-1\n"
     ]
    },
    {
     "name": "stdout",
     "output_type": "stream",
     "text": [
      "Marker ID: 3\n",
      "{'var_0': array([-17.3329047 , -15.84969631,  35.3063755 ])}\n"
     ]
    },
    {
     "name": "stderr",
     "output_type": "stream",
     "text": [
      "[ WARN:0] global ./modules/videoio/src/cap_gstreamer.cpp (1100) open OpenCV | GStreamer warning: Cannot query video position: status=0, value=-1, duration=-1\n",
      "[ WARN:0] global ./modules/videoio/src/cap_gstreamer.cpp (1100) open OpenCV | GStreamer warning: Cannot query video position: status=0, value=-1, duration=-1\n"
     ]
    },
    {
     "name": "stdout",
     "output_type": "stream",
     "text": [
      "Marker ID: 3\n",
      "{'var_0': array([-17.43412248, -15.96581372,  35.48852863])}\n"
     ]
    },
    {
     "name": "stderr",
     "output_type": "stream",
     "text": [
      "[ WARN:0] global ./modules/videoio/src/cap_gstreamer.cpp (1100) open OpenCV | GStreamer warning: Cannot query video position: status=0, value=-1, duration=-1\n",
      "[ WARN:0] global ./modules/videoio/src/cap_gstreamer.cpp (1100) open OpenCV | GStreamer warning: Cannot query video position: status=0, value=-1, duration=-1\n"
     ]
    },
    {
     "name": "stdout",
     "output_type": "stream",
     "text": [
      "Marker ID: 4\n",
      "Marker ID: 0\n",
      "Marker ID: 3\n",
      "{'var_1': array([-22.45159031,  20.85973405,  50.0828341 ]), 'var_0': array([-17.3329047 , -15.84969631,  35.3063755 ])}\n"
     ]
    },
    {
     "name": "stderr",
     "output_type": "stream",
     "text": [
      "[ WARN:0] global ./modules/videoio/src/cap_gstreamer.cpp (1100) open OpenCV | GStreamer warning: Cannot query video position: status=0, value=-1, duration=-1\n",
      "[ WARN:0] global ./modules/videoio/src/cap_gstreamer.cpp (1100) open OpenCV | GStreamer warning: Cannot query video position: status=0, value=-1, duration=-1\n"
     ]
    },
    {
     "name": "stdout",
     "output_type": "stream",
     "text": [
      "Marker ID: 4\n",
      "Marker ID: 0\n",
      "Marker ID: 3\n",
      "{'var_1': array([-20.33680448,  20.74936308,  50.36041168]), 'var_0': array([-17.3329047 , -15.84969631,  35.3063755 ])}\n"
     ]
    },
    {
     "name": "stderr",
     "output_type": "stream",
     "text": [
      "[ WARN:0] global ./modules/videoio/src/cap_gstreamer.cpp (1100) open OpenCV | GStreamer warning: Cannot query video position: status=0, value=-1, duration=-1\n",
      "[ WARN:0] global ./modules/videoio/src/cap_gstreamer.cpp (1100) open OpenCV | GStreamer warning: Cannot query video position: status=0, value=-1, duration=-1\n"
     ]
    },
    {
     "name": "stdout",
     "output_type": "stream",
     "text": [
      "Marker ID: 4\n",
      "Marker ID: 0\n",
      "Marker ID: 3\n",
      "{'var_1': array([-19.17340237,  20.53519228,  50.12363111]), 'var_0': array([-17.3329047 , -15.84969631,  35.3063755 ])}\n"
     ]
    },
    {
     "name": "stderr",
     "output_type": "stream",
     "text": [
      "[ WARN:0] global ./modules/videoio/src/cap_gstreamer.cpp (1100) open OpenCV | GStreamer warning: Cannot query video position: status=0, value=-1, duration=-1\n",
      "[ WARN:0] global ./modules/videoio/src/cap_gstreamer.cpp (1100) open OpenCV | GStreamer warning: Cannot query video position: status=0, value=-1, duration=-1\n"
     ]
    },
    {
     "name": "stdout",
     "output_type": "stream",
     "text": [
      "Marker ID: 4\n",
      "Marker ID: 3\n",
      "{'var_1': array([-19.48545867,  20.87313446,  51.01404353]), 'var_0': array([-17.3329047 , -15.84969631,  35.3063755 ])}\n"
     ]
    },
    {
     "name": "stderr",
     "output_type": "stream",
     "text": [
      "[ WARN:0] global ./modules/videoio/src/cap_gstreamer.cpp (1100) open OpenCV | GStreamer warning: Cannot query video position: status=0, value=-1, duration=-1\n",
      "[ WARN:0] global ./modules/videoio/src/cap_gstreamer.cpp (1100) open OpenCV | GStreamer warning: Cannot query video position: status=0, value=-1, duration=-1\n"
     ]
    },
    {
     "name": "stdout",
     "output_type": "stream",
     "text": [
      "Marker ID: 4\n",
      "Marker ID: 3\n",
      "{'var_1': array([-18.24517374,  20.63074519,  50.55016909]), 'var_0': array([-17.3329047 , -15.84969631,  35.3063755 ])}\n"
     ]
    },
    {
     "name": "stderr",
     "output_type": "stream",
     "text": [
      "[ WARN:0] global ./modules/videoio/src/cap_gstreamer.cpp (1100) open OpenCV | GStreamer warning: Cannot query video position: status=0, value=-1, duration=-1\n",
      "[ WARN:0] global ./modules/videoio/src/cap_gstreamer.cpp (1100) open OpenCV | GStreamer warning: Cannot query video position: status=0, value=-1, duration=-1\n"
     ]
    },
    {
     "name": "stdout",
     "output_type": "stream",
     "text": [
      "Marker ID: 4\n",
      "Marker ID: 0\n",
      "Marker ID: 3\n",
      "{'var_1': array([-18.55873397,  21.00610169,  51.47399595]), 'var_0': array([-17.3329047 , -15.84969631,  35.3063755 ])}\n"
     ]
    },
    {
     "name": "stderr",
     "output_type": "stream",
     "text": [
      "[ WARN:0] global ./modules/videoio/src/cap_gstreamer.cpp (1100) open OpenCV | GStreamer warning: Cannot query video position: status=0, value=-1, duration=-1\n",
      "[ WARN:0] global ./modules/videoio/src/cap_gstreamer.cpp (1100) open OpenCV | GStreamer warning: Cannot query video position: status=0, value=-1, duration=-1\n"
     ]
    },
    {
     "name": "stdout",
     "output_type": "stream",
     "text": [
      "Marker ID: 4\n",
      "Marker ID: 3\n",
      "{'var_1': array([-16.57408963,  21.01198547,  52.01241782]), 'var_0': array([-17.3329047 , -15.84969631,  35.3063755 ])}\n"
     ]
    },
    {
     "name": "stderr",
     "output_type": "stream",
     "text": [
      "[ WARN:0] global ./modules/videoio/src/cap_gstreamer.cpp (1100) open OpenCV | GStreamer warning: Cannot query video position: status=0, value=-1, duration=-1\n",
      "[ WARN:0] global ./modules/videoio/src/cap_gstreamer.cpp (1100) open OpenCV | GStreamer warning: Cannot query video position: status=0, value=-1, duration=-1\n"
     ]
    },
    {
     "name": "stdout",
     "output_type": "stream",
     "text": [
      "Marker ID: 4\n",
      "Marker ID: 0\n",
      "Marker ID: 3\n",
      "{'var_1': array([-16.37626581,  20.82684983,  51.45489269]), 'var_0': array([-17.3329047 , -15.84969631,  35.3063755 ])}\n"
     ]
    },
    {
     "name": "stderr",
     "output_type": "stream",
     "text": [
      "[ WARN:0] global ./modules/videoio/src/cap_gstreamer.cpp (1100) open OpenCV | GStreamer warning: Cannot query video position: status=0, value=-1, duration=-1\n",
      "[ WARN:0] global ./modules/videoio/src/cap_gstreamer.cpp (1100) open OpenCV | GStreamer warning: Cannot query video position: status=0, value=-1, duration=-1\n"
     ]
    },
    {
     "name": "stdout",
     "output_type": "stream",
     "text": [
      "Marker ID: 4\n",
      "Marker ID: 0\n",
      "Marker ID: 3\n",
      "{'var_1': array([-14.50018604,  21.05278219,  52.63619483]), 'var_0': array([-17.3329047 , -15.84969631,  35.3063755 ])}\n"
     ]
    },
    {
     "name": "stderr",
     "output_type": "stream",
     "text": [
      "[ WARN:0] global ./modules/videoio/src/cap_gstreamer.cpp (1100) open OpenCV | GStreamer warning: Cannot query video position: status=0, value=-1, duration=-1\n",
      "[ WARN:0] global ./modules/videoio/src/cap_gstreamer.cpp (1100) open OpenCV | GStreamer warning: Cannot query video position: status=0, value=-1, duration=-1\n"
     ]
    },
    {
     "name": "stdout",
     "output_type": "stream",
     "text": [
      "Marker ID: 4\n",
      "Marker ID: 3\n",
      "{'var_1': array([-14.50018604,  21.05278219,  52.63619483]), 'var_0': array([-17.3329047 , -15.84969631,  35.3063755 ])}\n"
     ]
    },
    {
     "name": "stderr",
     "output_type": "stream",
     "text": [
      "[ WARN:0] global ./modules/videoio/src/cap_gstreamer.cpp (1100) open OpenCV | GStreamer warning: Cannot query video position: status=0, value=-1, duration=-1\n",
      "[ WARN:0] global ./modules/videoio/src/cap_gstreamer.cpp (1100) open OpenCV | GStreamer warning: Cannot query video position: status=0, value=-1, duration=-1\n"
     ]
    },
    {
     "name": "stdout",
     "output_type": "stream",
     "text": [
      "Marker ID: 4\n",
      "Marker ID: 3\n",
      "{'var_1': array([-12.24825571,  20.78704691,  52.42996836]), 'var_0': array([-17.3329047 , -15.84969631,  35.3063755 ])}\n"
     ]
    },
    {
     "name": "stderr",
     "output_type": "stream",
     "text": [
      "[ WARN:0] global ./modules/videoio/src/cap_gstreamer.cpp (1100) open OpenCV | GStreamer warning: Cannot query video position: status=0, value=-1, duration=-1\n",
      "[ WARN:0] global ./modules/videoio/src/cap_gstreamer.cpp (1100) open OpenCV | GStreamer warning: Cannot query video position: status=0, value=-1, duration=-1\n"
     ]
    },
    {
     "name": "stdout",
     "output_type": "stream",
     "text": [
      "Marker ID: 4\n",
      "Marker ID: 0\n",
      "Marker ID: 3\n",
      "{'var_1': array([-10.23241717,  20.845236  ,  53.03225105]), 'var_0': array([-17.3329047 , -15.84969631,  35.3063755 ])}\n"
     ]
    },
    {
     "name": "stderr",
     "output_type": "stream",
     "text": [
      "[ WARN:0] global ./modules/videoio/src/cap_gstreamer.cpp (1100) open OpenCV | GStreamer warning: Cannot query video position: status=0, value=-1, duration=-1\n",
      "[ WARN:0] global ./modules/videoio/src/cap_gstreamer.cpp (1100) open OpenCV | GStreamer warning: Cannot query video position: status=0, value=-1, duration=-1\n"
     ]
    },
    {
     "name": "stdout",
     "output_type": "stream",
     "text": [
      "Marker ID: 4\n",
      "Marker ID: 3\n",
      "{'var_1': array([-10.2410297 ,  20.84131559,  53.07158987]), 'var_0': array([-17.3329047 , -15.84969631,  35.3063755 ])}\n"
     ]
    },
    {
     "name": "stderr",
     "output_type": "stream",
     "text": [
      "[ WARN:0] global ./modules/videoio/src/cap_gstreamer.cpp (1100) open OpenCV | GStreamer warning: Cannot query video position: status=0, value=-1, duration=-1\n",
      "[ WARN:0] global ./modules/videoio/src/cap_gstreamer.cpp (1100) open OpenCV | GStreamer warning: Cannot query video position: status=0, value=-1, duration=-1\n"
     ]
    },
    {
     "name": "stdout",
     "output_type": "stream",
     "text": [
      "Marker ID: 4\n",
      "Marker ID: 3\n",
      "{'var_1': array([-9.15234202, 20.7190086 , 52.93325857]), 'var_0': array([-17.3329047 , -15.84969631,  35.3063755 ])}\n"
     ]
    },
    {
     "name": "stderr",
     "output_type": "stream",
     "text": [
      "[ WARN:0] global ./modules/videoio/src/cap_gstreamer.cpp (1100) open OpenCV | GStreamer warning: Cannot query video position: status=0, value=-1, duration=-1\n",
      "[ WARN:0] global ./modules/videoio/src/cap_gstreamer.cpp (1100) open OpenCV | GStreamer warning: Cannot query video position: status=0, value=-1, duration=-1\n"
     ]
    },
    {
     "name": "stdout",
     "output_type": "stream",
     "text": [
      "Marker ID: 4\n",
      "Marker ID: 3\n",
      "{'var_1': array([-9.15234202, 20.7190086 , 52.93325857]), 'var_0': array([-17.3329047 , -15.84969631,  35.3063755 ])}\n"
     ]
    },
    {
     "name": "stderr",
     "output_type": "stream",
     "text": [
      "[ WARN:0] global ./modules/videoio/src/cap_gstreamer.cpp (1100) open OpenCV | GStreamer warning: Cannot query video position: status=0, value=-1, duration=-1\n",
      "[ WARN:0] global ./modules/videoio/src/cap_gstreamer.cpp (1100) open OpenCV | GStreamer warning: Cannot query video position: status=0, value=-1, duration=-1\n"
     ]
    },
    {
     "name": "stdout",
     "output_type": "stream",
     "text": [
      "Marker ID: 4\n",
      "Marker ID: 3\n",
      "{'var_1': array([-9.15234202, 20.7190086 , 52.93325857]), 'var_0': array([-17.3329047 , -15.84969631,  35.3063755 ])}\n"
     ]
    },
    {
     "name": "stderr",
     "output_type": "stream",
     "text": [
      "[ WARN:0] global ./modules/videoio/src/cap_gstreamer.cpp (1100) open OpenCV | GStreamer warning: Cannot query video position: status=0, value=-1, duration=-1\n",
      "[ WARN:0] global ./modules/videoio/src/cap_gstreamer.cpp (1100) open OpenCV | GStreamer warning: Cannot query video position: status=0, value=-1, duration=-1\n"
     ]
    },
    {
     "name": "stdout",
     "output_type": "stream",
     "text": [
      "Marker ID: 4\n",
      "Marker ID: 3\n",
      "{'var_1': array([-7.24004494, 21.0149477 , 54.19697162]), 'var_0': array([-17.3329047 , -15.84969631,  35.3063755 ])}\n"
     ]
    },
    {
     "name": "stderr",
     "output_type": "stream",
     "text": [
      "[ WARN:0] global ./modules/videoio/src/cap_gstreamer.cpp (1100) open OpenCV | GStreamer warning: Cannot query video position: status=0, value=-1, duration=-1\n",
      "[ WARN:0] global ./modules/videoio/src/cap_gstreamer.cpp (1100) open OpenCV | GStreamer warning: Cannot query video position: status=0, value=-1, duration=-1\n"
     ]
    },
    {
     "name": "stdout",
     "output_type": "stream",
     "text": [
      "Marker ID: 4\n",
      "Marker ID: 17\n",
      "Marker ID: 0\n",
      "Marker ID: 3\n",
      "{'var_1': array([-7.24004494, 21.0149477 , 54.19697162]), 'var_0': array([-17.3329047 , -15.84969631,  35.3063755 ])}\n"
     ]
    },
    {
     "name": "stderr",
     "output_type": "stream",
     "text": [
      "[ WARN:0] global ./modules/videoio/src/cap_gstreamer.cpp (1100) open OpenCV | GStreamer warning: Cannot query video position: status=0, value=-1, duration=-1\n",
      "[ WARN:0] global ./modules/videoio/src/cap_gstreamer.cpp (1100) open OpenCV | GStreamer warning: Cannot query video position: status=0, value=-1, duration=-1\n"
     ]
    },
    {
     "name": "stdout",
     "output_type": "stream",
     "text": [
      "Marker ID: 4\n",
      "Marker ID: 3\n",
      "{'var_1': array([-4.04127231, 20.98766842, 54.73222662]), 'var_0': array([-17.38148783, -15.87925551,  35.37465887])}\n"
     ]
    },
    {
     "name": "stderr",
     "output_type": "stream",
     "text": [
      "[ WARN:0] global ./modules/videoio/src/cap_gstreamer.cpp (1100) open OpenCV | GStreamer warning: Cannot query video position: status=0, value=-1, duration=-1\n",
      "[ WARN:0] global ./modules/videoio/src/cap_gstreamer.cpp (1100) open OpenCV | GStreamer warning: Cannot query video position: status=0, value=-1, duration=-1\n"
     ]
    },
    {
     "name": "stdout",
     "output_type": "stream",
     "text": [
      "Marker ID: 4\n",
      "Marker ID: 0\n",
      "Marker ID: 3\n",
      "{'var_1': array([-3.99107239, 20.6699371 , 53.78795568]), 'var_0': array([-17.3329047 , -15.84969631,  35.3063755 ])}\n"
     ]
    },
    {
     "name": "stderr",
     "output_type": "stream",
     "text": [
      "[ WARN:0] global ./modules/videoio/src/cap_gstreamer.cpp (1100) open OpenCV | GStreamer warning: Cannot query video position: status=0, value=-1, duration=-1\n",
      "[ WARN:0] global ./modules/videoio/src/cap_gstreamer.cpp (1100) open OpenCV | GStreamer warning: Cannot query video position: status=0, value=-1, duration=-1\n"
     ]
    },
    {
     "name": "stdout",
     "output_type": "stream",
     "text": [
      "Marker ID: 4\n",
      "Marker ID: 3\n",
      "{'var_1': array([-1.9607494 , 20.78989086, 54.75253727]), 'var_0': array([-17.3329047 , -15.84969631,  35.3063755 ])}\n"
     ]
    },
    {
     "name": "stderr",
     "output_type": "stream",
     "text": [
      "[ WARN:0] global ./modules/videoio/src/cap_gstreamer.cpp (1100) open OpenCV | GStreamer warning: Cannot query video position: status=0, value=-1, duration=-1\n",
      "[ WARN:0] global ./modules/videoio/src/cap_gstreamer.cpp (1100) open OpenCV | GStreamer warning: Cannot query video position: status=0, value=-1, duration=-1\n"
     ]
    },
    {
     "name": "stdout",
     "output_type": "stream",
     "text": [
      "Marker ID: 4\n",
      "Marker ID: 3\n",
      "{'var_1': array([-1.9607494 , 20.78989086, 54.75253727]), 'var_0': array([-17.3329047 , -15.84969631,  35.3063755 ])}\n"
     ]
    },
    {
     "name": "stderr",
     "output_type": "stream",
     "text": [
      "[ WARN:0] global ./modules/videoio/src/cap_gstreamer.cpp (1100) open OpenCV | GStreamer warning: Cannot query video position: status=0, value=-1, duration=-1\n",
      "[ WARN:0] global ./modules/videoio/src/cap_gstreamer.cpp (1100) open OpenCV | GStreamer warning: Cannot query video position: status=0, value=-1, duration=-1\n"
     ]
    },
    {
     "name": "stdout",
     "output_type": "stream",
     "text": [
      "Marker ID: 4\n",
      "Marker ID: 0\n",
      "Marker ID: 3\n",
      "{'var_1': array([ 0.17641821, 20.45694712, 54.2264984 ]), 'var_0': array([-17.3329047 , -15.84969631,  35.3063755 ])}\n"
     ]
    },
    {
     "name": "stderr",
     "output_type": "stream",
     "text": [
      "[ WARN:0] global ./modules/videoio/src/cap_gstreamer.cpp (1100) open OpenCV | GStreamer warning: Cannot query video position: status=0, value=-1, duration=-1\n",
      "[ WARN:0] global ./modules/videoio/src/cap_gstreamer.cpp (1100) open OpenCV | GStreamer warning: Cannot query video position: status=0, value=-1, duration=-1\n"
     ]
    },
    {
     "name": "stdout",
     "output_type": "stream",
     "text": [
      "Marker ID: 4\n",
      "Marker ID: 0\n",
      "Marker ID: 3\n",
      "{'var_1': array([ 2.26174888, 20.4049443 , 54.49507753]), 'var_0': array([-17.3329047 , -15.84969631,  35.3063755 ])}\n"
     ]
    },
    {
     "name": "stderr",
     "output_type": "stream",
     "text": [
      "[ WARN:0] global ./modules/videoio/src/cap_gstreamer.cpp (1100) open OpenCV | GStreamer warning: Cannot query video position: status=0, value=-1, duration=-1\n",
      "[ WARN:0] global ./modules/videoio/src/cap_gstreamer.cpp (1100) open OpenCV | GStreamer warning: Cannot query video position: status=0, value=-1, duration=-1\n"
     ]
    },
    {
     "name": "stdout",
     "output_type": "stream",
     "text": [
      "Marker ID: 4\n",
      "Marker ID: 3\n",
      "{'var_1': array([ 3.25971157, 20.27641261, 54.41698804]), 'var_0': array([-17.3329047 , -15.84969631,  35.3063755 ])}\n"
     ]
    },
    {
     "name": "stderr",
     "output_type": "stream",
     "text": [
      "[ WARN:0] global ./modules/videoio/src/cap_gstreamer.cpp (1100) open OpenCV | GStreamer warning: Cannot query video position: status=0, value=-1, duration=-1\n",
      "[ WARN:0] global ./modules/videoio/src/cap_gstreamer.cpp (1100) open OpenCV | GStreamer warning: Cannot query video position: status=0, value=-1, duration=-1\n"
     ]
    },
    {
     "name": "stdout",
     "output_type": "stream",
     "text": [
      "Marker ID: 4\n",
      "Marker ID: 3\n",
      "{'var_1': array([ 3.27360593, 20.51506583, 54.99837984]), 'var_0': array([-17.3329047 , -15.84969631,  35.3063755 ])}\n"
     ]
    },
    {
     "name": "stderr",
     "output_type": "stream",
     "text": [
      "[ WARN:0] global ./modules/videoio/src/cap_gstreamer.cpp (1100) open OpenCV | GStreamer warning: Cannot query video position: status=0, value=-1, duration=-1\n",
      "[ WARN:0] global ./modules/videoio/src/cap_gstreamer.cpp (1100) open OpenCV | GStreamer warning: Cannot query video position: status=0, value=-1, duration=-1\n"
     ]
    },
    {
     "name": "stdout",
     "output_type": "stream",
     "text": [
      "Marker ID: 4\n",
      "Marker ID: 3\n",
      "{'var_1': array([ 4.31576682, 20.31768801, 54.72439887]), 'var_0': array([-17.3329047 , -15.84969631,  35.3063755 ])}\n"
     ]
    },
    {
     "name": "stderr",
     "output_type": "stream",
     "text": [
      "[ WARN:0] global ./modules/videoio/src/cap_gstreamer.cpp (1100) open OpenCV | GStreamer warning: Cannot query video position: status=0, value=-1, duration=-1\n",
      "[ WARN:0] global ./modules/videoio/src/cap_gstreamer.cpp (1100) open OpenCV | GStreamer warning: Cannot query video position: status=0, value=-1, duration=-1\n"
     ]
    },
    {
     "name": "stdout",
     "output_type": "stream",
     "text": [
      "Marker ID: 4\n",
      "Marker ID: 3\n",
      "{'var_1': array([ 6.40099863, 20.32108706, 55.00221617]), 'var_0': array([-17.3329047 , -15.84969631,  35.3063755 ])}\n"
     ]
    },
    {
     "name": "stderr",
     "output_type": "stream",
     "text": [
      "[ WARN:0] global ./modules/videoio/src/cap_gstreamer.cpp (1100) open OpenCV | GStreamer warning: Cannot query video position: status=0, value=-1, duration=-1\n",
      "[ WARN:0] global ./modules/videoio/src/cap_gstreamer.cpp (1100) open OpenCV | GStreamer warning: Cannot query video position: status=0, value=-1, duration=-1\n"
     ]
    },
    {
     "name": "stdout",
     "output_type": "stream",
     "text": [
      "Marker ID: 4\n",
      "Marker ID: 0\n",
      "Marker ID: 3\n",
      "{'var_1': array([ 6.40099863, 20.32108706, 55.00221617]), 'var_0': array([-17.3329047 , -15.84969631,  35.3063755 ])}\n",
      "\n",
      "\n"
     ]
    },
    {
     "name": "stderr",
     "output_type": "stream",
     "text": [
      "[ WARN:0] global ./modules/videoio/src/cap_gstreamer.cpp (1100) open OpenCV | GStreamer warning: Cannot query video position: status=0, value=-1, duration=-1\n",
      "[ WARN:0] global ./modules/videoio/src/cap_gstreamer.cpp (1100) open OpenCV | GStreamer warning: Cannot query video position: status=0, value=-1, duration=-1\n"
     ]
    },
    {
     "name": "stdout",
     "output_type": "stream",
     "text": [
      "Marker ID: 4\n",
      "Marker ID: 0\n",
      "Marker ID: 3\n",
      "{'var_1': array([ 6.34964731, 20.11463959, 54.73037987]), 'var_0': array([-17.3329047 , -15.84969631,  35.3063755 ])}\n",
      "\u0001\u0001\u0001\u0001X target:\n",
      "\n"
     ]
    },
    {
     "name": "stderr",
     "output_type": "stream",
     "text": [
      "[ WARN:0] global ./modules/videoio/src/cap_gstreamer.cpp (1100) open OpenCV | GStreamer warning: Cannot query video position: status=0, value=-1, duration=-1\n",
      "[ WARN:0] global ./modules/videoio/src/cap_gstreamer.cpp (1100) open OpenCV | GStreamer warning: Cannot query video position: status=0, value=-1, duration=-1\n"
     ]
    },
    {
     "name": "stdout",
     "output_type": "stream",
     "text": [
      "Marker ID: 4\n",
      "Marker ID: 3\n",
      "{'var_1': array([ 6.34964731, 20.11463959, 54.73037987]), 'var_0': array([-17.3329047 , -15.84969631,  35.3063755 ])}\n",
      "00\n",
      "\n"
     ]
    },
    {
     "name": "stderr",
     "output_type": "stream",
     "text": [
      "[ WARN:0] global ./modules/videoio/src/cap_gstreamer.cpp (1100) open OpenCV | GStreamer warning: Cannot query video position: status=0, value=-1, duration=-1\n",
      "[ WARN:0] global ./modules/videoio/src/cap_gstreamer.cpp (1100) open OpenCV | GStreamer warning: Cannot query video position: status=0, value=-1, duration=-1\n"
     ]
    },
    {
     "name": "stdout",
     "output_type": "stream",
     "text": [
      "Marker ID: 4\n",
      "Marker ID: 3\n",
      "{'var_1': array([ 4.22340587, 20.08495403, 54.32514944]), 'var_0': array([-17.3329047 , -15.84969631,  35.3063755 ])}\n",
      " target:\n",
      "\n"
     ]
    },
    {
     "name": "stderr",
     "output_type": "stream",
     "text": [
      "[ WARN:0] global ./modules/videoio/src/cap_gstreamer.cpp (1100) open OpenCV | GStreamer warning: Cannot query video position: status=0, value=-1, duration=-1\n",
      "[ WARN:0] global ./modules/videoio/src/cap_gstreamer.cpp (1100) open OpenCV | GStreamer warning: Cannot query video position: status=0, value=-1, duration=-1\n"
     ]
    },
    {
     "name": "stdout",
     "output_type": "stream",
     "text": [
      "Marker ID: 4\n",
      "Marker ID: 17\n",
      "Marker ID: 3\n",
      "{'var_1': array([ 4.22340587, 20.08495403, 54.32514944]), 'var_0': array([-17.3329047 , -15.84969631,  35.3063755 ])}\n",
      "10\n",
      "\n"
     ]
    },
    {
     "name": "stderr",
     "output_type": "stream",
     "text": [
      "[ WARN:0] global ./modules/videoio/src/cap_gstreamer.cpp (1100) open OpenCV | GStreamer warning: Cannot query video position: status=0, value=-1, duration=-1\n",
      "[ WARN:0] global ./modules/videoio/src/cap_gstreamer.cpp (1100) open OpenCV | GStreamer warning: Cannot query video position: status=0, value=-1, duration=-1\n"
     ]
    },
    {
     "name": "stdout",
     "output_type": "stream",
     "text": [
      "Marker ID: 4\n",
      "Marker ID: 3\n",
      "{'var_1': array([ 2.10103178, 20.15468199, 54.04957796]), 'var_0': array([-17.3329047 , -15.84969631,  35.3063755 ])}\n",
      "\u0001\u0001\u0001\u0001X target:\n",
      "\n"
     ]
    },
    {
     "name": "stderr",
     "output_type": "stream",
     "text": [
      "[ WARN:0] global ./modules/videoio/src/cap_gstreamer.cpp (1100) open OpenCV | GStreamer warning: Cannot query video position: status=0, value=-1, duration=-1\n",
      "[ WARN:0] global ./modules/videoio/src/cap_gstreamer.cpp (1100) open OpenCV | GStreamer warning: Cannot query video position: status=0, value=-1, duration=-1\n"
     ]
    },
    {
     "name": "stdout",
     "output_type": "stream",
     "text": [
      "Marker ID: 4\n",
      "Marker ID: 3\n",
      "{'var_1': array([ 2.13371073, 20.55552316, 55.13277384]), 'var_0': array([-17.3329047 , -15.84969631,  35.3063755 ])}\n",
      "00\n",
      "\n"
     ]
    },
    {
     "name": "stderr",
     "output_type": "stream",
     "text": [
      "[ WARN:0] global ./modules/videoio/src/cap_gstreamer.cpp (1100) open OpenCV | GStreamer warning: Cannot query video position: status=0, value=-1, duration=-1\n",
      "[ WARN:0] global ./modules/videoio/src/cap_gstreamer.cpp (1100) open OpenCV | GStreamer warning: Cannot query video position: status=0, value=-1, duration=-1\n"
     ]
    },
    {
     "name": "stdout",
     "output_type": "stream",
     "text": [
      "Marker ID: 4\n",
      "Marker ID: 0\n",
      "Marker ID: 3\n",
      "{'var_1': array([1.62747852e-02, 2.02745492e+01, 5.39114529e+01]), 'var_0': array([-17.3329047 , -15.84969631,  35.3063755 ])}\n",
      " target:\n",
      "\n"
     ]
    },
    {
     "name": "stderr",
     "output_type": "stream",
     "text": [
      "[ WARN:0] global ./modules/videoio/src/cap_gstreamer.cpp (1100) open OpenCV | GStreamer warning: Cannot query video position: status=0, value=-1, duration=-1\n",
      "[ WARN:0] global ./modules/videoio/src/cap_gstreamer.cpp (1100) open OpenCV | GStreamer warning: Cannot query video position: status=0, value=-1, duration=-1\n"
     ]
    },
    {
     "name": "stdout",
     "output_type": "stream",
     "text": [
      "Marker ID: 4\n",
      "Marker ID: 0\n",
      "Marker ID: 3\n",
      "{'var_1': array([1.62747852e-02, 2.02745492e+01, 5.39114529e+01]), 'var_0': array([-17.3329047 , -15.84969631,  35.3063755 ])}\n",
      "\n",
      "\n"
     ]
    },
    {
     "ename": "KeyboardInterrupt",
     "evalue": "",
     "output_type": "error",
     "traceback": [
      "\u001b[0;31m---------------------------------------------------------------------------\u001b[0m",
      "\u001b[0;31mKeyboardInterrupt\u001b[0m                         Traceback (most recent call last)",
      "Cell \u001b[0;32mIn[19], line 9\u001b[0m\n\u001b[1;32m      7\u001b[0m output_file \u001b[39m=\u001b[39m \u001b[39m'\u001b[39m\u001b[39mdata_collection4.csv\u001b[39m\u001b[39m'\u001b[39m\n\u001b[1;32m      8\u001b[0m output_folder \u001b[39m=\u001b[39m \u001b[39m\"\u001b[39m\u001b[39moutput_images_new\u001b[39m\u001b[39m\"\u001b[39m\n\u001b[0;32m----> 9\u001b[0m send_cmd_new(ser, mode, start_x, y_range, cam_no_int, cam_no_top)\n",
      "Cell \u001b[0;32mIn[8], line 5\u001b[0m, in \u001b[0;36msend_cmd_new\u001b[0;34m(ser, mode, start_x, y_range, cam_no_int, cam_no_top)\u001b[0m\n\u001b[1;32m      3\u001b[0m \u001b[39mwhile\u001b[39;00m start_x \u001b[39m>\u001b[39m \u001b[39m0\u001b[39m:\n\u001b[1;32m      4\u001b[0m     \u001b[39mfor\u001b[39;00m y \u001b[39min\u001b[39;00m y_range:\n\u001b[0;32m----> 5\u001b[0m         time\u001b[39m.\u001b[39;49msleep(\u001b[39m2\u001b[39;49m)\n\u001b[1;32m      6\u001b[0m         cmd \u001b[39m=\u001b[39m \u001b[39mf\u001b[39m\u001b[39m'\u001b[39m\u001b[39m{\u001b[39;00mmode\u001b[39m}\u001b[39;00m\u001b[39m \u001b[39m\u001b[39m{\u001b[39;00mstart_x\u001b[39m}\u001b[39;00m\u001b[39m \u001b[39m\u001b[39m{\u001b[39;00my\u001b[39m}\u001b[39;00m\u001b[39m'\u001b[39m\n\u001b[1;32m      7\u001b[0m         count \u001b[39m+\u001b[39m\u001b[39m=\u001b[39m \u001b[39m1\u001b[39m\n",
      "\u001b[0;31mKeyboardInterrupt\u001b[0m: "
     ]
    }
   ],
   "source": [
    "if __name__ == \"__main__\":\n",
    "    mode = '2'\n",
    "    start_x = 200\n",
    "    cam_no_int = 11#14\n",
    "    cam_no_top = 13#6\n",
    "    y_range = range(0, 350, 10)\n",
    "    output_file = 'data_collection4.csv'\n",
    "    output_folder = \"output_images_new\"\n",
    "    send_cmd_new(ser, mode, start_x, y_range, cam_no_int, cam_no_top)"
   ]
  },
  {
   "cell_type": "code",
   "execution_count": null,
   "metadata": {},
   "outputs": [],
   "source": []
  },
  {
   "cell_type": "code",
   "execution_count": null,
   "metadata": {},
   "outputs": [],
   "source": []
  },
  {
   "cell_type": "code",
   "execution_count": null,
   "metadata": {},
   "outputs": [],
   "source": []
  },
  {
   "cell_type": "code",
   "execution_count": null,
   "metadata": {},
   "outputs": [],
   "source": []
  }
 ],
 "metadata": {
  "kernelspec": {
   "display_name": "Python 3",
   "language": "python",
   "name": "python3"
  },
  "language_info": {
   "codemirror_mode": {
    "name": "ipython",
    "version": 3
   },
   "file_extension": ".py",
   "mimetype": "text/x-python",
   "name": "python",
   "nbconvert_exporter": "python",
   "pygments_lexer": "ipython3",
   "version": "3.10.6"
  },
  "orig_nbformat": 4,
  "vscode": {
   "interpreter": {
    "hash": "916dbcbb3f70747c44a77c7bcd40155683ae19c65e1c03b4aa3499c5328201f1"
   }
  }
 },
 "nbformat": 4,
 "nbformat_minor": 2
}
