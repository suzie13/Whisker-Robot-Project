{
 "cells": [
  {
   "cell_type": "code",
   "execution_count": 17,
   "metadata": {},
   "outputs": [],
   "source": [
    "import serial\n",
    "import serial.tools.list_ports\n",
    "import time\n",
    "import csv\n",
    "from datetime import datetime\n"
   ]
  },
  {
   "cell_type": "code",
   "execution_count": 32,
   "metadata": {},
   "outputs": [],
   "source": [
    "BAUD_RATE = 9600\n",
    "ser = serial.Serial('/dev/ttyACM0', BAUD_RATE)\n",
    "\n",
    "# Generate a timestamp for the file name\n",
    "timestamp = datetime.now().strftime(\"%Y%m%d%H%M%S\")\n",
    "\n",
    "# Open the CSV file with the timestamp in the file name\n",
    "file_name = f\"steps_{timestamp}.csv\"\n",
    "file = open(file_name, 'w', newline='')\n",
    "csv_writer = csv.writer(file)\n",
    "csv_writer.writerow(['Timestamp', 'Mode', 'Plotter X', 'Plotter Y'])\n",
    "\n",
    "def connect():\n",
    "    # connect to Arduino\n",
    "    ports = list(serial.tools.list_ports.comports())  # Create a list with info for all devices\n",
    "    connected = False\n",
    "    # Look for the word 'Arduino' in device info, store this port\n",
    "    for p in ports:\n",
    "        if \"Arduino\" in p[1]:\n",
    "            connected = True\n",
    "            port_arduino = p[0]\n",
    "            print(\"Connected to Arduino on port: \", port_arduino)\n",
    "            break\n",
    "    if not connected:\n",
    "        print(\"No Arduino Found\")\n",
    "\n",
    "    ser = serial.Serial(port_arduino, BAUD_RATE)\n",
    "    return ser\n",
    "\n",
    "\n",
    "def send_cmd(ser, cmd):\n",
    "    \"\"\"\n",
    "    send string command to Arduino\n",
    "\n",
    "    :param cmd: (string) command to send\n",
    "    :return:\n",
    "    \"\"\"\n",
    "    timestamp = datetime.now().strftime(\"%Y-%m-%d %H:%M:%S\")\n",
    "\n",
    "    # Write the command to the CSV file\n",
    "    csv_writer.writerow([timestamp, cmd])\n",
    "\n",
    "    for c in cmd:\n",
    "        ser.write(c.encode())\n",
    "        time.sleep(.01)\n",
    "    ser.write('\\r'.encode())\n",
    "    time.sleep(.01)\n",
    "\n",
    "\n",
    "def clear_buff(ser):\n",
    "    while ser.in_waiting:\n",
    "        ser.read()\n",
    "\n",
    "\n",
    "def read_char(ser):\n",
    "    # use Serial.print() on Arduino\n",
    "    c = ser.read().decode()\n",
    "    return c\n",
    "\n",
    "\n",
    "# ser = connect()\n",
    "# clear_buff(ser)\n",
    "# send_cmd(ser, ' ')\n",
    "# ser.write(b' \\n')\n",
    "# clear_buff(ser)\n",
    "# send_cmd(ser, '2 200 200')\n",
    "\n",
    "# # Close the file after executing the script\n",
    "# file.close()\n"
   ]
  },
  {
   "cell_type": "code",
   "execution_count": null,
   "metadata": {},
   "outputs": [],
   "source": []
  },
  {
   "cell_type": "code",
   "execution_count": 19,
   "metadata": {},
   "outputs": [
    {
     "name": "stdout",
     "output_type": "stream",
     "text": [
      "Connected to Arduino on port:  /dev/ttyACM0\n"
     ]
    }
   ],
   "source": [
    "ser = connect()"
   ]
  },
  {
   "cell_type": "code",
   "execution_count": 33,
   "metadata": {},
   "outputs": [],
   "source": [
    "send_cmd(ser, ' ')\n"
   ]
  },
  {
   "cell_type": "code",
   "execution_count": 21,
   "metadata": {},
   "outputs": [],
   "source": [
    "clear_buff(ser)\n",
    "send_cmd(ser, ' ')\n",
    "ser.write(b' \\n')\n",
    "clear_buff(ser)\n",
    "send_cmd(ser, '2 200 200')\n"
   ]
  },
  {
   "cell_type": "code",
   "execution_count": 46,
   "metadata": {},
   "outputs": [],
   "source": [
    "send_cmd(ser, '2 200 200')\n"
   ]
  },
  {
   "cell_type": "code",
   "execution_count": 43,
   "metadata": {},
   "outputs": [],
   "source": [
    "send_cmd(ser, '2 100 50')\n"
   ]
  },
  {
   "cell_type": "code",
   "execution_count": 44,
   "metadata": {},
   "outputs": [],
   "source": [
    "send_cmd(ser, '2 50 50')"
   ]
  },
  {
   "cell_type": "code",
   "execution_count": 45,
   "metadata": {},
   "outputs": [],
   "source": [
    "send_cmd(ser, '2 130 80')\n"
   ]
  },
  {
   "cell_type": "code",
   "execution_count": 25,
   "metadata": {},
   "outputs": [],
   "source": [
    "send_cmd(ser, '2 180 160')\n"
   ]
  },
  {
   "cell_type": "code",
   "execution_count": null,
   "metadata": {},
   "outputs": [],
   "source": [
    "send_cmd(ser, '2 100 100')"
   ]
  },
  {
   "cell_type": "code",
   "execution_count": 27,
   "metadata": {},
   "outputs": [],
   "source": [
    "send_cmd(ser, '2 200 50')"
   ]
  },
  {
   "cell_type": "code",
   "execution_count": 30,
   "metadata": {},
   "outputs": [],
   "source": [
    "# Close the file after executing the script\n",
    "file.close()"
   ]
  }
 ],
 "metadata": {
  "kernelspec": {
   "display_name": "Python 3",
   "language": "python",
   "name": "python3"
  },
  "language_info": {
   "codemirror_mode": {
    "name": "ipython",
    "version": 3
   },
   "file_extension": ".py",
   "mimetype": "text/x-python",
   "name": "python",
   "nbconvert_exporter": "python",
   "pygments_lexer": "ipython3",
   "version": "3.10.6"
  },
  "orig_nbformat": 4,
  "vscode": {
   "interpreter": {
    "hash": "916dbcbb3f70747c44a77c7bcd40155683ae19c65e1c03b4aa3499c5328201f1"
   }
  }
 },
 "nbformat": 4,
 "nbformat_minor": 2
}
