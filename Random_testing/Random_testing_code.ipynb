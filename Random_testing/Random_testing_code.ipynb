{
 "cells": [
  {
   "cell_type": "code",
   "execution_count": 1,
   "metadata": {},
   "outputs": [],
   "source": [
    "import serial\n",
    "import serial.tools.list_ports\n",
    "import time\n",
    "import os\n",
    "import cv2\n",
    "import csv\n",
    "import numpy as np\n",
    "from datetime import datetime\n"
   ]
  },
  {
   "cell_type": "code",
   "execution_count": 2,
   "metadata": {},
   "outputs": [],
   "source": [
    "# BAUD_RATE = 9600"
   ]
  },
  {
   "cell_type": "code",
   "execution_count": 3,
   "metadata": {},
   "outputs": [],
   "source": [
    "# def connect():\n",
    "#     # connect to Arduino\n",
    "#     ports = list(serial.tools.list_ports.comports())  # Create a list with info for all devices\n",
    "#     connected = False\n",
    "#     # Look for the word 'Arduino' in device info, store this port\n",
    "#     for p in ports:\n",
    "#         if \"Arduino\" in p[1]:\n",
    "#             connected = True\n",
    "#             port_arduino = p[0]\n",
    "#             print(\"Connected to Arduino on port: \", port_arduino)\n",
    "#             break\n",
    "#     if not connected:\n",
    "#         print(\"No Arduino Found\")\n",
    "\n",
    "#     ser = serial.Serial(port_arduino, BAUD_RATE)\n",
    "#     return ser"
   ]
  },
  {
   "cell_type": "code",
   "execution_count": 5,
   "metadata": {},
   "outputs": [],
   "source": [
    "# BAUD_RATE = 9600\n",
    "# ser = serial.Serial('/dev/ttyACM1', BAUD_RATE)\n",
    "\n",
    "# def connect():\n",
    "#     # connect to Arduino\n",
    "#     ports = list(serial.tools.list_ports.comports())  # Create a list with info for all devices\n",
    "#     connected = False\n",
    "#     # Look for the word 'Arduino' in device info, store this port\n",
    "#     for p in ports:\n",
    "#         if \"Arduino\" in p[1]:\n",
    "#             connected = True\n",
    "#             port_arduino = p[0]\n",
    "#             print(\"Connected to Arduino on port: \", port_arduino)\n",
    "#             break\n",
    "#     if not connected:\n",
    "#         print(\"No Arduino Found\")\n",
    "\n",
    "#     ser = serial.Serial(port_arduino, BAUD_RATE)\n",
    "#     return ser\n",
    "\n",
    "\n",
    "# def send_cmd(ser,cmd):\n",
    "#     \"\"\"\n",
    "#     send string command to Arduino\n",
    "\n",
    "#     :param cmd: (string) command to send\n",
    "#     :return:\n",
    "#     \"\"\"\n",
    "#     # print(cmd)\n",
    "#     for c in cmd:\n",
    "#         # self.ser.write(c.encode())\n",
    "#         ser.write(c.encode())\n",
    "#         time.sleep(.01)\n",
    "#     ser.write('\\r'.encode())\n",
    "#     time.sleep(.01)\n",
    "\n",
    "# def clear_buff(ser):\n",
    "#     while ser.in_waiting:\n",
    "#         ser.read()\n",
    "\n",
    "# def read_char(ser):\n",
    "#     # use Serial.print() on Arduino\n",
    "#     c = ser.read().decode()\n",
    "#     return c\n"
   ]
  },
  {
   "cell_type": "code",
   "execution_count": 4,
   "metadata": {},
   "outputs": [
    {
     "name": "stdout",
     "output_type": "stream",
     "text": [
      "Connected to Arduino on port:  /dev/ttyACM1\n"
     ]
    }
   ],
   "source": [
    "# ser = connect()"
   ]
  },
  {
   "cell_type": "code",
   "execution_count": 7,
   "metadata": {},
   "outputs": [],
   "source": [
    "# clear_buff(ser)\n",
    "# send_cmd(ser, ' ')\n",
    "# ser.write(b' \\n') \n",
    "# clear_buff(ser)"
   ]
  },
  {
   "cell_type": "code",
   "execution_count": 10,
   "metadata": {},
   "outputs": [],
   "source": [
    "# send_cmd(ser, '2 180 0')"
   ]
  },
  {
   "cell_type": "code",
   "execution_count": 2,
   "metadata": {},
   "outputs": [],
   "source": [
    "import datetime\n",
    "def get_datetime_str():\n",
    "    \"\"\"\n",
    "\n",
    "    :return: returns current datetime as a string with format yyyy-mm-dd-HH-MM-SS-UUUUUU\n",
    "    \"\"\"\n",
    "    date_time = datetime.datetime.now()\n",
    "    time_str = str(date_time.time()).split('.') # Get string with just hh:mm:ss\n",
    "    time_str = time_str[0] + ':'+time_str[1]\n",
    "    time_str = time_str.replace(':', '-')  # Now hh-mm-ss\n",
    "    date_str = str(date_time.date())  # Date in format yyyy-mm-dd\n",
    "    date_time_str = '-'.join([date_str, time_str])\n",
    "    return date_time_str"
   ]
  },
  {
   "cell_type": "code",
   "execution_count": 4,
   "metadata": {},
   "outputs": [],
   "source": [
    "def coordinates_new(cam_no):\n",
    "    camera_matrix = np.array([[682.694, 0, 573.5379], [0, 675.82, 367.535], [0, 0, 1]])\n",
    "    dist_coeffs = np.array([-0.119, 0.1449, 0.0019, -0.00689, -0.1701])\n",
    "\n",
    "    aruco_dict = cv2.aruco.getPredefinedDictionary(cv2.aruco.DICT_4X4_50)\n",
    "    marker_size = 2.6  # or 2.61\n",
    "\n",
    "        # Function to calculate marker pose\n",
    "    def estimate_marker_pose(marker_corners):\n",
    "        rvecs, tvecs, _ = cv2.aruco.estimatePoseSingleMarkers(marker_corners, marker_size, camera_matrix, dist_coeffs)\n",
    "        return rvecs, tvecs\n",
    "    cap = cv2.VideoCapture(cam_no)\n",
    "    output_file = 'Randon_testing_data.csv'\n",
    "    with open(output_file, mode='a', newline='') as file:\n",
    "        writer = csv.writer(file)\n",
    "        ret, frame = cap.read()  # Capture a single frame\n",
    "        cap.release()  # Release the capture device\n",
    "\n",
    "        if ret:\n",
    "            gray = cv2.cvtColor(frame, cv2.COLOR_BGR2GRAY)\n",
    "            corners, ids, _ = cv2.aruco.detectMarkers(gray, aruco_dict)\n",
    "\n",
    "            if ids is not None:\n",
    "                rvecs, tvecs = estimate_marker_pose(corners)\n",
    "                values = {}\n",
    "                for i in range(len(ids)):\n",
    "                    cv2.aruco.drawDetectedMarkers(frame, corners)\n",
    "                    cv2.aruco.drawAxis(frame, camera_matrix, dist_coeffs, rvecs[i], tvecs[i], marker_size * 0.5)\n",
    "                    # x, y, z = tvecs[0][0] - tvecs[1][0]\n",
    "                    if ids[i][0] == 3: # that is the robot wrt top cam\n",
    "                        variable_name = \"var_0\"\n",
    "                        values[variable_name] = tvecs[i][0]\n",
    "                    elif ids[i][0] == 4:\n",
    "                        variable_name = \"var_1\"\n",
    "                        values[variable_name] = tvecs[i][0]\n",
    "                    # variable_name = \"var_\" + str(i)\n",
    "                    # values[variable_name] = tvecs[i][0]\n",
    "                    print(\"Marker ID:\", ids[i][0])\n",
    "                    # print(\"Position (x, y):\", x, y)\n",
    "                print(values)\n",
    "                if len(values) == 2:\n",
    "                    x, y, z = values['var_0'] - values['var_1'] #check obj wrt R is (what minus what)\n",
    "                else:\n",
    "                    x = y = z = float(\"NaN\")\n",
    "                timestamp = get_datetime_str()\n",
    "                writer.writerow([timestamp, x, y])\n",
    "\n",
    "            cv2.imshow(\"ArUco Marker Detection\", frame)\n",
    "        # cv2.waitKey(0)\n",
    "\n",
    "    cv2.destroyAllWindows()"
   ]
  },
  {
   "cell_type": "code",
   "execution_count": 12,
   "metadata": {},
   "outputs": [
    {
     "name": "stdout",
     "output_type": "stream",
     "text": [
      "Marker ID: 4\n",
      "Marker ID: 3\n",
      "{'var_1': array([-15.30554252,  11.64165526,  52.1180117 ]), 'var_0': array([-13.02163241, -13.5077895 ,  38.98487807])}\n"
     ]
    },
    {
     "name": "stderr",
     "output_type": "stream",
     "text": [
      "[ WARN:0] global ./modules/videoio/src/cap_gstreamer.cpp (1100) open OpenCV | GStreamer warning: Cannot query video position: status=0, value=-1, duration=-1\n"
     ]
    }
   ],
   "source": [
    "coordinates_new(14)"
   ]
  },
  {
   "attachments": {},
   "cell_type": "markdown",
   "metadata": {},
   "source": [
    "# Note: Manually add direction (left/right) and type (contact/ non-contact) in the csv file, and note down the serial number.\n",
    "# Save the image manually with the same serial no. name for testing convenience"
   ]
  },
  {
   "cell_type": "code",
   "execution_count": 9,
   "metadata": {},
   "outputs": [],
   "source": [
    "import cv2\n",
    "from cv2 import aruco\n",
    "def show_marker():\n",
    "    # ### Overlay marker ID and video ###\n",
    "    dict_aruco = aruco.Dictionary_get(aruco.DICT_4X4_50)\n",
    "    parameters = aruco.DetectorParameters_create()\n",
    "\n",
    "    cap = cv2.VideoCapture(6)\n",
    "\n",
    "    try:\n",
    "        while True:\n",
    "            ret, frame = cap.read()\n",
    "            gray = cv2.cvtColor(frame, cv2.COLOR_RGB2GRAY)\n",
    "\n",
    "            corners, ids, rejectedImgPoints = aruco.detectMarkers(gray, dict_aruco, parameters=parameters)\n",
    "\n",
    "            frame_markers = aruco.drawDetectedMarkers(frame.copy(), corners, ids)\n",
    "            cv2.imshow('frame', frame_markers)\n",
    "            if cv2.waitKey(1) & 0xFF == ord('q'):\n",
    "                break\n",
    "        cv2.destroyWindow('frame')\n",
    "        cap.release()\n",
    "    except KeyboardInterrupt:\n",
    "        cv2.destroyWindow('frame')\n",
    "        cap.release()\n"
   ]
  },
  {
   "cell_type": "code",
   "execution_count": null,
   "metadata": {},
   "outputs": [],
   "source": [
    "show_marker()"
   ]
  },
  {
   "cell_type": "code",
   "execution_count": null,
   "metadata": {},
   "outputs": [],
   "source": [
    "# 14 = top cam,\n",
    "# 12 = Front cam #\n",
    "# 8  = interior cam"
   ]
  }
 ],
 "metadata": {
  "kernelspec": {
   "display_name": "Python 3",
   "language": "python",
   "name": "python3"
  },
  "language_info": {
   "codemirror_mode": {
    "name": "ipython",
    "version": 3
   },
   "file_extension": ".py",
   "mimetype": "text/x-python",
   "name": "python",
   "nbconvert_exporter": "python",
   "pygments_lexer": "ipython3",
   "version": "3.10.6"
  },
  "orig_nbformat": 4,
  "vscode": {
   "interpreter": {
    "hash": "916dbcbb3f70747c44a77c7bcd40155683ae19c65e1c03b4aa3499c5328201f1"
   }
  }
 },
 "nbformat": 4,
 "nbformat_minor": 2
}
