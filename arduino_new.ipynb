{
 "cells": [
  {
   "cell_type": "code",
   "execution_count": 5,
   "metadata": {},
   "outputs": [],
   "source": [
    "import serial\n",
    "import serial.tools.list_ports\n",
    "import time\n",
    "\n",
    "BAUD_RATE = 9600\n",
    "ser = serial.Serial('/dev/ttyACM0', BAUD_RATE)\n",
    "\n",
    "def connect():\n",
    "    # connect to Arduino\n",
    "    ports = list(serial.tools.list_ports.comports())  # Create a list with info for all devices\n",
    "    connected = False\n",
    "    # Look for the word 'Arduino' in device info, store this port\n",
    "    for p in ports:\n",
    "        if \"Arduino\" in p[1]:\n",
    "            connected = True\n",
    "            port_arduino = p[0]\n",
    "            print(\"Connected to Arduino on port: \", port_arduino)\n",
    "            break\n",
    "    if not connected:\n",
    "        print(\"No Arduino Found\")\n",
    "\n",
    "    ser = serial.Serial(port_arduino, BAUD_RATE)\n",
    "    return ser\n",
    "\n",
    "\n",
    "def send_cmd(ser,cmd):\n",
    "    \"\"\"\n",
    "    send string command to Arduino\n",
    "\n",
    "    :param cmd: (string) command to send\n",
    "    :return:\n",
    "    \"\"\"\n",
    "    # print(cmd)\n",
    "    for c in cmd:\n",
    "        # self.ser.write(c.encode())\n",
    "        ser.write(c.encode())\n",
    "        time.sleep(.01)\n",
    "    ser.write('\\r'.encode())\n",
    "    time.sleep(.01)\n",
    "\n",
    "def clear_buff(ser):\n",
    "    while ser.in_waiting:\n",
    "        ser.read()\n",
    "\n",
    "def read_char(ser):\n",
    "    # use Serial.print() on Arduino\n",
    "    c = ser.read().decode()\n",
    "    return c\n",
    "\n",
    "# def read_int(ser):\n",
    "#     # use Serial.write() on arduino\n",
    "#     # unsigned short\n",
    "#     # look at struct library documentation for other data types\n",
    "#     # i = struct.unpack('H', self.ser.read(2))\\\n",
    "#     i = struct.unpack('H', ser.read(2))\n",
    "#     return i\n",
    "\n",
    "\n",
    "# connect()\n",
    "# clear_buff(ser)\n",
    "# send_cmd(ser, ' ')\n",
    "# # ser.write(b)\n",
    "# ser.write(b' \\n') \n",
    "# clear_buff(ser)\n",
    "# send_cmd(ser, '2 200 200')"
   ]
  },
  {
   "cell_type": "code",
   "execution_count": 6,
   "metadata": {},
   "outputs": [
    {
     "name": "stdout",
     "output_type": "stream",
     "text": [
      "Connected to Arduino on port:  /dev/ttyACM0\n"
     ]
    }
   ],
   "source": [
    "ser = connect()"
   ]
  },
  {
   "cell_type": "code",
   "execution_count": 8,
   "metadata": {},
   "outputs": [],
   "source": [
    "clear_buff(ser)\n",
    "send_cmd(ser, ' ')\n",
    "# ser.write(b)\n",
    "ser.write(b' \\n') \n",
    "clear_buff(ser)\n",
    "# send_cmd(ser, '2 200 200')"
   ]
  },
  {
   "cell_type": "code",
   "execution_count": 9,
   "metadata": {},
   "outputs": [],
   "source": [
    "send_cmd(ser, '2 100 200')"
   ]
  },
  {
   "cell_type": "code",
   "execution_count": 11,
   "metadata": {},
   "outputs": [],
   "source": [
    "send_cmd(ser, '2 150 150')\n"
   ]
  }
 ],
 "metadata": {
  "kernelspec": {
   "display_name": "Python 3",
   "language": "python",
   "name": "python3"
  },
  "language_info": {
   "codemirror_mode": {
    "name": "ipython",
    "version": 3
   },
   "file_extension": ".py",
   "mimetype": "text/x-python",
   "name": "python",
   "nbconvert_exporter": "python",
   "pygments_lexer": "ipython3",
   "version": "3.10.6"
  },
  "orig_nbformat": 4,
  "vscode": {
   "interpreter": {
    "hash": "916dbcbb3f70747c44a77c7bcd40155683ae19c65e1c03b4aa3499c5328201f1"
   }
  }
 },
 "nbformat": 4,
 "nbformat_minor": 2
}
